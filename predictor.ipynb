{
  "cells": [
    {
      "cell_type": "code",
      "execution_count": 1,
      "metadata": {
        "id": "6zXPPEWdxkEt"
      },
      "outputs": [],
      "source": [
        "import warnings\n",
        "warnings.filterwarnings(\"ignore\")"
      ]
    },
    {
      "cell_type": "markdown",
      "metadata": {
        "id": "dNR-MjMHxkEw"
      },
      "source": [
        "## Importing Libraries"
      ]
    },
    {
      "cell_type": "markdown",
      "metadata": {
        "id": "smz-g-b1xkEy"
      },
      "source": [
        "### Data Processing and Visualization"
      ]
    },
    {
      "cell_type": "code",
      "execution_count": 2,
      "metadata": {
        "id": "budIECooxkEz"
      },
      "outputs": [],
      "source": [
        "import numpy as np\n",
        "import pandas as pd\n",
        "import matplotlib.pyplot as plt\n",
        "import seaborn as sns"
      ]
    },
    {
      "cell_type": "markdown",
      "metadata": {
        "id": "jBuhmNMaxkEz"
      },
      "source": [
        "### Machine Learning Libraries"
      ]
    },
    {
      "cell_type": "markdown",
      "metadata": {
        "id": "nYz3GZG-xkE0"
      },
      "source": [
        "#### Data Splitting"
      ]
    },
    {
      "cell_type": "code",
      "execution_count": 3,
      "metadata": {
        "id": "xYAY0UzwxkE0"
      },
      "outputs": [],
      "source": [
        "from sklearn.model_selection import train_test_split"
      ]
    },
    {
      "cell_type": "markdown",
      "metadata": {
        "id": "42yVlcAWxkE1"
      },
      "source": [
        "#### Data Pre-processing"
      ]
    },
    {
      "cell_type": "code",
      "execution_count": 4,
      "metadata": {
        "id": "Ekzyux0wxkE2"
      },
      "outputs": [],
      "source": [
        "from sklearn.preprocessing import LabelEncoder\n",
        "from sklearn.preprocessing import StandardScaler"
      ]
    },
    {
      "cell_type": "markdown",
      "source": [
        "#### Sampling"
      ],
      "metadata": {
        "id": "9mc07BPztQBD"
      }
    },
    {
      "cell_type": "code",
      "source": [
        "from imblearn.under_sampling import RandomUnderSampler\n",
        "from imblearn.over_sampling import SMOTE"
      ],
      "metadata": {
        "id": "rcqJA_ogtZzz"
      },
      "execution_count": 5,
      "outputs": []
    },
    {
      "cell_type": "markdown",
      "metadata": {
        "id": "M5d6kMHcxkE2"
      },
      "source": [
        "#### ML Algorithms"
      ]
    },
    {
      "cell_type": "code",
      "execution_count": 6,
      "metadata": {
        "id": "Am5TuTftxkE3"
      },
      "outputs": [],
      "source": [
        "from sklearn.linear_model import LogisticRegression\n",
        "from sklearn.tree import DecisionTreeClassifier\n",
        "from sklearn.ensemble import RandomForestClassifier\n",
        "from sklearn.neighbors import KNeighborsClassifier"
      ]
    },
    {
      "cell_type": "markdown",
      "source": [
        "#### Neural Networks"
      ],
      "metadata": {
        "id": "YuSVxbxE_0LX"
      }
    },
    {
      "cell_type": "code",
      "source": [
        "from keras.models import Sequential\n",
        "from keras.layers import Dense, Dropout\n",
        "from keras.optimizers import Adam\n",
        "from keras import metrics\n",
        "from keras.initializers import Constant"
      ],
      "metadata": {
        "id": "ISLL5zjV_2WG"
      },
      "execution_count": 7,
      "outputs": []
    },
    {
      "cell_type": "markdown",
      "metadata": {
        "id": "hYdnHtvIxkE3"
      },
      "source": [
        "#### Metrics"
      ]
    },
    {
      "cell_type": "code",
      "execution_count": 8,
      "metadata": {
        "id": "HgWmU261xkE4"
      },
      "outputs": [],
      "source": [
        "from sklearn.metrics import accuracy_score, confusion_matrix, classification_report"
      ]
    },
    {
      "cell_type": "markdown",
      "source": [
        "#### Storing Model"
      ],
      "metadata": {
        "id": "3yRcCvedALqd"
      }
    },
    {
      "cell_type": "code",
      "source": [
        "import pickle"
      ],
      "metadata": {
        "id": "HrW1EnwTANjE"
      },
      "execution_count": 9,
      "outputs": []
    },
    {
      "cell_type": "markdown",
      "metadata": {
        "id": "jZCB44GDxkE4"
      },
      "source": [
        "## Loading Train and Test Data"
      ]
    },
    {
      "cell_type": "code",
      "execution_count": 100,
      "metadata": {
        "id": "qm-OrOjuxkE4"
      },
      "outputs": [],
      "source": [
        "train_data = pd.read_csv('data/Training Data.csv')\n",
        "test_data = pd.read_csv('data/Test Data.csv')"
      ]
    },
    {
      "cell_type": "code",
      "execution_count": 11,
      "metadata": {
        "id": "LScY5fi6xkE4",
        "outputId": "b3b31eeb-ae8a-4ec4-dde0-b7f603ed7d83",
        "colab": {
          "base_uri": "https://localhost:8080/",
          "height": 488
        }
      },
      "outputs": [
        {
          "output_type": "execute_result",
          "data": {
            "text/plain": [
              "            Id   Income  Age  Experience Married/Single House_Ownership  \\\n",
              "0            1  1303834   23           3         single          rented   \n",
              "1            2  7574516   40          10         single          rented   \n",
              "2            3  3991815   66           4        married          rented   \n",
              "3            4  6256451   41           2         single          rented   \n",
              "4            5  5768871   47          11         single          rented   \n",
              "...        ...      ...  ...         ...            ...             ...   \n",
              "251995  251996  8154883   43          13         single          rented   \n",
              "251996  251997  2843572   26          10         single          rented   \n",
              "251997  251998  4522448   46           7         single          rented   \n",
              "251998  251999  6507128   45           0         single          rented   \n",
              "251999  252000  9070230   70          17         single          rented   \n",
              "\n",
              "       Car_Ownership           Profession                 CITY  \\\n",
              "0                 no  Mechanical_engineer                 Rewa   \n",
              "1                 no   Software_Developer             Parbhani   \n",
              "2                 no     Technical_writer            Alappuzha   \n",
              "3                yes   Software_Developer          Bhubaneswar   \n",
              "4                 no        Civil_servant  Tiruchirappalli[10]   \n",
              "...              ...                  ...                  ...   \n",
              "251995            no              Surgeon              Kolkata   \n",
              "251996            no         Army_officer                 Rewa   \n",
              "251997            no      Design_Engineer      Kalyan-Dombivli   \n",
              "251998            no     Graphic_Designer          Pondicherry   \n",
              "251999            no         Statistician                Avadi   \n",
              "\n",
              "                 STATE  CURRENT_JOB_YRS  CURRENT_HOUSE_YRS  Risk_Flag  \n",
              "0       Madhya_Pradesh                3                 13          0  \n",
              "1          Maharashtra                9                 13          0  \n",
              "2               Kerala                4                 10          0  \n",
              "3               Odisha                2                 12          1  \n",
              "4           Tamil_Nadu                3                 14          1  \n",
              "...                ...              ...                ...        ...  \n",
              "251995     West_Bengal                6                 11          0  \n",
              "251996  Madhya_Pradesh                6                 11          0  \n",
              "251997     Maharashtra                7                 12          0  \n",
              "251998      Puducherry                0                 10          0  \n",
              "251999      Tamil_Nadu                7                 11          0  \n",
              "\n",
              "[252000 rows x 13 columns]"
            ],
            "text/html": [
              "\n",
              "  <div id=\"df-7616af16-2ce0-4dba-b5e5-8aba44a06767\">\n",
              "    <div class=\"colab-df-container\">\n",
              "      <div>\n",
              "<style scoped>\n",
              "    .dataframe tbody tr th:only-of-type {\n",
              "        vertical-align: middle;\n",
              "    }\n",
              "\n",
              "    .dataframe tbody tr th {\n",
              "        vertical-align: top;\n",
              "    }\n",
              "\n",
              "    .dataframe thead th {\n",
              "        text-align: right;\n",
              "    }\n",
              "</style>\n",
              "<table border=\"1\" class=\"dataframe\">\n",
              "  <thead>\n",
              "    <tr style=\"text-align: right;\">\n",
              "      <th></th>\n",
              "      <th>Id</th>\n",
              "      <th>Income</th>\n",
              "      <th>Age</th>\n",
              "      <th>Experience</th>\n",
              "      <th>Married/Single</th>\n",
              "      <th>House_Ownership</th>\n",
              "      <th>Car_Ownership</th>\n",
              "      <th>Profession</th>\n",
              "      <th>CITY</th>\n",
              "      <th>STATE</th>\n",
              "      <th>CURRENT_JOB_YRS</th>\n",
              "      <th>CURRENT_HOUSE_YRS</th>\n",
              "      <th>Risk_Flag</th>\n",
              "    </tr>\n",
              "  </thead>\n",
              "  <tbody>\n",
              "    <tr>\n",
              "      <th>0</th>\n",
              "      <td>1</td>\n",
              "      <td>1303834</td>\n",
              "      <td>23</td>\n",
              "      <td>3</td>\n",
              "      <td>single</td>\n",
              "      <td>rented</td>\n",
              "      <td>no</td>\n",
              "      <td>Mechanical_engineer</td>\n",
              "      <td>Rewa</td>\n",
              "      <td>Madhya_Pradesh</td>\n",
              "      <td>3</td>\n",
              "      <td>13</td>\n",
              "      <td>0</td>\n",
              "    </tr>\n",
              "    <tr>\n",
              "      <th>1</th>\n",
              "      <td>2</td>\n",
              "      <td>7574516</td>\n",
              "      <td>40</td>\n",
              "      <td>10</td>\n",
              "      <td>single</td>\n",
              "      <td>rented</td>\n",
              "      <td>no</td>\n",
              "      <td>Software_Developer</td>\n",
              "      <td>Parbhani</td>\n",
              "      <td>Maharashtra</td>\n",
              "      <td>9</td>\n",
              "      <td>13</td>\n",
              "      <td>0</td>\n",
              "    </tr>\n",
              "    <tr>\n",
              "      <th>2</th>\n",
              "      <td>3</td>\n",
              "      <td>3991815</td>\n",
              "      <td>66</td>\n",
              "      <td>4</td>\n",
              "      <td>married</td>\n",
              "      <td>rented</td>\n",
              "      <td>no</td>\n",
              "      <td>Technical_writer</td>\n",
              "      <td>Alappuzha</td>\n",
              "      <td>Kerala</td>\n",
              "      <td>4</td>\n",
              "      <td>10</td>\n",
              "      <td>0</td>\n",
              "    </tr>\n",
              "    <tr>\n",
              "      <th>3</th>\n",
              "      <td>4</td>\n",
              "      <td>6256451</td>\n",
              "      <td>41</td>\n",
              "      <td>2</td>\n",
              "      <td>single</td>\n",
              "      <td>rented</td>\n",
              "      <td>yes</td>\n",
              "      <td>Software_Developer</td>\n",
              "      <td>Bhubaneswar</td>\n",
              "      <td>Odisha</td>\n",
              "      <td>2</td>\n",
              "      <td>12</td>\n",
              "      <td>1</td>\n",
              "    </tr>\n",
              "    <tr>\n",
              "      <th>4</th>\n",
              "      <td>5</td>\n",
              "      <td>5768871</td>\n",
              "      <td>47</td>\n",
              "      <td>11</td>\n",
              "      <td>single</td>\n",
              "      <td>rented</td>\n",
              "      <td>no</td>\n",
              "      <td>Civil_servant</td>\n",
              "      <td>Tiruchirappalli[10]</td>\n",
              "      <td>Tamil_Nadu</td>\n",
              "      <td>3</td>\n",
              "      <td>14</td>\n",
              "      <td>1</td>\n",
              "    </tr>\n",
              "    <tr>\n",
              "      <th>...</th>\n",
              "      <td>...</td>\n",
              "      <td>...</td>\n",
              "      <td>...</td>\n",
              "      <td>...</td>\n",
              "      <td>...</td>\n",
              "      <td>...</td>\n",
              "      <td>...</td>\n",
              "      <td>...</td>\n",
              "      <td>...</td>\n",
              "      <td>...</td>\n",
              "      <td>...</td>\n",
              "      <td>...</td>\n",
              "      <td>...</td>\n",
              "    </tr>\n",
              "    <tr>\n",
              "      <th>251995</th>\n",
              "      <td>251996</td>\n",
              "      <td>8154883</td>\n",
              "      <td>43</td>\n",
              "      <td>13</td>\n",
              "      <td>single</td>\n",
              "      <td>rented</td>\n",
              "      <td>no</td>\n",
              "      <td>Surgeon</td>\n",
              "      <td>Kolkata</td>\n",
              "      <td>West_Bengal</td>\n",
              "      <td>6</td>\n",
              "      <td>11</td>\n",
              "      <td>0</td>\n",
              "    </tr>\n",
              "    <tr>\n",
              "      <th>251996</th>\n",
              "      <td>251997</td>\n",
              "      <td>2843572</td>\n",
              "      <td>26</td>\n",
              "      <td>10</td>\n",
              "      <td>single</td>\n",
              "      <td>rented</td>\n",
              "      <td>no</td>\n",
              "      <td>Army_officer</td>\n",
              "      <td>Rewa</td>\n",
              "      <td>Madhya_Pradesh</td>\n",
              "      <td>6</td>\n",
              "      <td>11</td>\n",
              "      <td>0</td>\n",
              "    </tr>\n",
              "    <tr>\n",
              "      <th>251997</th>\n",
              "      <td>251998</td>\n",
              "      <td>4522448</td>\n",
              "      <td>46</td>\n",
              "      <td>7</td>\n",
              "      <td>single</td>\n",
              "      <td>rented</td>\n",
              "      <td>no</td>\n",
              "      <td>Design_Engineer</td>\n",
              "      <td>Kalyan-Dombivli</td>\n",
              "      <td>Maharashtra</td>\n",
              "      <td>7</td>\n",
              "      <td>12</td>\n",
              "      <td>0</td>\n",
              "    </tr>\n",
              "    <tr>\n",
              "      <th>251998</th>\n",
              "      <td>251999</td>\n",
              "      <td>6507128</td>\n",
              "      <td>45</td>\n",
              "      <td>0</td>\n",
              "      <td>single</td>\n",
              "      <td>rented</td>\n",
              "      <td>no</td>\n",
              "      <td>Graphic_Designer</td>\n",
              "      <td>Pondicherry</td>\n",
              "      <td>Puducherry</td>\n",
              "      <td>0</td>\n",
              "      <td>10</td>\n",
              "      <td>0</td>\n",
              "    </tr>\n",
              "    <tr>\n",
              "      <th>251999</th>\n",
              "      <td>252000</td>\n",
              "      <td>9070230</td>\n",
              "      <td>70</td>\n",
              "      <td>17</td>\n",
              "      <td>single</td>\n",
              "      <td>rented</td>\n",
              "      <td>no</td>\n",
              "      <td>Statistician</td>\n",
              "      <td>Avadi</td>\n",
              "      <td>Tamil_Nadu</td>\n",
              "      <td>7</td>\n",
              "      <td>11</td>\n",
              "      <td>0</td>\n",
              "    </tr>\n",
              "  </tbody>\n",
              "</table>\n",
              "<p>252000 rows × 13 columns</p>\n",
              "</div>\n",
              "      <button class=\"colab-df-convert\" onclick=\"convertToInteractive('df-7616af16-2ce0-4dba-b5e5-8aba44a06767')\"\n",
              "              title=\"Convert this dataframe to an interactive table.\"\n",
              "              style=\"display:none;\">\n",
              "        \n",
              "  <svg xmlns=\"http://www.w3.org/2000/svg\" height=\"24px\"viewBox=\"0 0 24 24\"\n",
              "       width=\"24px\">\n",
              "    <path d=\"M0 0h24v24H0V0z\" fill=\"none\"/>\n",
              "    <path d=\"M18.56 5.44l.94 2.06.94-2.06 2.06-.94-2.06-.94-.94-2.06-.94 2.06-2.06.94zm-11 1L8.5 8.5l.94-2.06 2.06-.94-2.06-.94L8.5 2.5l-.94 2.06-2.06.94zm10 10l.94 2.06.94-2.06 2.06-.94-2.06-.94-.94-2.06-.94 2.06-2.06.94z\"/><path d=\"M17.41 7.96l-1.37-1.37c-.4-.4-.92-.59-1.43-.59-.52 0-1.04.2-1.43.59L10.3 9.45l-7.72 7.72c-.78.78-.78 2.05 0 2.83L4 21.41c.39.39.9.59 1.41.59.51 0 1.02-.2 1.41-.59l7.78-7.78 2.81-2.81c.8-.78.8-2.07 0-2.86zM5.41 20L4 18.59l7.72-7.72 1.47 1.35L5.41 20z\"/>\n",
              "  </svg>\n",
              "      </button>\n",
              "      \n",
              "  <style>\n",
              "    .colab-df-container {\n",
              "      display:flex;\n",
              "      flex-wrap:wrap;\n",
              "      gap: 12px;\n",
              "    }\n",
              "\n",
              "    .colab-df-convert {\n",
              "      background-color: #E8F0FE;\n",
              "      border: none;\n",
              "      border-radius: 50%;\n",
              "      cursor: pointer;\n",
              "      display: none;\n",
              "      fill: #1967D2;\n",
              "      height: 32px;\n",
              "      padding: 0 0 0 0;\n",
              "      width: 32px;\n",
              "    }\n",
              "\n",
              "    .colab-df-convert:hover {\n",
              "      background-color: #E2EBFA;\n",
              "      box-shadow: 0px 1px 2px rgba(60, 64, 67, 0.3), 0px 1px 3px 1px rgba(60, 64, 67, 0.15);\n",
              "      fill: #174EA6;\n",
              "    }\n",
              "\n",
              "    [theme=dark] .colab-df-convert {\n",
              "      background-color: #3B4455;\n",
              "      fill: #D2E3FC;\n",
              "    }\n",
              "\n",
              "    [theme=dark] .colab-df-convert:hover {\n",
              "      background-color: #434B5C;\n",
              "      box-shadow: 0px 1px 3px 1px rgba(0, 0, 0, 0.15);\n",
              "      filter: drop-shadow(0px 1px 2px rgba(0, 0, 0, 0.3));\n",
              "      fill: #FFFFFF;\n",
              "    }\n",
              "  </style>\n",
              "\n",
              "      <script>\n",
              "        const buttonEl =\n",
              "          document.querySelector('#df-7616af16-2ce0-4dba-b5e5-8aba44a06767 button.colab-df-convert');\n",
              "        buttonEl.style.display =\n",
              "          google.colab.kernel.accessAllowed ? 'block' : 'none';\n",
              "\n",
              "        async function convertToInteractive(key) {\n",
              "          const element = document.querySelector('#df-7616af16-2ce0-4dba-b5e5-8aba44a06767');\n",
              "          const dataTable =\n",
              "            await google.colab.kernel.invokeFunction('convertToInteractive',\n",
              "                                                     [key], {});\n",
              "          if (!dataTable) return;\n",
              "\n",
              "          const docLinkHtml = 'Like what you see? Visit the ' +\n",
              "            '<a target=\"_blank\" href=https://colab.research.google.com/notebooks/data_table.ipynb>data table notebook</a>'\n",
              "            + ' to learn more about interactive tables.';\n",
              "          element.innerHTML = '';\n",
              "          dataTable['output_type'] = 'display_data';\n",
              "          await google.colab.output.renderOutput(dataTable, element);\n",
              "          const docLink = document.createElement('div');\n",
              "          docLink.innerHTML = docLinkHtml;\n",
              "          element.appendChild(docLink);\n",
              "        }\n",
              "      </script>\n",
              "    </div>\n",
              "  </div>\n",
              "  "
            ]
          },
          "metadata": {},
          "execution_count": 11
        }
      ],
      "source": [
        "train_data"
      ]
    },
    {
      "cell_type": "code",
      "execution_count": 12,
      "metadata": {
        "id": "itBtR-8ExkE5",
        "outputId": "d6f96303-5663-406f-d225-67f118bc4358",
        "colab": {
          "base_uri": "https://localhost:8080/",
          "height": 574
        }
      },
      "outputs": [
        {
          "output_type": "execute_result",
          "data": {
            "text/plain": [
              "          ID   Income  Age  Experience Married/Single House_Ownership  \\\n",
              "0          1  7393090   59          19         single          rented   \n",
              "1          2  1215004   25           5         single          rented   \n",
              "2          3  8901342   50          12         single          rented   \n",
              "3          4  1944421   49           9        married          rented   \n",
              "4          5    13429   25          18         single          rented   \n",
              "...      ...      ...  ...         ...            ...             ...   \n",
              "27995  27996  9955481   57          13         single          rented   \n",
              "27996  27997  2917765   47           9         single          rented   \n",
              "27997  27998  8082415   24           5         single          rented   \n",
              "27998  27999  9474180   51          13         single          rented   \n",
              "27999  28000  9250350   42           9         single          rented   \n",
              "\n",
              "      Car_Ownership            Profession            CITY           STATE  \\\n",
              "0                no             Geologist           Malda     West Bengal   \n",
              "1                no           Firefighter           Jalna     Maharashtra   \n",
              "2                no                Lawyer           Thane     Maharashtra   \n",
              "3               yes               Analyst           Latur     Maharashtra   \n",
              "4               yes              Comedian      Berhampore     West Bengal   \n",
              "...             ...                   ...             ...             ...   \n",
              "27995            no          Statistician       Eluru[25]  Andhra Pradesh   \n",
              "27996            no      Technical writer          Ratlam  Madhya Pradesh   \n",
              "27997            no                Lawyer  Mira-Bhayandar     Maharashtra   \n",
              "27998           yes  Chartered Accountant          Bhilai    Chhattisgarh   \n",
              "27999            no                  Chef     Navi Mumbai     Maharashtra   \n",
              "\n",
              "       CURRENT_JOB_YRS  CURRENT_HOUSE_YRS  \n",
              "0                    4                 13  \n",
              "1                    5                 10  \n",
              "2                    9                 14  \n",
              "3                    3                 12  \n",
              "4                   13                 11  \n",
              "...                ...                ...  \n",
              "27995                5                 10  \n",
              "27996                9                 14  \n",
              "27997                4                 13  \n",
              "27998               13                 14  \n",
              "27999                4                 10  \n",
              "\n",
              "[28000 rows x 12 columns]"
            ],
            "text/html": [
              "\n",
              "  <div id=\"df-64b25a56-b0aa-42c1-93ab-08fa9858a76b\">\n",
              "    <div class=\"colab-df-container\">\n",
              "      <div>\n",
              "<style scoped>\n",
              "    .dataframe tbody tr th:only-of-type {\n",
              "        vertical-align: middle;\n",
              "    }\n",
              "\n",
              "    .dataframe tbody tr th {\n",
              "        vertical-align: top;\n",
              "    }\n",
              "\n",
              "    .dataframe thead th {\n",
              "        text-align: right;\n",
              "    }\n",
              "</style>\n",
              "<table border=\"1\" class=\"dataframe\">\n",
              "  <thead>\n",
              "    <tr style=\"text-align: right;\">\n",
              "      <th></th>\n",
              "      <th>ID</th>\n",
              "      <th>Income</th>\n",
              "      <th>Age</th>\n",
              "      <th>Experience</th>\n",
              "      <th>Married/Single</th>\n",
              "      <th>House_Ownership</th>\n",
              "      <th>Car_Ownership</th>\n",
              "      <th>Profession</th>\n",
              "      <th>CITY</th>\n",
              "      <th>STATE</th>\n",
              "      <th>CURRENT_JOB_YRS</th>\n",
              "      <th>CURRENT_HOUSE_YRS</th>\n",
              "    </tr>\n",
              "  </thead>\n",
              "  <tbody>\n",
              "    <tr>\n",
              "      <th>0</th>\n",
              "      <td>1</td>\n",
              "      <td>7393090</td>\n",
              "      <td>59</td>\n",
              "      <td>19</td>\n",
              "      <td>single</td>\n",
              "      <td>rented</td>\n",
              "      <td>no</td>\n",
              "      <td>Geologist</td>\n",
              "      <td>Malda</td>\n",
              "      <td>West Bengal</td>\n",
              "      <td>4</td>\n",
              "      <td>13</td>\n",
              "    </tr>\n",
              "    <tr>\n",
              "      <th>1</th>\n",
              "      <td>2</td>\n",
              "      <td>1215004</td>\n",
              "      <td>25</td>\n",
              "      <td>5</td>\n",
              "      <td>single</td>\n",
              "      <td>rented</td>\n",
              "      <td>no</td>\n",
              "      <td>Firefighter</td>\n",
              "      <td>Jalna</td>\n",
              "      <td>Maharashtra</td>\n",
              "      <td>5</td>\n",
              "      <td>10</td>\n",
              "    </tr>\n",
              "    <tr>\n",
              "      <th>2</th>\n",
              "      <td>3</td>\n",
              "      <td>8901342</td>\n",
              "      <td>50</td>\n",
              "      <td>12</td>\n",
              "      <td>single</td>\n",
              "      <td>rented</td>\n",
              "      <td>no</td>\n",
              "      <td>Lawyer</td>\n",
              "      <td>Thane</td>\n",
              "      <td>Maharashtra</td>\n",
              "      <td>9</td>\n",
              "      <td>14</td>\n",
              "    </tr>\n",
              "    <tr>\n",
              "      <th>3</th>\n",
              "      <td>4</td>\n",
              "      <td>1944421</td>\n",
              "      <td>49</td>\n",
              "      <td>9</td>\n",
              "      <td>married</td>\n",
              "      <td>rented</td>\n",
              "      <td>yes</td>\n",
              "      <td>Analyst</td>\n",
              "      <td>Latur</td>\n",
              "      <td>Maharashtra</td>\n",
              "      <td>3</td>\n",
              "      <td>12</td>\n",
              "    </tr>\n",
              "    <tr>\n",
              "      <th>4</th>\n",
              "      <td>5</td>\n",
              "      <td>13429</td>\n",
              "      <td>25</td>\n",
              "      <td>18</td>\n",
              "      <td>single</td>\n",
              "      <td>rented</td>\n",
              "      <td>yes</td>\n",
              "      <td>Comedian</td>\n",
              "      <td>Berhampore</td>\n",
              "      <td>West Bengal</td>\n",
              "      <td>13</td>\n",
              "      <td>11</td>\n",
              "    </tr>\n",
              "    <tr>\n",
              "      <th>...</th>\n",
              "      <td>...</td>\n",
              "      <td>...</td>\n",
              "      <td>...</td>\n",
              "      <td>...</td>\n",
              "      <td>...</td>\n",
              "      <td>...</td>\n",
              "      <td>...</td>\n",
              "      <td>...</td>\n",
              "      <td>...</td>\n",
              "      <td>...</td>\n",
              "      <td>...</td>\n",
              "      <td>...</td>\n",
              "    </tr>\n",
              "    <tr>\n",
              "      <th>27995</th>\n",
              "      <td>27996</td>\n",
              "      <td>9955481</td>\n",
              "      <td>57</td>\n",
              "      <td>13</td>\n",
              "      <td>single</td>\n",
              "      <td>rented</td>\n",
              "      <td>no</td>\n",
              "      <td>Statistician</td>\n",
              "      <td>Eluru[25]</td>\n",
              "      <td>Andhra Pradesh</td>\n",
              "      <td>5</td>\n",
              "      <td>10</td>\n",
              "    </tr>\n",
              "    <tr>\n",
              "      <th>27996</th>\n",
              "      <td>27997</td>\n",
              "      <td>2917765</td>\n",
              "      <td>47</td>\n",
              "      <td>9</td>\n",
              "      <td>single</td>\n",
              "      <td>rented</td>\n",
              "      <td>no</td>\n",
              "      <td>Technical writer</td>\n",
              "      <td>Ratlam</td>\n",
              "      <td>Madhya Pradesh</td>\n",
              "      <td>9</td>\n",
              "      <td>14</td>\n",
              "    </tr>\n",
              "    <tr>\n",
              "      <th>27997</th>\n",
              "      <td>27998</td>\n",
              "      <td>8082415</td>\n",
              "      <td>24</td>\n",
              "      <td>5</td>\n",
              "      <td>single</td>\n",
              "      <td>rented</td>\n",
              "      <td>no</td>\n",
              "      <td>Lawyer</td>\n",
              "      <td>Mira-Bhayandar</td>\n",
              "      <td>Maharashtra</td>\n",
              "      <td>4</td>\n",
              "      <td>13</td>\n",
              "    </tr>\n",
              "    <tr>\n",
              "      <th>27998</th>\n",
              "      <td>27999</td>\n",
              "      <td>9474180</td>\n",
              "      <td>51</td>\n",
              "      <td>13</td>\n",
              "      <td>single</td>\n",
              "      <td>rented</td>\n",
              "      <td>yes</td>\n",
              "      <td>Chartered Accountant</td>\n",
              "      <td>Bhilai</td>\n",
              "      <td>Chhattisgarh</td>\n",
              "      <td>13</td>\n",
              "      <td>14</td>\n",
              "    </tr>\n",
              "    <tr>\n",
              "      <th>27999</th>\n",
              "      <td>28000</td>\n",
              "      <td>9250350</td>\n",
              "      <td>42</td>\n",
              "      <td>9</td>\n",
              "      <td>single</td>\n",
              "      <td>rented</td>\n",
              "      <td>no</td>\n",
              "      <td>Chef</td>\n",
              "      <td>Navi Mumbai</td>\n",
              "      <td>Maharashtra</td>\n",
              "      <td>4</td>\n",
              "      <td>10</td>\n",
              "    </tr>\n",
              "  </tbody>\n",
              "</table>\n",
              "<p>28000 rows × 12 columns</p>\n",
              "</div>\n",
              "      <button class=\"colab-df-convert\" onclick=\"convertToInteractive('df-64b25a56-b0aa-42c1-93ab-08fa9858a76b')\"\n",
              "              title=\"Convert this dataframe to an interactive table.\"\n",
              "              style=\"display:none;\">\n",
              "        \n",
              "  <svg xmlns=\"http://www.w3.org/2000/svg\" height=\"24px\"viewBox=\"0 0 24 24\"\n",
              "       width=\"24px\">\n",
              "    <path d=\"M0 0h24v24H0V0z\" fill=\"none\"/>\n",
              "    <path d=\"M18.56 5.44l.94 2.06.94-2.06 2.06-.94-2.06-.94-.94-2.06-.94 2.06-2.06.94zm-11 1L8.5 8.5l.94-2.06 2.06-.94-2.06-.94L8.5 2.5l-.94 2.06-2.06.94zm10 10l.94 2.06.94-2.06 2.06-.94-2.06-.94-.94-2.06-.94 2.06-2.06.94z\"/><path d=\"M17.41 7.96l-1.37-1.37c-.4-.4-.92-.59-1.43-.59-.52 0-1.04.2-1.43.59L10.3 9.45l-7.72 7.72c-.78.78-.78 2.05 0 2.83L4 21.41c.39.39.9.59 1.41.59.51 0 1.02-.2 1.41-.59l7.78-7.78 2.81-2.81c.8-.78.8-2.07 0-2.86zM5.41 20L4 18.59l7.72-7.72 1.47 1.35L5.41 20z\"/>\n",
              "  </svg>\n",
              "      </button>\n",
              "      \n",
              "  <style>\n",
              "    .colab-df-container {\n",
              "      display:flex;\n",
              "      flex-wrap:wrap;\n",
              "      gap: 12px;\n",
              "    }\n",
              "\n",
              "    .colab-df-convert {\n",
              "      background-color: #E8F0FE;\n",
              "      border: none;\n",
              "      border-radius: 50%;\n",
              "      cursor: pointer;\n",
              "      display: none;\n",
              "      fill: #1967D2;\n",
              "      height: 32px;\n",
              "      padding: 0 0 0 0;\n",
              "      width: 32px;\n",
              "    }\n",
              "\n",
              "    .colab-df-convert:hover {\n",
              "      background-color: #E2EBFA;\n",
              "      box-shadow: 0px 1px 2px rgba(60, 64, 67, 0.3), 0px 1px 3px 1px rgba(60, 64, 67, 0.15);\n",
              "      fill: #174EA6;\n",
              "    }\n",
              "\n",
              "    [theme=dark] .colab-df-convert {\n",
              "      background-color: #3B4455;\n",
              "      fill: #D2E3FC;\n",
              "    }\n",
              "\n",
              "    [theme=dark] .colab-df-convert:hover {\n",
              "      background-color: #434B5C;\n",
              "      box-shadow: 0px 1px 3px 1px rgba(0, 0, 0, 0.15);\n",
              "      filter: drop-shadow(0px 1px 2px rgba(0, 0, 0, 0.3));\n",
              "      fill: #FFFFFF;\n",
              "    }\n",
              "  </style>\n",
              "\n",
              "      <script>\n",
              "        const buttonEl =\n",
              "          document.querySelector('#df-64b25a56-b0aa-42c1-93ab-08fa9858a76b button.colab-df-convert');\n",
              "        buttonEl.style.display =\n",
              "          google.colab.kernel.accessAllowed ? 'block' : 'none';\n",
              "\n",
              "        async function convertToInteractive(key) {\n",
              "          const element = document.querySelector('#df-64b25a56-b0aa-42c1-93ab-08fa9858a76b');\n",
              "          const dataTable =\n",
              "            await google.colab.kernel.invokeFunction('convertToInteractive',\n",
              "                                                     [key], {});\n",
              "          if (!dataTable) return;\n",
              "\n",
              "          const docLinkHtml = 'Like what you see? Visit the ' +\n",
              "            '<a target=\"_blank\" href=https://colab.research.google.com/notebooks/data_table.ipynb>data table notebook</a>'\n",
              "            + ' to learn more about interactive tables.';\n",
              "          element.innerHTML = '';\n",
              "          dataTable['output_type'] = 'display_data';\n",
              "          await google.colab.output.renderOutput(dataTable, element);\n",
              "          const docLink = document.createElement('div');\n",
              "          docLink.innerHTML = docLinkHtml;\n",
              "          element.appendChild(docLink);\n",
              "        }\n",
              "      </script>\n",
              "    </div>\n",
              "  </div>\n",
              "  "
            ]
          },
          "metadata": {},
          "execution_count": 12
        }
      ],
      "source": [
        "test_data"
      ]
    },
    {
      "cell_type": "markdown",
      "metadata": {
        "id": "6-roAtr4xkE6"
      },
      "source": [
        "## Exploratory Data Analysis"
      ]
    },
    {
      "cell_type": "markdown",
      "metadata": {
        "id": "naW79z-PxkE6"
      },
      "source": [
        "### Checking Data Type"
      ]
    },
    {
      "cell_type": "code",
      "execution_count": 13,
      "metadata": {
        "id": "uPsrsS-JxkE6",
        "outputId": "434382e3-3506-4460-8d3e-39d83bf052e7",
        "colab": {
          "base_uri": "https://localhost:8080/",
          "height": 0
        }
      },
      "outputs": [
        {
          "output_type": "stream",
          "name": "stdout",
          "text": [
            "<class 'pandas.core.frame.DataFrame'>\n",
            "RangeIndex: 252000 entries, 0 to 251999\n",
            "Data columns (total 13 columns):\n",
            " #   Column             Non-Null Count   Dtype \n",
            "---  ------             --------------   ----- \n",
            " 0   Id                 252000 non-null  int64 \n",
            " 1   Income             252000 non-null  int64 \n",
            " 2   Age                252000 non-null  int64 \n",
            " 3   Experience         252000 non-null  int64 \n",
            " 4   Married/Single     252000 non-null  object\n",
            " 5   House_Ownership    252000 non-null  object\n",
            " 6   Car_Ownership      252000 non-null  object\n",
            " 7   Profession         252000 non-null  object\n",
            " 8   CITY               252000 non-null  object\n",
            " 9   STATE              252000 non-null  object\n",
            " 10  CURRENT_JOB_YRS    252000 non-null  int64 \n",
            " 11  CURRENT_HOUSE_YRS  252000 non-null  int64 \n",
            " 12  Risk_Flag          252000 non-null  int64 \n",
            "dtypes: int64(7), object(6)\n",
            "memory usage: 25.0+ MB\n"
          ]
        }
      ],
      "source": [
        "train_data.info()"
      ]
    },
    {
      "cell_type": "markdown",
      "metadata": {
        "id": "RZ7EBy-MxkE6"
      },
      "source": [
        "We conclude that the dataset has no null values"
      ]
    },
    {
      "cell_type": "markdown",
      "metadata": {
        "id": "vcedojdXxkE7"
      },
      "source": [
        "### Data Visualization"
      ]
    },
    {
      "cell_type": "code",
      "execution_count": 14,
      "metadata": {
        "id": "tUy-er1jxkE7"
      },
      "outputs": [],
      "source": [
        "def plot_hist(data1, data2, feature, labels):\n",
        "    plt.hist([data1[feature], data2[feature]], bins=10, label=labels, density=True, stacked=True)\n",
        "    plt.title(\"Defaults based on {}\".format(feature))\n",
        "    plt.legend()\n",
        "    plt.xlabel(feature)\n",
        "    plt.show()\n",
        "    \n",
        "def plot_pie(data, labels, title, axis=None, ax_index=None):\n",
        "    if axis is not None and ax_index is not None:\n",
        "        axis[ax_index % 13, ax_index // 13].pie(data, labels=labels, autopct='%1.1f%%')\n",
        "        axis[ax_index % 13, ax_index // 13].set_title(\"Defaults based on {}\".format(title))\n",
        "    else:\n",
        "        plt.pie(data, labels=labels, autopct='%1.1f%%')\n",
        "        plt.title(\"Defaults based on {}\".format(title))\n",
        "        plt.show()"
      ]
    },
    {
      "cell_type": "code",
      "execution_count": 15,
      "metadata": {
        "id": "vcHIV7XlxkE7"
      },
      "outputs": [],
      "source": [
        "def get_defaults(data, feature, value, text=None):\n",
        "    all_value = data[data[feature] == value]['Risk_Flag'].value_counts()\n",
        "    print(\"Proportion of {} who default: {}\".format(text or value, all_value[1]/(all_value[0] + all_value[1])))\n",
        "    return all_value"
      ]
    },
    {
      "cell_type": "code",
      "execution_count": 16,
      "metadata": {
        "id": "Q7rTRZjlxkE8"
      },
      "outputs": [],
      "source": [
        "risky_1 = train_data[train_data['Risk_Flag'] == 1].copy()\n",
        "risky_0 = train_data[train_data['Risk_Flag'] == 0].copy()"
      ]
    },
    {
      "cell_type": "code",
      "execution_count": 17,
      "metadata": {
        "id": "uzIgeKv_xkE8"
      },
      "outputs": [],
      "source": [
        "flags = ['Risky', 'Safe']"
      ]
    },
    {
      "cell_type": "markdown",
      "metadata": {
        "id": "ERmHNmIPxkE8"
      },
      "source": [
        "#### Influence on Income on Risk factor"
      ]
    },
    {
      "cell_type": "code",
      "execution_count": 18,
      "metadata": {
        "id": "iBJn_GeuxkE8",
        "outputId": "e23801ad-9588-4dd4-bb20-c3765c648517",
        "colab": {
          "base_uri": "https://localhost:8080/",
          "height": 295
        }
      },
      "outputs": [
        {
          "output_type": "display_data",
          "data": {
            "text/plain": [
              "<Figure size 432x288 with 1 Axes>"
            ],
            "image/png": "[encoded data removed]"
          },
          "metadata": {
            "needs_background": "light"
          }
        }
      ],
      "source": [
        "plot_hist(risky_1, risky_0, 'Income', flags)"
      ]
    },
    {
      "cell_type": "markdown",
      "metadata": {
        "id": "tjeiH0-UxkE8"
      },
      "source": [
        "#### Influence of Age on Risk Factor"
      ]
    },
    {
      "cell_type": "code",
      "execution_count": 19,
      "metadata": {
        "id": "EvlxWqJ0xkE8",
        "outputId": "7c456390-3a0c-4240-ced9-0685763d45ba",
        "colab": {
          "base_uri": "https://localhost:8080/",
          "height": 295
        }
      },
      "outputs": [
        {
          "output_type": "display_data",
          "data": {
            "text/plain": [
              "<Figure size 432x288 with 1 Axes>"
            ],
            "image/png": "[encoded data removed]"
          },
          "metadata": {
            "needs_background": "light"
          }
        }
      ],
      "source": [
        "plot_hist(risky_1, risky_0, 'Age', flags)"
      ]
    },
    {
      "cell_type": "markdown",
      "metadata": {
        "id": "wrXhT0NTxkE9"
      },
      "source": [
        "#### Influence of Experience on Risk Factor"
      ]
    },
    {
      "cell_type": "code",
      "execution_count": 20,
      "metadata": {
        "id": "HGqsG0kVxkE9",
        "outputId": "1037fb6c-eb76-41d6-f0ac-c1facb02bf19",
        "colab": {
          "base_uri": "https://localhost:8080/",
          "height": 295
        }
      },
      "outputs": [
        {
          "output_type": "display_data",
          "data": {
            "text/plain": [
              "<Figure size 432x288 with 1 Axes>"
            ],
            "image/png": "[encoded data removed]"
          },
          "metadata": {
            "needs_background": "light"
          }
        }
      ],
      "source": [
        "plot_hist(risky_1, risky_0, 'Experience', flags)"
      ]
    },
    {
      "cell_type": "markdown",
      "metadata": {
        "id": "RnyuvfbDxkE9"
      },
      "source": [
        "#### Influence of Job Years on Risk Factor"
      ]
    },
    {
      "cell_type": "code",
      "execution_count": 21,
      "metadata": {
        "id": "7-ycxy2hxkE9",
        "outputId": "fcc16fd6-184c-4701-8e43-60c01dee208f",
        "colab": {
          "base_uri": "https://localhost:8080/",
          "height": 296
        }
      },
      "outputs": [
        {
          "output_type": "display_data",
          "data": {
            "text/plain": [
              "<Figure size 432x288 with 1 Axes>"
            ],
            "image/png": "[encoded data removed]"
          },
          "metadata": {
            "needs_background": "light"
          }
        }
      ],
      "source": [
        "plot_hist(risky_1, risky_0, 'CURRENT_JOB_YRS', flags)"
      ]
    },
    {
      "cell_type": "markdown",
      "metadata": {
        "id": "tOeh_oy8xkE9"
      },
      "source": [
        "#### Influence of House Years on Risk Factor"
      ]
    },
    {
      "cell_type": "code",
      "execution_count": 22,
      "metadata": {
        "id": "LnJ4GLDrxkE9",
        "outputId": "f40d3fbe-8176-4839-d4c8-3c9a3c01b549",
        "colab": {
          "base_uri": "https://localhost:8080/",
          "height": 296
        }
      },
      "outputs": [
        {
          "output_type": "display_data",
          "data": {
            "text/plain": [
              "<Figure size 432x288 with 1 Axes>"
            ],
            "image/png": "[encoded data removed]"
          },
          "metadata": {
            "needs_background": "light"
          }
        }
      ],
      "source": [
        "plot_hist(risky_1, risky_0, 'CURRENT_HOUSE_YRS', flags)"
      ]
    },
    {
      "cell_type": "markdown",
      "metadata": {
        "id": "ytAQp0ZtxkE-"
      },
      "source": [
        "#### Influence of Gender on Risk Factor"
      ]
    },
    {
      "cell_type": "code",
      "execution_count": 23,
      "metadata": {
        "id": "Dcw_aCXBxkE_",
        "outputId": "e09b2c42-7996-4e7c-e5fc-48ae155ab143",
        "colab": {
          "base_uri": "https://localhost:8080/",
          "height": 0
        }
      },
      "outputs": [
        {
          "output_type": "execute_result",
          "data": {
            "text/plain": [
              "single     226272\n",
              "married     25728\n",
              "Name: Married/Single, dtype: int64"
            ]
          },
          "metadata": {},
          "execution_count": 23
        }
      ],
      "source": [
        "train_data['Married/Single'].value_counts()"
      ]
    },
    {
      "cell_type": "code",
      "execution_count": 24,
      "metadata": {
        "id": "jvsOxsQixkE_",
        "outputId": "d5c85cbc-1b8b-4845-a377-67ef33766028",
        "colab": {
          "base_uri": "https://localhost:8080/",
          "height": 0
        }
      },
      "outputs": [
        {
          "output_type": "stream",
          "name": "stdout",
          "text": [
            "Proportion of single who default: 0.1253358789421581\n"
          ]
        }
      ],
      "source": [
        "all_singles = get_defaults(train_data, 'Married/Single', 'single')"
      ]
    },
    {
      "cell_type": "code",
      "execution_count": 25,
      "metadata": {
        "id": "gl-Gid4vxkFA",
        "outputId": "3a20d72e-83c5-4331-ea6d-199e376efa96",
        "colab": {
          "base_uri": "https://localhost:8080/",
          "height": 264
        }
      },
      "outputs": [
        {
          "output_type": "display_data",
          "data": {
            "text/plain": [
              "<Figure size 432x288 with 1 Axes>"
            ],
            "image/png": "[encoded data removed]"
          },
          "metadata": {}
        }
      ],
      "source": [
        "plot_pie(all_singles, flags[::-1], 'Singles Spread')"
      ]
    },
    {
      "cell_type": "code",
      "execution_count": 26,
      "metadata": {
        "id": "h25w-CB9xkFA",
        "outputId": "1656aa42-214c-4f84-ddc9-0044ea743147",
        "colab": {
          "base_uri": "https://localhost:8080/",
          "height": 0
        }
      },
      "outputs": [
        {
          "output_type": "stream",
          "name": "stdout",
          "text": [
            "Proportion of married who default: 0.10245646766169154\n"
          ]
        }
      ],
      "source": [
        "all_married = get_defaults(train_data, 'Married/Single', 'married')"
      ]
    },
    {
      "cell_type": "code",
      "execution_count": 27,
      "metadata": {
        "id": "jimKD_yzxkFA",
        "outputId": "25a727ef-0703-44a8-8a75-8aec8b45d660",
        "colab": {
          "base_uri": "https://localhost:8080/",
          "height": 264
        }
      },
      "outputs": [
        {
          "output_type": "display_data",
          "data": {
            "text/plain": [
              "<Figure size 432x288 with 1 Axes>"
            ],
            "image/png": "[encoded data removed]"
          },
          "metadata": {}
        }
      ],
      "source": [
        "plot_pie(all_married, flags[::-1], 'Married Spread')"
      ]
    },
    {
      "cell_type": "markdown",
      "metadata": {
        "id": "xzx1yLgDxkFA"
      },
      "source": [
        "#### Influence of House Ownership on Risk Factor"
      ]
    },
    {
      "cell_type": "code",
      "execution_count": 28,
      "metadata": {
        "id": "G9I453iwxkFB",
        "outputId": "cc777f3a-dcb5-47f6-a336-25afafd339f6",
        "colab": {
          "base_uri": "https://localhost:8080/",
          "height": 0
        }
      },
      "outputs": [
        {
          "output_type": "execute_result",
          "data": {
            "text/plain": [
              "rented          231898\n",
              "owned            12918\n",
              "norent_noown      7184\n",
              "Name: House_Ownership, dtype: int64"
            ]
          },
          "metadata": {},
          "execution_count": 28
        }
      ],
      "source": [
        "train_data['House_Ownership'].value_counts()"
      ]
    },
    {
      "cell_type": "code",
      "execution_count": 29,
      "metadata": {
        "id": "DZOcdMMzxkFB",
        "outputId": "1ed3ec98-7b27-448b-edcf-6933101f7c4c",
        "colab": {
          "base_uri": "https://localhost:8080/",
          "height": 0
        }
      },
      "outputs": [
        {
          "output_type": "stream",
          "name": "stdout",
          "text": [
            "Proportion of rented who default: 0.1255767621971729\n"
          ]
        }
      ],
      "source": [
        "all_rented = get_defaults(train_data, 'House_Ownership', 'rented')"
      ]
    },
    {
      "cell_type": "code",
      "execution_count": 30,
      "metadata": {
        "id": "PRr81DOnxkFB",
        "outputId": "068c208c-1a05-42ce-e675-e527087cb472",
        "colab": {
          "base_uri": "https://localhost:8080/",
          "height": 264
        }
      },
      "outputs": [
        {
          "output_type": "display_data",
          "data": {
            "text/plain": [
              "<Figure size 432x288 with 1 Axes>"
            ],
            "image/png": "[encoded data removed]"
          },
          "metadata": {}
        }
      ],
      "source": [
        "plot_pie(all_rented, flags[::-1], 'Rented Spread')"
      ]
    },
    {
      "cell_type": "code",
      "execution_count": 31,
      "metadata": {
        "id": "edJKCNdmxkFB",
        "outputId": "ad0b936d-7581-43fa-d3a7-318d8094f0b9",
        "colab": {
          "base_uri": "https://localhost:8080/",
          "height": 0
        }
      },
      "outputs": [
        {
          "output_type": "stream",
          "name": "stdout",
          "text": [
            "Proportion of owned who default: 0.08979718222635083\n"
          ]
        }
      ],
      "source": [
        "all_owned = get_defaults(train_data, 'House_Ownership', 'owned')"
      ]
    },
    {
      "cell_type": "code",
      "execution_count": 32,
      "metadata": {
        "id": "X63tP-cSxkFB",
        "outputId": "d0e43996-b95d-495e-e310-18776fb0754f",
        "colab": {
          "base_uri": "https://localhost:8080/",
          "height": 264
        }
      },
      "outputs": [
        {
          "output_type": "display_data",
          "data": {
            "text/plain": [
              "<Figure size 432x288 with 1 Axes>"
            ],
            "image/png": "[encoded data removed]"
          },
          "metadata": {}
        }
      ],
      "source": [
        "plot_pie(all_owned, flags[::-1], 'House Owned Spread')"
      ]
    },
    {
      "cell_type": "code",
      "execution_count": 33,
      "metadata": {
        "id": "qBhxaunAxkFB",
        "outputId": "cb5cd55d-7ccd-4eee-b02b-cbf5aabf3858",
        "colab": {
          "base_uri": "https://localhost:8080/",
          "height": 0
        }
      },
      "outputs": [
        {
          "output_type": "stream",
          "name": "stdout",
          "text": [
            "Proportion of norent_noown who default: 0.09952672605790645\n"
          ]
        }
      ],
      "source": [
        "all_noown = get_defaults(train_data, 'House_Ownership', 'norent_noown')"
      ]
    },
    {
      "cell_type": "code",
      "execution_count": 34,
      "metadata": {
        "id": "CikIhXEkxkFB",
        "outputId": "07f2e070-eef9-44cf-e7cd-8be42bbe3f1f",
        "colab": {
          "base_uri": "https://localhost:8080/",
          "height": 264
        }
      },
      "outputs": [
        {
          "output_type": "display_data",
          "data": {
            "text/plain": [
              "<Figure size 432x288 with 1 Axes>"
            ],
            "image/png": "[encoded data removed]"
          },
          "metadata": {}
        }
      ],
      "source": [
        "plot_pie(all_noown, flags[::-1], 'No Rent No Own Spread')"
      ]
    },
    {
      "cell_type": "markdown",
      "metadata": {
        "id": "VyTQbHauxkFC"
      },
      "source": [
        "#### Influence of Car Ownership on Risk Factor"
      ]
    },
    {
      "cell_type": "code",
      "execution_count": 35,
      "metadata": {
        "id": "X2v-R4YRxkFC",
        "outputId": "be73a20e-44ba-4e76-ae08-123af9f7ee17",
        "colab": {
          "base_uri": "https://localhost:8080/",
          "height": 0
        }
      },
      "outputs": [
        {
          "output_type": "stream",
          "name": "stdout",
          "text": [
            "Proportion of Car Owners who default: 0.11098684210526316\n"
          ]
        }
      ],
      "source": [
        "all_car = get_defaults(train_data, 'Car_Ownership', 'yes', 'Car Owners')"
      ]
    },
    {
      "cell_type": "code",
      "execution_count": 36,
      "metadata": {
        "id": "pDYfTeyUxkFC",
        "outputId": "1ed0461a-3cc3-485f-9080-06bab7a96176",
        "colab": {
          "base_uri": "https://localhost:8080/",
          "height": 264
        }
      },
      "outputs": [
        {
          "output_type": "display_data",
          "data": {
            "text/plain": [
              "<Figure size 432x288 with 1 Axes>"
            ],
            "image/png": "[encoded data removed]"
          },
          "metadata": {}
        }
      ],
      "source": [
        "plot_pie(all_car, flags[::-1], 'Car Owners Spread')"
      ]
    },
    {
      "cell_type": "code",
      "execution_count": 37,
      "metadata": {
        "id": "6-YtM-wzxkFC",
        "outputId": "91cfb77a-d2ed-4d7b-e91a-8849dba9bcf9",
        "colab": {
          "base_uri": "https://localhost:8080/",
          "height": 0
        }
      },
      "outputs": [
        {
          "output_type": "stream",
          "name": "stdout",
          "text": [
            "Proportion of Non Car Owners who default: 0.1281875\n"
          ]
        }
      ],
      "source": [
        "no_car = get_defaults(train_data, 'Car_Ownership', 'no', 'Non Car Owners')"
      ]
    },
    {
      "cell_type": "code",
      "execution_count": 38,
      "metadata": {
        "id": "MnuifFavxkFC",
        "outputId": "b2c8565e-3af2-4937-c765-8af32995e863",
        "colab": {
          "base_uri": "https://localhost:8080/",
          "height": 264
        }
      },
      "outputs": [
        {
          "output_type": "display_data",
          "data": {
            "text/plain": [
              "<Figure size 432x288 with 1 Axes>"
            ],
            "image/png": "[encoded data removed]"
          },
          "metadata": {}
        }
      ],
      "source": [
        "plot_pie(no_car, flags[::-1], 'Non Car Owners Spread')"
      ]
    },
    {
      "cell_type": "markdown",
      "metadata": {
        "id": "oW3IkNOUxkFC"
      },
      "source": [
        "#### Influence of Profession on Risk Factor"
      ]
    },
    {
      "cell_type": "code",
      "execution_count": 39,
      "metadata": {
        "id": "xoOLnB2mxkFD",
        "outputId": "717f491b-f9f6-4fb9-8eab-db3ba932c9e5",
        "colab": {
          "base_uri": "https://localhost:8080/",
          "height": 0
        }
      },
      "outputs": [
        {
          "output_type": "execute_result",
          "data": {
            "text/plain": [
              "Physician                     5957\n",
              "Statistician                  5806\n",
              "Web_designer                  5397\n",
              "Psychologist                  5390\n",
              "Computer_hardware_engineer    5372\n",
              "Drafter                       5359\n",
              "Magistrate                    5357\n",
              "Fashion_Designer              5304\n",
              "Air_traffic_controller        5281\n",
              "Comedian                      5259\n",
              "Industrial_Engineer           5250\n",
              "Mechanical_engineer           5217\n",
              "Chemical_engineer             5205\n",
              "Technical_writer              5195\n",
              "Hotel_Manager                 5178\n",
              "Financial_Analyst             5167\n",
              "Graphic_Designer              5166\n",
              "Flight_attendant              5128\n",
              "Biomedical_Engineer           5127\n",
              "Secretary                     5061\n",
              "Software_Developer            5053\n",
              "Petroleum_Engineer            5041\n",
              "Police_officer                5035\n",
              "Computer_operator             4990\n",
              "Politician                    4944\n",
              "Microbiologist                4881\n",
              "Technician                    4864\n",
              "Artist                        4861\n",
              "Lawyer                        4818\n",
              "Consultant                    4808\n",
              "Dentist                       4782\n",
              "Scientist                     4781\n",
              "Surgeon                       4772\n",
              "Aviator                       4758\n",
              "Technology_specialist         4737\n",
              "Design_Engineer               4729\n",
              "Surveyor                      4714\n",
              "Geologist                     4672\n",
              "Analyst                       4668\n",
              "Army_officer                  4661\n",
              "Architect                     4657\n",
              "Chef                          4635\n",
              "Librarian                     4628\n",
              "Civil_engineer                4616\n",
              "Designer                      4598\n",
              "Economist                     4573\n",
              "Firefighter                   4507\n",
              "Chartered_Accountant          4493\n",
              "Civil_servant                 4413\n",
              "Official                      4087\n",
              "Engineer                      4048\n",
              "Name: Profession, dtype: int64"
            ]
          },
          "metadata": {},
          "execution_count": 39
        }
      ],
      "source": [
        "train_data['Profession'].value_counts()"
      ]
    },
    {
      "cell_type": "code",
      "execution_count": 40,
      "metadata": {
        "id": "81EtM-kHxkFD",
        "outputId": "207b7ce9-a710-4cde-9443-075c7c410195",
        "colab": {
          "base_uri": "https://localhost:8080/",
          "height": 2179
        }
      },
      "outputs": [
        {
          "output_type": "stream",
          "name": "stdout",
          "text": [
            "Proportion of Physician who default: 0.11918751049185831\n",
            "Proportion of Statistician who default: 0.11557009989665863\n",
            "Proportion of Web_designer who default: 0.10913470446544377\n",
            "Proportion of Psychologist who default: 0.12189239332096476\n",
            "Proportion of Computer_hardware_engineer who default: 0.12844378257632166\n",
            "Proportion of Drafter who default: 0.1128941966784848\n",
            "Proportion of Magistrate who default: 0.12002986746313235\n",
            "Proportion of Fashion_Designer who default: 0.11538461538461539\n",
            "Proportion of Air_traffic_controller who default: 0.1353910244271918\n",
            "Proportion of Comedian who default: 0.11960448754516068\n",
            "Proportion of Industrial_Engineer who default: 0.09866666666666667\n",
            "Proportion of Mechanical_engineer who default: 0.11155836687751582\n",
            "Proportion of Chemical_engineer who default: 0.11162343900096061\n",
            "Proportion of Technical_writer who default: 0.134167468719923\n",
            "Proportion of Hotel_Manager who default: 0.13538045577443028\n",
            "Proportion of Financial_Analyst who default: 0.10315463518482679\n",
            "Proportion of Graphic_Designer who default: 0.11536972512582269\n",
            "Proportion of Flight_attendant who default: 0.12363494539781592\n",
            "Proportion of Biomedical_Engineer who default: 0.12755997659449972\n",
            "Proportion of Secretary who default: 0.13040901007705988\n",
            "Proportion of Software_Developer who default: 0.1484266772214526\n",
            "Proportion of Petroleum_Engineer who default: 0.08510216226939099\n",
            "Proportion of Police_officer who default: 0.16405163853028798\n",
            "Proportion of Computer_operator who default: 0.12404809619238477\n",
            "Proportion of Politician who default: 0.11225728155339806\n",
            "Proportion of Microbiologist who default: 0.12435976234378202\n",
            "Proportion of Technician who default: 0.12828947368421054\n",
            "Proportion of Artist who default: 0.1226085167660975\n",
            "Proportion of Lawyer who default: 0.1295143212951432\n",
            "Proportion of Consultant who default: 0.1252079866888519\n",
            "Proportion of Dentist who default: 0.109577582601422\n",
            "Proportion of Scientist who default: 0.14432127170048106\n",
            "Proportion of Surgeon who default: 0.11546521374685666\n",
            "Proportion of Aviator who default: 0.13493064312736444\n",
            "Proportion of Technology_specialist who default: 0.08148617268313278\n",
            "Proportion of Design_Engineer who default: 0.1069993656164094\n",
            "Proportion of Surveyor who default: 0.15146372507424694\n",
            "Proportion of Geologist who default: 0.144263698630137\n",
            "Proportion of Analyst who default: 0.12146529562982006\n",
            "Proportion of Army_officer who default: 0.15211328041192876\n",
            "Proportion of Architect who default: 0.13120034356882113\n",
            "Proportion of Chef who default: 0.12146709816612729\n",
            "Proportion of Librarian who default: 0.11257562662057044\n",
            "Proportion of Civil_engineer who default: 0.1358318890814558\n",
            "Proportion of Designer who default: 0.10917790343627665\n",
            "Proportion of Economist who default: 0.09927837305926088\n",
            "Proportion of Firefighter who default: 0.13578877301974707\n",
            "Proportion of Chartered_Accountant who default: 0.15357222345871355\n",
            "Proportion of Civil_servant who default: 0.11579424427826875\n",
            "Proportion of Official who default: 0.1357964276975777\n",
            "Proportion of Engineer who default: 0.11808300395256917\n"
          ]
        },
        {
          "output_type": "display_data",
          "data": {
            "text/plain": [
              "<Figure size 1800x3744 with 52 Axes>"
            ],
            "image/png": "[encoded data removed]"
          },
          "metadata": {
            "needs_background": "light"
          }
        }
      ],
      "source": [
        "professions = list(train_data['Profession'].value_counts().index)\n",
        "fig, ax = plt.subplots(13, 4, figsize=(25, 52))\n",
        "ax_index = 0\n",
        "for profession in professions:\n",
        "    all_data = get_defaults(train_data, 'Profession', profession)\n",
        "    plot_pie(all_data, flags[::-1], str(profession), ax, ax_index)\n",
        "    ax_index += 1\n",
        "_ = ax[-1, -1].axis('off')"
      ]
    },
    {
      "cell_type": "markdown",
      "metadata": {
        "id": "ZJUQ1XbdxkFD"
      },
      "source": [
        "#### Influence of State on Risk Factor"
      ]
    },
    {
      "cell_type": "code",
      "execution_count": 41,
      "metadata": {
        "id": "11E606CGxkFD",
        "outputId": "21d8d0a6-7436-476b-ad92-1302abfc4b8f",
        "colab": {
          "base_uri": "https://localhost:8080/",
          "height": 392
        }
      },
      "outputs": [
        {
          "output_type": "display_data",
          "data": {
            "text/plain": [
              "<Figure size 1800x576 with 1 Axes>"
            ],
            "image/png": "[encoded data removed]"
          },
          "metadata": {
            "needs_background": "light"
          }
        }
      ],
      "source": [
        "states = list(train_data['STATE'].value_counts().index)\n",
        "fig, ax = plt.subplots(figsize=(25, 8))\n",
        "ax.bar(states, risky_0['STATE'].value_counts())\n",
        "ax.bar(states, risky_1['STATE'].value_counts(), bottom=risky_0['STATE'].value_counts())\n",
        "plt.title(\"Defaults based on State\")\n",
        "plt.xticks(rotation=90)\n",
        "_ = plt.legend(flags[::-1])"
      ]
    },
    {
      "cell_type": "markdown",
      "metadata": {
        "id": "VfERC1zOxkFD"
      },
      "source": [
        "## Data Preprocessing"
      ]
    },
    {
      "cell_type": "markdown",
      "metadata": {
        "id": "7p0NpMqvxkFD"
      },
      "source": [
        "### Remove unwanted columns"
      ]
    },
    {
      "cell_type": "code",
      "execution_count": 42,
      "metadata": {
        "id": "g9Q3uKbaxkFD"
      },
      "outputs": [],
      "source": [
        "train_data.drop('Id', axis=1, inplace=True)"
      ]
    },
    {
      "cell_type": "markdown",
      "metadata": {
        "id": "QjrT9kkDxkFE"
      },
      "source": [
        "### Encoding Categorical Columns"
      ]
    },
    {
      "cell_type": "code",
      "execution_count": 43,
      "metadata": {
        "id": "UFRgkp9WxkFE"
      },
      "outputs": [],
      "source": [
        "categorical_cols = [col for col in train_data.columns if train_data[col].dtype==\"O\"]\n",
        "\n",
        "label_encoder = LabelEncoder()\n",
        "\n",
        "for col in categorical_cols:\n",
        "    train_data[col] = label_encoder.fit_transform(train_data[col])"
      ]
    },
    {
      "cell_type": "code",
      "execution_count": 44,
      "metadata": {
        "id": "kolFtFBoxkFE",
        "outputId": "4ab9447b-6f2e-48fa-ab3d-b209ccf8405a",
        "colab": {
          "base_uri": "https://localhost:8080/",
          "height": 488
        }
      },
      "outputs": [
        {
          "output_type": "execute_result",
          "data": {
            "text/plain": [
              "         Income  Age  Experience  Married/Single  House_Ownership  \\\n",
              "0       1303834   23           3               1                2   \n",
              "1       7574516   40          10               1                2   \n",
              "2       3991815   66           4               0                2   \n",
              "3       6256451   41           2               1                2   \n",
              "4       5768871   47          11               1                2   \n",
              "...         ...  ...         ...             ...              ...   \n",
              "251995  8154883   43          13               1                2   \n",
              "251996  2843572   26          10               1                2   \n",
              "251997  4522448   46           7               1                2   \n",
              "251998  6507128   45           0               1                2   \n",
              "251999  9070230   70          17               1                2   \n",
              "\n",
              "        Car_Ownership  Profession  CITY  STATE  CURRENT_JOB_YRS  \\\n",
              "0                   0          33   251     13                3   \n",
              "1                   0          43   227     14                9   \n",
              "2                   0          47     8     12                4   \n",
              "3                   1          43    54     17                2   \n",
              "4                   0          11   296     22                3   \n",
              "...               ...         ...   ...    ...              ...   \n",
              "251995              0          45   162     28                6   \n",
              "251996              0           3   251     13                6   \n",
              "251997              0          17   144     14                7   \n",
              "251998              0          27   233     18                0   \n",
              "251999              0          44    26     22                7   \n",
              "\n",
              "        CURRENT_HOUSE_YRS  Risk_Flag  \n",
              "0                      13          0  \n",
              "1                      13          0  \n",
              "2                      10          0  \n",
              "3                      12          1  \n",
              "4                      14          1  \n",
              "...                   ...        ...  \n",
              "251995                 11          0  \n",
              "251996                 11          0  \n",
              "251997                 12          0  \n",
              "251998                 10          0  \n",
              "251999                 11          0  \n",
              "\n",
              "[252000 rows x 12 columns]"
            ],
            "text/html": [
              "\n",
              "  <div id=\"df-637434d7-bc6b-4d93-8737-61ec26dabdcb\">\n",
              "    <div class=\"colab-df-container\">\n",
              "      <div>\n",
              "<style scoped>\n",
              "    .dataframe tbody tr th:only-of-type {\n",
              "        vertical-align: middle;\n",
              "    }\n",
              "\n",
              "    .dataframe tbody tr th {\n",
              "        vertical-align: top;\n",
              "    }\n",
              "\n",
              "    .dataframe thead th {\n",
              "        text-align: right;\n",
              "    }\n",
              "</style>\n",
              "<table border=\"1\" class=\"dataframe\">\n",
              "  <thead>\n",
              "    <tr style=\"text-align: right;\">\n",
              "      <th></th>\n",
              "      <th>Income</th>\n",
              "      <th>Age</th>\n",
              "      <th>Experience</th>\n",
              "      <th>Married/Single</th>\n",
              "      <th>House_Ownership</th>\n",
              "      <th>Car_Ownership</th>\n",
              "      <th>Profession</th>\n",
              "      <th>CITY</th>\n",
              "      <th>STATE</th>\n",
              "      <th>CURRENT_JOB_YRS</th>\n",
              "      <th>CURRENT_HOUSE_YRS</th>\n",
              "      <th>Risk_Flag</th>\n",
              "    </tr>\n",
              "  </thead>\n",
              "  <tbody>\n",
              "    <tr>\n",
              "      <th>0</th>\n",
              "      <td>1303834</td>\n",
              "      <td>23</td>\n",
              "      <td>3</td>\n",
              "      <td>1</td>\n",
              "      <td>2</td>\n",
              "      <td>0</td>\n",
              "      <td>33</td>\n",
              "      <td>251</td>\n",
              "      <td>13</td>\n",
              "      <td>3</td>\n",
              "      <td>13</td>\n",
              "      <td>0</td>\n",
              "    </tr>\n",
              "    <tr>\n",
              "      <th>1</th>\n",
              "      <td>7574516</td>\n",
              "      <td>40</td>\n",
              "      <td>10</td>\n",
              "      <td>1</td>\n",
              "      <td>2</td>\n",
              "      <td>0</td>\n",
              "      <td>43</td>\n",
              "      <td>227</td>\n",
              "      <td>14</td>\n",
              "      <td>9</td>\n",
              "      <td>13</td>\n",
              "      <td>0</td>\n",
              "    </tr>\n",
              "    <tr>\n",
              "      <th>2</th>\n",
              "      <td>3991815</td>\n",
              "      <td>66</td>\n",
              "      <td>4</td>\n",
              "      <td>0</td>\n",
              "      <td>2</td>\n",
              "      <td>0</td>\n",
              "      <td>47</td>\n",
              "      <td>8</td>\n",
              "      <td>12</td>\n",
              "      <td>4</td>\n",
              "      <td>10</td>\n",
              "      <td>0</td>\n",
              "    </tr>\n",
              "    <tr>\n",
              "      <th>3</th>\n",
              "      <td>6256451</td>\n",
              "      <td>41</td>\n",
              "      <td>2</td>\n",
              "      <td>1</td>\n",
              "      <td>2</td>\n",
              "      <td>1</td>\n",
              "      <td>43</td>\n",
              "      <td>54</td>\n",
              "      <td>17</td>\n",
              "      <td>2</td>\n",
              "      <td>12</td>\n",
              "      <td>1</td>\n",
              "    </tr>\n",
              "    <tr>\n",
              "      <th>4</th>\n",
              "      <td>5768871</td>\n",
              "      <td>47</td>\n",
              "      <td>11</td>\n",
              "      <td>1</td>\n",
              "      <td>2</td>\n",
              "      <td>0</td>\n",
              "      <td>11</td>\n",
              "      <td>296</td>\n",
              "      <td>22</td>\n",
              "      <td>3</td>\n",
              "      <td>14</td>\n",
              "      <td>1</td>\n",
              "    </tr>\n",
              "    <tr>\n",
              "      <th>...</th>\n",
              "      <td>...</td>\n",
              "      <td>...</td>\n",
              "      <td>...</td>\n",
              "      <td>...</td>\n",
              "      <td>...</td>\n",
              "      <td>...</td>\n",
              "      <td>...</td>\n",
              "      <td>...</td>\n",
              "      <td>...</td>\n",
              "      <td>...</td>\n",
              "      <td>...</td>\n",
              "      <td>...</td>\n",
              "    </tr>\n",
              "    <tr>\n",
              "      <th>251995</th>\n",
              "      <td>8154883</td>\n",
              "      <td>43</td>\n",
              "      <td>13</td>\n",
              "      <td>1</td>\n",
              "      <td>2</td>\n",
              "      <td>0</td>\n",
              "      <td>45</td>\n",
              "      <td>162</td>\n",
              "      <td>28</td>\n",
              "      <td>6</td>\n",
              "      <td>11</td>\n",
              "      <td>0</td>\n",
              "    </tr>\n",
              "    <tr>\n",
              "      <th>251996</th>\n",
              "      <td>2843572</td>\n",
              "      <td>26</td>\n",
              "      <td>10</td>\n",
              "      <td>1</td>\n",
              "      <td>2</td>\n",
              "      <td>0</td>\n",
              "      <td>3</td>\n",
              "      <td>251</td>\n",
              "      <td>13</td>\n",
              "      <td>6</td>\n",
              "      <td>11</td>\n",
              "      <td>0</td>\n",
              "    </tr>\n",
              "    <tr>\n",
              "      <th>251997</th>\n",
              "      <td>4522448</td>\n",
              "      <td>46</td>\n",
              "      <td>7</td>\n",
              "      <td>1</td>\n",
              "      <td>2</td>\n",
              "      <td>0</td>\n",
              "      <td>17</td>\n",
              "      <td>144</td>\n",
              "      <td>14</td>\n",
              "      <td>7</td>\n",
              "      <td>12</td>\n",
              "      <td>0</td>\n",
              "    </tr>\n",
              "    <tr>\n",
              "      <th>251998</th>\n",
              "      <td>6507128</td>\n",
              "      <td>45</td>\n",
              "      <td>0</td>\n",
              "      <td>1</td>\n",
              "      <td>2</td>\n",
              "      <td>0</td>\n",
              "      <td>27</td>\n",
              "      <td>233</td>\n",
              "      <td>18</td>\n",
              "      <td>0</td>\n",
              "      <td>10</td>\n",
              "      <td>0</td>\n",
              "    </tr>\n",
              "    <tr>\n",
              "      <th>251999</th>\n",
              "      <td>9070230</td>\n",
              "      <td>70</td>\n",
              "      <td>17</td>\n",
              "      <td>1</td>\n",
              "      <td>2</td>\n",
              "      <td>0</td>\n",
              "      <td>44</td>\n",
              "      <td>26</td>\n",
              "      <td>22</td>\n",
              "      <td>7</td>\n",
              "      <td>11</td>\n",
              "      <td>0</td>\n",
              "    </tr>\n",
              "  </tbody>\n",
              "</table>\n",
              "<p>252000 rows × 12 columns</p>\n",
              "</div>\n",
              "      <button class=\"colab-df-convert\" onclick=\"convertToInteractive('df-637434d7-bc6b-4d93-8737-61ec26dabdcb')\"\n",
              "              title=\"Convert this dataframe to an interactive table.\"\n",
              "              style=\"display:none;\">\n",
              "        \n",
              "  <svg xmlns=\"http://www.w3.org/2000/svg\" height=\"24px\"viewBox=\"0 0 24 24\"\n",
              "       width=\"24px\">\n",
              "    <path d=\"M0 0h24v24H0V0z\" fill=\"none\"/>\n",
              "    <path d=\"M18.56 5.44l.94 2.06.94-2.06 2.06-.94-2.06-.94-.94-2.06-.94 2.06-2.06.94zm-11 1L8.5 8.5l.94-2.06 2.06-.94-2.06-.94L8.5 2.5l-.94 2.06-2.06.94zm10 10l.94 2.06.94-2.06 2.06-.94-2.06-.94-.94-2.06-.94 2.06-2.06.94z\"/><path d=\"M17.41 7.96l-1.37-1.37c-.4-.4-.92-.59-1.43-.59-.52 0-1.04.2-1.43.59L10.3 9.45l-7.72 7.72c-.78.78-.78 2.05 0 2.83L4 21.41c.39.39.9.59 1.41.59.51 0 1.02-.2 1.41-.59l7.78-7.78 2.81-2.81c.8-.78.8-2.07 0-2.86zM5.41 20L4 18.59l7.72-7.72 1.47 1.35L5.41 20z\"/>\n",
              "  </svg>\n",
              "      </button>\n",
              "      \n",
              "  <style>\n",
              "    .colab-df-container {\n",
              "      display:flex;\n",
              "      flex-wrap:wrap;\n",
              "      gap: 12px;\n",
              "    }\n",
              "\n",
              "    .colab-df-convert {\n",
              "      background-color: #E8F0FE;\n",
              "      border: none;\n",
              "      border-radius: 50%;\n",
              "      cursor: pointer;\n",
              "      display: none;\n",
              "      fill: #1967D2;\n",
              "      height: 32px;\n",
              "      padding: 0 0 0 0;\n",
              "      width: 32px;\n",
              "    }\n",
              "\n",
              "    .colab-df-convert:hover {\n",
              "      background-color: #E2EBFA;\n",
              "      box-shadow: 0px 1px 2px rgba(60, 64, 67, 0.3), 0px 1px 3px 1px rgba(60, 64, 67, 0.15);\n",
              "      fill: #174EA6;\n",
              "    }\n",
              "\n",
              "    [theme=dark] .colab-df-convert {\n",
              "      background-color: #3B4455;\n",
              "      fill: #D2E3FC;\n",
              "    }\n",
              "\n",
              "    [theme=dark] .colab-df-convert:hover {\n",
              "      background-color: #434B5C;\n",
              "      box-shadow: 0px 1px 3px 1px rgba(0, 0, 0, 0.15);\n",
              "      filter: drop-shadow(0px 1px 2px rgba(0, 0, 0, 0.3));\n",
              "      fill: #FFFFFF;\n",
              "    }\n",
              "  </style>\n",
              "\n",
              "      <script>\n",
              "        const buttonEl =\n",
              "          document.querySelector('#df-637434d7-bc6b-4d93-8737-61ec26dabdcb button.colab-df-convert');\n",
              "        buttonEl.style.display =\n",
              "          google.colab.kernel.accessAllowed ? 'block' : 'none';\n",
              "\n",
              "        async function convertToInteractive(key) {\n",
              "          const element = document.querySelector('#df-637434d7-bc6b-4d93-8737-61ec26dabdcb');\n",
              "          const dataTable =\n",
              "            await google.colab.kernel.invokeFunction('convertToInteractive',\n",
              "                                                     [key], {});\n",
              "          if (!dataTable) return;\n",
              "\n",
              "          const docLinkHtml = 'Like what you see? Visit the ' +\n",
              "            '<a target=\"_blank\" href=https://colab.research.google.com/notebooks/data_table.ipynb>data table notebook</a>'\n",
              "            + ' to learn more about interactive tables.';\n",
              "          element.innerHTML = '';\n",
              "          dataTable['output_type'] = 'display_data';\n",
              "          await google.colab.output.renderOutput(dataTable, element);\n",
              "          const docLink = document.createElement('div');\n",
              "          docLink.innerHTML = docLinkHtml;\n",
              "          element.appendChild(docLink);\n",
              "        }\n",
              "      </script>\n",
              "    </div>\n",
              "  </div>\n",
              "  "
            ]
          },
          "metadata": {},
          "execution_count": 44
        }
      ],
      "source": [
        "train_data"
      ]
    },
    {
      "cell_type": "code",
      "source": [
        "train_data = train_data.drop_duplicates(subset=list(train_data.columns)[:-1])\n",
        "train_data.shape"
      ],
      "metadata": {
        "colab": {
          "base_uri": "https://localhost:8080/",
          "height": 0
        },
        "id": "xTOEdcssrgrW",
        "outputId": "df1b403f-e0f1-41f7-c370-fc9cba60f12f"
      },
      "execution_count": 45,
      "outputs": [
        {
          "output_type": "execute_result",
          "data": {
            "text/plain": [
              "(42007, 12)"
            ]
          },
          "metadata": {},
          "execution_count": 45
        }
      ]
    },
    {
      "cell_type": "markdown",
      "metadata": {
        "id": "s_F5Z8mixkFE"
      },
      "source": [
        "### Splitting Dataset into Training and Validation Set"
      ]
    },
    {
      "cell_type": "code",
      "source": [
        "X = train_data.drop('Risk_Flag', axis=1)\n",
        "y = train_data['Risk_Flag']"
      ],
      "metadata": {
        "id": "536IpQakty_N"
      },
      "execution_count": 46,
      "outputs": []
    },
    {
      "cell_type": "code",
      "source": [
        "smote = SMOTE(random_state=42)\n",
        "X_over, y_over = smote.fit_resample(X.values, y)\n",
        "X_train_over, X_val_over, y_train_over, y_val_over = train_test_split(X_over, y_over, test_size=0.2, random_state=42)"
      ],
      "metadata": {
        "id": "0aEeqFLlteJT"
      },
      "execution_count": 47,
      "outputs": []
    },
    {
      "cell_type": "code",
      "source": [
        "undersampler = RandomUnderSampler(sampling_strategy='majority')\n",
        "X_under, y_under = undersampler.fit_resample(X.values, y)\n",
        "X_train_under, X_val_under, y_train_under, y_val_under = train_test_split(X_under, y_under, test_size=0.2, random_state=42)"
      ],
      "metadata": {
        "id": "-t6Hk2cetd8l"
      },
      "execution_count": 48,
      "outputs": []
    },
    {
      "cell_type": "code",
      "source": [
        "X_train, X_val, y_train, y_val = train_test_split(X, y, test_size=0.2, random_state=101, stratify=train_data['Risk_Flag'])"
      ],
      "metadata": {
        "id": "oWgZonmQsnNP"
      },
      "execution_count": 49,
      "outputs": []
    },
    {
      "cell_type": "markdown",
      "metadata": {
        "id": "ibphava7xkFF"
      },
      "source": [
        "### Scaling Data Values in Training Set"
      ]
    },
    {
      "cell_type": "code",
      "execution_count": 50,
      "metadata": {
        "id": "XZOibd7cxkFF"
      },
      "outputs": [],
      "source": [
        "scaler = StandardScaler()\n",
        "\n",
        "X_train = scaler.fit_transform(X_train)\n",
        "X_val = scaler.transform(X_val)\n",
        "\n",
        "X_train_over = scaler.fit_transform(X_train_over)\n",
        "X_val_over = scaler.transform(X_val_over)\n",
        "\n",
        "X_train_under = scaler.fit_transform(X_train_under)\n",
        "X_val_under = scaler.transform(X_val_under)"
      ]
    },
    {
      "cell_type": "markdown",
      "metadata": {
        "id": "mE3C2Q3yxkFF"
      },
      "source": [
        "## Training Model"
      ]
    },
    {
      "cell_type": "code",
      "execution_count": 51,
      "metadata": {
        "id": "MfDPNyj4xkFG"
      },
      "outputs": [],
      "source": [
        "def model_apply(model, X_training, y_training, X_validation, y_validation, filename):\n",
        "    model.fit(X_training, y_training)\n",
        "    y_pred = model.predict(X_validation)\n",
        "    \n",
        "    print(\"Accuracy: {}\".format(accuracy_score(y_validation, y_pred)))\n",
        "    \n",
        "    print(\"Classification Report: \\n{}\".format(classification_report(y_validation, y_pred)))\n",
        "    \n",
        "    conf_matrix = confusion_matrix(y_validation, y_pred)\n",
        "    print(\"Confusion Matrix: \")\n",
        "    sns.heatmap(conf_matrix, annot=True, fmt='d')\n",
        "    \n",
        "    filename = \"model/{}.pkl\".format(filename)\n",
        "    pickle.dump(model, open(filename, 'wb'))"
      ]
    },
    {
      "cell_type": "code",
      "execution_count": 52,
      "metadata": {
        "id": "ymXySYEoxkFG"
      },
      "outputs": [],
      "source": [
        "logistic_regression = LogisticRegression(class_weight='balanced', penalty=\"l1\", solver=\"liblinear\")\n",
        "decision_tree = DecisionTreeClassifier(class_weight='balanced', criterion='gini', random_state=101)\n",
        "random_forest = RandomForestClassifier(class_weight='balanced', random_state=101, n_estimators=100, criterion='gini')\n",
        "neighbours = KNeighborsClassifier(n_neighbors=5, metric='minkowski', p=2)"
      ]
    },
    {
      "cell_type": "markdown",
      "metadata": {
        "id": "jL7eptAPxkFG"
      },
      "source": [
        "### Logistic Regression"
      ]
    },
    {
      "cell_type": "code",
      "execution_count": 53,
      "metadata": {
        "id": "eUZQJN13xkFG",
        "outputId": "98cbb868-7440-4d6c-dcfb-32c44720d06b",
        "colab": {
          "base_uri": "https://localhost:8080/",
          "height": 491
        }
      },
      "outputs": [
        {
          "output_type": "stream",
          "name": "stdout",
          "text": [
            "On entire Data\n",
            "Accuracy: 0.4900023803856225\n",
            "Classification Report: \n",
            "              precision    recall  f1-score   support\n",
            "\n",
            "           0       0.80      0.48      0.60      6745\n",
            "           1       0.20      0.52      0.29      1657\n",
            "\n",
            "    accuracy                           0.49      8402\n",
            "   macro avg       0.50      0.50      0.44      8402\n",
            "weighted avg       0.68      0.49      0.54      8402\n",
            "\n",
            "Confusion Matrix: \n"
          ]
        },
        {
          "output_type": "display_data",
          "data": {
            "text/plain": [
              "<Figure size 432x288 with 2 Axes>"
            ],
            "image/png": "[encoded data removed]"
          },
          "metadata": {
            "needs_background": "light"
          }
        }
      ],
      "source": [
        "print(\"On entire Data\")\n",
        "model_apply(logistic_regression, X_train, y_train, X_val, y_val, 'LogisticRegression')"
      ]
    },
    {
      "cell_type": "code",
      "source": [
        "print(\"On Random Under Sample\")\n",
        "model_apply(logistic_regression, X_train_under, y_train_under, X_val_under, y_val_under, 'LogisticRegressionUnder')"
      ],
      "metadata": {
        "colab": {
          "base_uri": "https://localhost:8080/",
          "height": 491
        },
        "id": "A-nm1EpwundN",
        "outputId": "e121fa02-342e-4028-bf6d-1f32501b53d6"
      },
      "execution_count": 54,
      "outputs": [
        {
          "output_type": "stream",
          "name": "stdout",
          "text": [
            "On Random Under Sample\n",
            "Accuracy: 0.4939649969824985\n",
            "Classification Report: \n",
            "              precision    recall  f1-score   support\n",
            "\n",
            "           0       0.50      0.40      0.44      1677\n",
            "           1       0.49      0.59      0.54      1637\n",
            "\n",
            "    accuracy                           0.49      3314\n",
            "   macro avg       0.49      0.50      0.49      3314\n",
            "weighted avg       0.49      0.49      0.49      3314\n",
            "\n",
            "Confusion Matrix: \n"
          ]
        },
        {
          "output_type": "display_data",
          "data": {
            "text/plain": [
              "<Figure size 432x288 with 2 Axes>"
            ],
            "image/png": "[encoded data removed]"
          },
          "metadata": {
            "needs_background": "light"
          }
        }
      ]
    },
    {
      "cell_type": "code",
      "source": [
        "print(\"On SMOTE Sample\")\n",
        "model_apply(logistic_regression, X_train_over, y_train_over, X_val_over, y_val_over, 'LogisticRegressionOver')"
      ],
      "metadata": {
        "colab": {
          "base_uri": "https://localhost:8080/",
          "height": 491
        },
        "id": "hAGOTUIoun4B",
        "outputId": "3ae51d7e-fd9d-4dbf-cf5b-8e0f6407b884"
      },
      "execution_count": 55,
      "outputs": [
        {
          "output_type": "stream",
          "name": "stdout",
          "text": [
            "On SMOTE Sample\n",
            "Accuracy: 0.6044184150048187\n",
            "Classification Report: \n",
            "              precision    recall  f1-score   support\n",
            "\n",
            "           0       0.62      0.55      0.58      6761\n",
            "           1       0.59      0.66      0.62      6728\n",
            "\n",
            "    accuracy                           0.60     13489\n",
            "   macro avg       0.61      0.60      0.60     13489\n",
            "weighted avg       0.61      0.60      0.60     13489\n",
            "\n",
            "Confusion Matrix: \n"
          ]
        },
        {
          "output_type": "display_data",
          "data": {
            "text/plain": [
              "<Figure size 432x288 with 2 Axes>"
            ],
            "image/png": "[encoded data removed]"
          },
          "metadata": {
            "needs_background": "light"
          }
        }
      ]
    },
    {
      "cell_type": "markdown",
      "source": [
        "### Decision Tree"
      ],
      "metadata": {
        "id": "08kN-tZBuycx"
      }
    },
    {
      "cell_type": "code",
      "execution_count": 56,
      "metadata": {
        "outputId": "b9c044d2-a5e8-4823-d15a-2ecef0fed9b6",
        "colab": {
          "base_uri": "https://localhost:8080/",
          "height": 491
        },
        "id": "Jspi4qieu5yK"
      },
      "outputs": [
        {
          "output_type": "stream",
          "name": "stdout",
          "text": [
            "On entire Data\n",
            "Accuracy: 0.6854320399904784\n",
            "Classification Report: \n",
            "              precision    recall  f1-score   support\n",
            "\n",
            "           0       0.80      0.81      0.80      6745\n",
            "           1       0.19      0.19      0.19      1657\n",
            "\n",
            "    accuracy                           0.69      8402\n",
            "   macro avg       0.50      0.50      0.50      8402\n",
            "weighted avg       0.68      0.69      0.68      8402\n",
            "\n",
            "Confusion Matrix: \n"
          ]
        },
        {
          "output_type": "display_data",
          "data": {
            "text/plain": [
              "<Figure size 432x288 with 2 Axes>"
            ],
            "image/png": "[encoded data removed]"
          },
          "metadata": {
            "needs_background": "light"
          }
        }
      ],
      "source": [
        "print(\"On entire Data\")\n",
        "model_apply(decision_tree, X_train, y_train, X_val, y_val, 'DecisionTree')"
      ]
    },
    {
      "cell_type": "code",
      "source": [
        "print(\"On Random Under Sample\")\n",
        "model_apply(decision_tree, X_train_under, y_train_under, X_val_under, y_val_under, 'DecisionTreeUnder')"
      ],
      "metadata": {
        "colab": {
          "base_uri": "https://localhost:8080/",
          "height": 491
        },
        "id": "CVnvK-F7u5yN",
        "outputId": "9504097a-7dc0-4cda-c93e-a23179971798"
      },
      "execution_count": 57,
      "outputs": [
        {
          "output_type": "stream",
          "name": "stdout",
          "text": [
            "On Random Under Sample\n",
            "Accuracy: 0.4927579963789982\n",
            "Classification Report: \n",
            "              precision    recall  f1-score   support\n",
            "\n",
            "           0       0.50      0.49      0.49      1677\n",
            "           1       0.49      0.50      0.49      1637\n",
            "\n",
            "    accuracy                           0.49      3314\n",
            "   macro avg       0.49      0.49      0.49      3314\n",
            "weighted avg       0.49      0.49      0.49      3314\n",
            "\n",
            "Confusion Matrix: \n"
          ]
        },
        {
          "output_type": "display_data",
          "data": {
            "text/plain": [
              "<Figure size 432x288 with 2 Axes>"
            ],
            "image/png": "[encoded data removed]"
          },
          "metadata": {
            "needs_background": "light"
          }
        }
      ]
    },
    {
      "cell_type": "code",
      "source": [
        "print(\"On SMOTE Sample\")\n",
        "model_apply(decision_tree, X_train_over, y_train_over, X_val_over, y_val_over, 'DecisionTreeOver')"
      ],
      "metadata": {
        "colab": {
          "base_uri": "https://localhost:8080/",
          "height": 491
        },
        "id": "RcYIDxUEu5yO",
        "outputId": "0ca2cc5b-4889-434f-8b6b-ce105c7d8af8"
      },
      "execution_count": 58,
      "outputs": [
        {
          "output_type": "stream",
          "name": "stdout",
          "text": [
            "On SMOTE Sample\n",
            "Accuracy: 0.7175476314033657\n",
            "Classification Report: \n",
            "              precision    recall  f1-score   support\n",
            "\n",
            "           0       0.72      0.71      0.71      6761\n",
            "           1       0.71      0.73      0.72      6728\n",
            "\n",
            "    accuracy                           0.72     13489\n",
            "   macro avg       0.72      0.72      0.72     13489\n",
            "weighted avg       0.72      0.72      0.72     13489\n",
            "\n",
            "Confusion Matrix: \n"
          ]
        },
        {
          "output_type": "display_data",
          "data": {
            "text/plain": [
              "<Figure size 432x288 with 2 Axes>"
            ],
            "image/png": "[encoded data removed]"
          },
          "metadata": {
            "needs_background": "light"
          }
        }
      ]
    },
    {
      "cell_type": "markdown",
      "source": [
        "### Random Forest"
      ],
      "metadata": {
        "id": "lusdI5aqu-ci"
      }
    },
    {
      "cell_type": "code",
      "source": [
        "print(\"On entire Data\")\n",
        "model_apply(random_forest, X_train, y_train, X_val, y_val, 'RandomForest')"
      ],
      "metadata": {
        "colab": {
          "base_uri": "https://localhost:8080/",
          "height": 491
        },
        "id": "-6zVdAKKvJui",
        "outputId": "777ae989-20df-4b1c-c407-d75b97a992d9"
      },
      "execution_count": 59,
      "outputs": [
        {
          "output_type": "stream",
          "name": "stdout",
          "text": [
            "On entire Data\n",
            "Accuracy: 0.8026660318971673\n",
            "Classification Report: \n",
            "              precision    recall  f1-score   support\n",
            "\n",
            "           0       0.80      1.00      0.89      6745\n",
            "           1       0.00      0.00      0.00      1657\n",
            "\n",
            "    accuracy                           0.80      8402\n",
            "   macro avg       0.40      0.50      0.45      8402\n",
            "weighted avg       0.64      0.80      0.71      8402\n",
            "\n",
            "Confusion Matrix: \n"
          ]
        },
        {
          "output_type": "display_data",
          "data": {
            "text/plain": [
              "<Figure size 432x288 with 2 Axes>"
            ],
            "image/png": "[encoded data removed]"
          },
          "metadata": {
            "needs_background": "light"
          }
        }
      ]
    },
    {
      "cell_type": "code",
      "execution_count": 60,
      "metadata": {
        "id": "rcGOnoamxkFH",
        "outputId": "ad1ac818-5bde-4451-b7bb-40a53eae9b6a",
        "colab": {
          "base_uri": "https://localhost:8080/",
          "height": 491
        }
      },
      "outputs": [
        {
          "output_type": "stream",
          "name": "stdout",
          "text": [
            "On Random Under Sample\n",
            "Accuracy: 0.4945684972842486\n",
            "Classification Report: \n",
            "              precision    recall  f1-score   support\n",
            "\n",
            "           0       0.50      0.50      0.50      1677\n",
            "           1       0.49      0.49      0.49      1637\n",
            "\n",
            "    accuracy                           0.49      3314\n",
            "   macro avg       0.49      0.49      0.49      3314\n",
            "weighted avg       0.49      0.49      0.49      3314\n",
            "\n",
            "Confusion Matrix: \n"
          ]
        },
        {
          "output_type": "display_data",
          "data": {
            "text/plain": [
              "<Figure size 432x288 with 2 Axes>"
            ],
            "image/png": "[encoded data removed]"
          },
          "metadata": {
            "needs_background": "light"
          }
        }
      ],
      "source": [
        "print(\"On Random Under Sample\")\n",
        "model_apply(random_forest, X_train_under, y_train_under, X_val_under, y_val_under, 'RandomForestUnder')"
      ]
    },
    {
      "cell_type": "code",
      "source": [
        "print(\"On SMOTE Sample\")\n",
        "model_apply(random_forest, X_train_over, y_train_over, X_val_over, y_val_over, 'RandomForestOver')"
      ],
      "metadata": {
        "colab": {
          "base_uri": "https://localhost:8080/",
          "height": 491
        },
        "id": "_tz7YzECvPNi",
        "outputId": "274f329a-9903-42fc-c790-460753619d76"
      },
      "execution_count": 61,
      "outputs": [
        {
          "output_type": "stream",
          "name": "stdout",
          "text": [
            "On SMOTE Sample\n",
            "Accuracy: 0.7665505226480837\n",
            "Classification Report: \n",
            "              precision    recall  f1-score   support\n",
            "\n",
            "           0       0.75      0.81      0.78      6761\n",
            "           1       0.79      0.73      0.76      6728\n",
            "\n",
            "    accuracy                           0.77     13489\n",
            "   macro avg       0.77      0.77      0.77     13489\n",
            "weighted avg       0.77      0.77      0.77     13489\n",
            "\n",
            "Confusion Matrix: \n"
          ]
        },
        {
          "output_type": "display_data",
          "data": {
            "text/plain": [
              "<Figure size 432x288 with 2 Axes>"
            ],
            "image/png": "[encoded data removed]"
          },
          "metadata": {
            "needs_background": "light"
          }
        }
      ]
    },
    {
      "cell_type": "markdown",
      "source": [
        "### Nearest Neighbours"
      ],
      "metadata": {
        "id": "-1TEzzZlvF38"
      }
    },
    {
      "cell_type": "code",
      "execution_count": 62,
      "metadata": {
        "id": "XdqkqlVmxkFI",
        "outputId": "56c49e1b-aea0-44b0-b07b-3b5889dee2fd",
        "colab": {
          "base_uri": "https://localhost:8080/",
          "height": 491
        }
      },
      "outputs": [
        {
          "output_type": "stream",
          "name": "stdout",
          "text": [
            "On entire Data\n",
            "Accuracy: 0.7688645560580815\n",
            "Classification Report: \n",
            "              precision    recall  f1-score   support\n",
            "\n",
            "           0       0.80      0.94      0.87      6745\n",
            "           1       0.19      0.05      0.08      1657\n",
            "\n",
            "    accuracy                           0.77      8402\n",
            "   macro avg       0.50      0.50      0.48      8402\n",
            "weighted avg       0.68      0.77      0.71      8402\n",
            "\n",
            "Confusion Matrix: \n"
          ]
        },
        {
          "output_type": "display_data",
          "data": {
            "text/plain": [
              "<Figure size 432x288 with 2 Axes>"
            ],
            "image/png": "[encoded data removed]"
          },
          "metadata": {
            "needs_background": "light"
          }
        }
      ],
      "source": [
        "print(\"On entire Data\")\n",
        "model_apply(neighbours, X_train, y_train, X_val, y_val, 'KNeighbors')"
      ]
    },
    {
      "cell_type": "code",
      "source": [
        "print(\"On Random Under Sample\")\n",
        "model_apply(neighbours, X_train_under, y_train_under, X_val_under, y_val_under, 'KNeighborsUnder')"
      ],
      "metadata": {
        "colab": {
          "base_uri": "https://localhost:8080/",
          "height": 491
        },
        "id": "dATng2xhvagi",
        "outputId": "db1c3737-80d5-46b2-8f31-92e7ebad10ec"
      },
      "execution_count": 63,
      "outputs": [
        {
          "output_type": "stream",
          "name": "stdout",
          "text": [
            "On Random Under Sample\n",
            "Accuracy: 0.4939649969824985\n",
            "Classification Report: \n",
            "              precision    recall  f1-score   support\n",
            "\n",
            "           0       0.50      0.49      0.49      1677\n",
            "           1       0.49      0.50      0.49      1637\n",
            "\n",
            "    accuracy                           0.49      3314\n",
            "   macro avg       0.49      0.49      0.49      3314\n",
            "weighted avg       0.49      0.49      0.49      3314\n",
            "\n",
            "Confusion Matrix: \n"
          ]
        },
        {
          "output_type": "display_data",
          "data": {
            "text/plain": [
              "<Figure size 432x288 with 2 Axes>"
            ],
            "image/png": "[encoded data removed]"
          },
          "metadata": {
            "needs_background": "light"
          }
        }
      ]
    },
    {
      "cell_type": "code",
      "source": [
        "print(\"On SMOTE Sample\")\n",
        "model_apply(neighbours, X_train_over, y_train_over, X_val_over, y_val_over, 'KNeighborsOver')"
      ],
      "metadata": {
        "colab": {
          "base_uri": "https://localhost:8080/",
          "height": 491
        },
        "id": "Dwnd_4eNvfaR",
        "outputId": "07356aa2-57bd-4088-e87f-d5b46dd5fa61"
      },
      "execution_count": 64,
      "outputs": [
        {
          "output_type": "stream",
          "name": "stdout",
          "text": [
            "On SMOTE Sample\n",
            "Accuracy: 0.6706946400770999\n",
            "Classification Report: \n",
            "              precision    recall  f1-score   support\n",
            "\n",
            "           0       0.71      0.58      0.64      6761\n",
            "           1       0.64      0.76      0.70      6728\n",
            "\n",
            "    accuracy                           0.67     13489\n",
            "   macro avg       0.68      0.67      0.67     13489\n",
            "weighted avg       0.68      0.67      0.67     13489\n",
            "\n",
            "Confusion Matrix: \n"
          ]
        },
        {
          "output_type": "display_data",
          "data": {
            "text/plain": [
              "<Figure size 432x288 with 2 Axes>"
            ],
            "image/png": "[encoded data removed]"
          },
          "metadata": {
            "needs_background": "light"
          }
        }
      ]
    },
    {
      "cell_type": "markdown",
      "source": [
        "### Neural Networks"
      ],
      "metadata": {
        "id": "WJzhkBxUyFFd"
      }
    },
    {
      "cell_type": "code",
      "source": [
        "def train_neural_networks(model, X_training, y_training, X_validation, y_validation, learning_rate=0.1, epochs=50, batch_size=100):\n",
        "  Adam(learning_rate=learning_rate)\n",
        "  model.compile(\n",
        "    loss='binary_crossentropy', \n",
        "    optimizer='adam',\n",
        "    metrics=[metrics.Recall(), metrics.Precision()]\n",
        "  )\n",
        "  return model.fit(X_training, y_training, validation_data=(X_validation, y_validation), epochs=epochs, batch_size=batch_size)"
      ],
      "metadata": {
        "id": "YPinl2VBAVPD"
      },
      "execution_count": 65,
      "outputs": []
    },
    {
      "cell_type": "code",
      "source": [
        "def show_and_save_model(model, name, X_validation, y_validation):\n",
        "  y_pred = model.predict(X_validation) > 0.5\n",
        "\n",
        "  print(\"Accuracy: {}\".format(accuracy_score(y_validation, y_pred)))\n",
        "\n",
        "  print(\"Classification Report: \\n{}\".format(classification_report(y_validation, y_pred)))\n",
        "\n",
        "  conf_matrix = confusion_matrix(y_validation, y_pred)\n",
        "  print(\"Confusion Matrix: \")\n",
        "  sns.heatmap(conf_matrix, annot=True, fmt='d')\n",
        "\n",
        "  filename = \"model/{}.pkl\".format(name)\n",
        "  pickle.dump(model, open(filename, 'wb'))"
      ],
      "metadata": {
        "id": "T0K5GEWkBEIh"
      },
      "execution_count": 66,
      "outputs": []
    },
    {
      "cell_type": "code",
      "source": [
        "neg_under, pos_under = np.bincount(y_train_under)"
      ],
      "metadata": {
        "id": "jr6y1ncf8Ume"
      },
      "execution_count": 67,
      "outputs": []
    },
    {
      "cell_type": "code",
      "source": [
        "neg_over, pos_over = np.bincount(y_train_over)"
      ],
      "metadata": {
        "id": "gww1LzoG3fSy"
      },
      "execution_count": 68,
      "outputs": []
    },
    {
      "cell_type": "code",
      "source": [
        "initial_bias_under = np.log([pos_under/neg_under])\n",
        "initial_bias_under"
      ],
      "metadata": {
        "id": "rN-VsTHS7pJ8",
        "outputId": "73f5642d-3c95-40ab-d119-04db48d08e61",
        "colab": {
          "base_uri": "https://localhost:8080/",
          "height": 0
        }
      },
      "execution_count": 69,
      "outputs": [
        {
          "output_type": "execute_result",
          "data": {
            "text/plain": [
              "array([0.00603502])"
            ]
          },
          "metadata": {},
          "execution_count": 69
        }
      ]
    },
    {
      "cell_type": "code",
      "source": [
        "initial_bias_over = np.log([pos_over/neg_over])\n",
        "initial_bias_over"
      ],
      "metadata": {
        "colab": {
          "base_uri": "https://localhost:8080/",
          "height": 0
        },
        "id": "eZMo8WBn3n-g",
        "outputId": "f92ed930-7aed-4e88-a01b-e2cc90c8a374"
      },
      "execution_count": 70,
      "outputs": [
        {
          "output_type": "execute_result",
          "data": {
            "text/plain": [
              "array([0.00122324])"
            ]
          },
          "metadata": {},
          "execution_count": 70
        }
      ]
    },
    {
      "cell_type": "markdown",
      "source": [
        "#### On Random Under Sample"
      ],
      "metadata": {
        "id": "8w_CL01XwB2S"
      }
    },
    {
      "cell_type": "code",
      "source": [
        "model = Sequential()\n",
        "\n",
        "model.add(Dense(128, input_shape=(11,), activation='relu'))\n",
        "model.add(Dense(128, activation='relu'))\n",
        "model.add(Dropout(0.5))\n",
        "model.add(Dense(64, activation='relu'))\n",
        "model.add(Dense(1, activation='sigmoid', bias_initializer=Constant(initial_bias_under)))\n",
        "\n",
        "model.summary()"
      ],
      "metadata": {
        "outputId": "677ca246-4a42-4efa-f0b3-5c637bd3f0f4",
        "colab": {
          "base_uri": "https://localhost:8080/",
          "height": 0
        },
        "id": "vdwJXuLf66xc"
      },
      "execution_count": 71,
      "outputs": [
        {
          "output_type": "stream",
          "name": "stdout",
          "text": [
            "Model: \"sequential\"\n",
            "_________________________________________________________________\n",
            " Layer (type)                Output Shape              Param #   \n",
            "=================================================================\n",
            " dense (Dense)               (None, 128)               1536      \n",
            "                                                                 \n",
            " dense_1 (Dense)             (None, 128)               16512     \n",
            "                                                                 \n",
            " dropout (Dropout)           (None, 128)               0         \n",
            "                                                                 \n",
            " dense_2 (Dense)             (None, 64)                8256      \n",
            "                                                                 \n",
            " dense_3 (Dense)             (None, 1)                 65        \n",
            "                                                                 \n",
            "=================================================================\n",
            "Total params: 26,369\n",
            "Trainable params: 26,369\n",
            "Non-trainable params: 0\n",
            "_________________________________________________________________\n"
          ]
        }
      ]
    },
    {
      "cell_type": "code",
      "source": [
        "hist_us = train_neural_networks(model, X_train_under, y_train_under, X_val_under, y_val_under, learning_rate=0.1, batch_size=15, epochs=25)"
      ],
      "metadata": {
        "colab": {
          "base_uri": "https://localhost:8080/",
          "height": 0
        },
        "id": "VNX3gpA56zjr",
        "outputId": "e510b601-531f-4743-c70b-32301705c180"
      },
      "execution_count": 72,
      "outputs": [
        {
          "output_type": "stream",
          "name": "stdout",
          "text": [
            "Epoch 1/25\n",
            "884/884 [==============================] - 5s 4ms/step - loss: 0.6969 - recall: 0.5224 - precision: 0.5038 - val_loss: 0.6947 - val_recall: 0.5834 - val_precision: 0.4867\n",
            "Epoch 2/25\n",
            "884/884 [==============================] - 3s 4ms/step - loss: 0.6945 - recall: 0.5161 - precision: 0.5042 - val_loss: 0.6944 - val_recall: 0.8986 - val_precision: 0.4935\n",
            "Epoch 3/25\n",
            "884/884 [==============================] - 3s 3ms/step - loss: 0.6933 - recall: 0.5800 - precision: 0.5117 - val_loss: 0.6940 - val_recall: 0.7813 - val_precision: 0.4910\n",
            "Epoch 4/25\n",
            "884/884 [==============================] - 3s 4ms/step - loss: 0.6931 - recall: 0.6139 - precision: 0.5124 - val_loss: 0.6935 - val_recall: 0.5082 - val_precision: 0.4909\n",
            "Epoch 5/25\n",
            "884/884 [==============================] - 3s 4ms/step - loss: 0.6929 - recall: 0.5623 - precision: 0.5116 - val_loss: 0.6945 - val_recall: 0.6689 - val_precision: 0.4884\n",
            "Epoch 6/25\n",
            "884/884 [==============================] - 3s 3ms/step - loss: 0.6918 - recall: 0.6330 - precision: 0.5163 - val_loss: 0.6936 - val_recall: 0.6995 - val_precision: 0.4923\n",
            "Epoch 7/25\n",
            "884/884 [==============================] - 3s 3ms/step - loss: 0.6925 - recall: 0.6337 - precision: 0.5110 - val_loss: 0.6934 - val_recall: 0.6823 - val_precision: 0.4908\n",
            "Epoch 8/25\n",
            "884/884 [==============================] - 3s 4ms/step - loss: 0.6920 - recall: 0.6045 - precision: 0.5139 - val_loss: 0.6946 - val_recall: 0.4435 - val_precision: 0.4770\n",
            "Epoch 9/25\n",
            "884/884 [==============================] - 3s 3ms/step - loss: 0.6926 - recall: 0.5817 - precision: 0.5177 - val_loss: 0.6946 - val_recall: 0.6463 - val_precision: 0.4932\n",
            "Epoch 10/25\n",
            "884/884 [==============================] - 3s 4ms/step - loss: 0.6919 - recall: 0.5369 - precision: 0.5227 - val_loss: 0.6939 - val_recall: 0.6066 - val_precision: 0.4894\n",
            "Epoch 11/25\n",
            "884/884 [==============================] - 3s 4ms/step - loss: 0.6911 - recall: 0.5710 - precision: 0.5258 - val_loss: 0.6945 - val_recall: 0.6365 - val_precision: 0.4950\n",
            "Epoch 12/25\n",
            "884/884 [==============================] - 3s 4ms/step - loss: 0.6909 - recall: 0.5802 - precision: 0.5217 - val_loss: 0.6942 - val_recall: 0.6677 - val_precision: 0.4935\n",
            "Epoch 13/25\n",
            "884/884 [==============================] - 3s 3ms/step - loss: 0.6908 - recall: 0.6024 - precision: 0.5238 - val_loss: 0.6947 - val_recall: 0.3531 - val_precision: 0.4821\n",
            "Epoch 14/25\n",
            "884/884 [==============================] - 3s 3ms/step - loss: 0.6905 - recall: 0.5451 - precision: 0.5280 - val_loss: 0.6962 - val_recall: 0.7398 - val_precision: 0.4931\n",
            "Epoch 15/25\n",
            "884/884 [==============================] - 3s 3ms/step - loss: 0.6898 - recall: 0.6073 - precision: 0.5259 - val_loss: 0.6957 - val_recall: 0.5034 - val_precision: 0.4946\n",
            "Epoch 16/25\n",
            "884/884 [==============================] - 3s 3ms/step - loss: 0.6897 - recall: 0.5507 - precision: 0.5294 - val_loss: 0.6963 - val_recall: 0.6194 - val_precision: 0.4877\n",
            "Epoch 17/25\n",
            "884/884 [==============================] - 5s 6ms/step - loss: 0.6889 - recall: 0.5471 - precision: 0.5364 - val_loss: 0.6968 - val_recall: 0.5583 - val_precision: 0.4973\n",
            "Epoch 18/25\n",
            "884/884 [==============================] - 3s 4ms/step - loss: 0.6883 - recall: 0.5761 - precision: 0.5360 - val_loss: 0.6957 - val_recall: 0.3610 - val_precision: 0.4868\n",
            "Epoch 19/25\n",
            "884/884 [==============================] - 3s 4ms/step - loss: 0.6871 - recall: 0.5492 - precision: 0.5409 - val_loss: 0.6995 - val_recall: 0.4423 - val_precision: 0.4814\n",
            "Epoch 20/25\n",
            "884/884 [==============================] - 3s 3ms/step - loss: 0.6875 - recall: 0.5537 - precision: 0.5393 - val_loss: 0.6966 - val_recall: 0.3684 - val_precision: 0.4871\n",
            "Epoch 21/25\n",
            "884/884 [==============================] - 3s 3ms/step - loss: 0.6859 - recall: 0.5214 - precision: 0.5456 - val_loss: 0.7003 - val_recall: 0.3965 - val_precision: 0.4818\n",
            "Epoch 22/25\n",
            "884/884 [==============================] - 4s 4ms/step - loss: 0.6857 - recall: 0.5218 - precision: 0.5505 - val_loss: 0.6980 - val_recall: 0.4111 - val_precision: 0.4873\n",
            "Epoch 23/25\n",
            "884/884 [==============================] - 3s 3ms/step - loss: 0.6853 - recall: 0.5194 - precision: 0.5522 - val_loss: 0.6985 - val_recall: 0.5199 - val_precision: 0.4888\n",
            "Epoch 24/25\n",
            "884/884 [==============================] - 5s 6ms/step - loss: 0.6835 - recall: 0.5432 - precision: 0.5526 - val_loss: 0.7031 - val_recall: 0.5363 - val_precision: 0.4897\n",
            "Epoch 25/25\n",
            "884/884 [==============================] - 6s 7ms/step - loss: 0.6823 - recall: 0.5277 - precision: 0.5539 - val_loss: 0.7012 - val_recall: 0.4319 - val_precision: 0.4816\n"
          ]
        }
      ]
    },
    {
      "cell_type": "code",
      "source": [
        "show_and_save_model(model, 'TwoLayerBiasUnder', X_val_under, y_val_under)"
      ],
      "metadata": {
        "colab": {
          "base_uri": "https://localhost:8080/",
          "height": 491
        },
        "id": "I44_xjXawEql",
        "outputId": "e4dbb4a8-a976-43b9-b599-6816e8945db6"
      },
      "execution_count": 73,
      "outputs": [
        {
          "output_type": "stream",
          "name": "stdout",
          "text": [
            "104/104 [==============================] - 0s 2ms/step\n",
            "Accuracy: 0.48974049487024746\n",
            "Classification Report: \n",
            "              precision    recall  f1-score   support\n",
            "\n",
            "           0       0.50      0.55      0.52      1677\n",
            "           1       0.48      0.43      0.46      1637\n",
            "\n",
            "    accuracy                           0.49      3314\n",
            "   macro avg       0.49      0.49      0.49      3314\n",
            "weighted avg       0.49      0.49      0.49      3314\n",
            "\n",
            "Confusion Matrix: \n"
          ]
        },
        {
          "output_type": "display_data",
          "data": {
            "text/plain": [
              "<Figure size 432x288 with 2 Axes>"
            ],
            "image/png": "[encoded data removed]"
          },
          "metadata": {
            "needs_background": "light"
          }
        }
      ]
    },
    {
      "cell_type": "markdown",
      "source": [
        "#### On SMOTE Sample"
      ],
      "metadata": {
        "id": "amGzZKYTwMRx"
      }
    },
    {
      "cell_type": "code",
      "source": [
        "model = Sequential()\n",
        "\n",
        "model.add(Dense(256, input_shape=(11,), activation='relu'))\n",
        "model.add(Dropout(0.5))\n",
        "model.add(Dense(256, activation='relu'))\n",
        "model.add(Dropout(0.5))\n",
        "model.add(Dense(128, activation='relu'))\n",
        "model.add(Dense(128, activation='relu'))\n",
        "model.add(Dense(1, activation='sigmoid', bias_initializer=Constant(initial_bias_over)))\n",
        "\n",
        "model.summary()"
      ],
      "metadata": {
        "colab": {
          "base_uri": "https://localhost:8080/",
          "height": 0
        },
        "id": "noqFJLVBxR1E",
        "outputId": "4f59f932-a2d9-4a7c-a1a7-de3189f3532e"
      },
      "execution_count": 83,
      "outputs": [
        {
          "output_type": "stream",
          "name": "stdout",
          "text": [
            "Model: \"sequential_5\"\n",
            "_________________________________________________________________\n",
            " Layer (type)                Output Shape              Param #   \n",
            "=================================================================\n",
            " dense_22 (Dense)            (None, 256)               3072      \n",
            "                                                                 \n",
            " dropout_8 (Dropout)         (None, 256)               0         \n",
            "                                                                 \n",
            " dense_23 (Dense)            (None, 256)               65792     \n",
            "                                                                 \n",
            " dropout_9 (Dropout)         (None, 256)               0         \n",
            "                                                                 \n",
            " dense_24 (Dense)            (None, 128)               32896     \n",
            "                                                                 \n",
            " dense_25 (Dense)            (None, 128)               16512     \n",
            "                                                                 \n",
            " dense_26 (Dense)            (None, 1)                 129       \n",
            "                                                                 \n",
            "=================================================================\n",
            "Total params: 118,401\n",
            "Trainable params: 118,401\n",
            "Non-trainable params: 0\n",
            "_________________________________________________________________\n"
          ]
        }
      ]
    },
    {
      "cell_type": "code",
      "source": [
        "hist_os = train_neural_networks(model, X_train_over, y_train_over, X_val_over, y_val_over, learning_rate=0.1, batch_size=50, epochs=50)"
      ],
      "metadata": {
        "colab": {
          "base_uri": "https://localhost:8080/",
          "height": 0
        },
        "id": "vFBNJW7xwQ3b",
        "outputId": "2b7b34dd-2c34-426b-ed94-ecf6bdcabc57"
      },
      "execution_count": 84,
      "outputs": [
        {
          "output_type": "stream",
          "name": "stdout",
          "text": [
            "Epoch 1/50\n",
            "1080/1080 [==============================] - 9s 7ms/step - loss: 0.6499 - recall_6: 0.5895 - precision_6: 0.6339 - val_loss: 0.6247 - val_recall_6: 0.7032 - val_precision_6: 0.6413\n",
            "Epoch 2/50\n",
            "1080/1080 [==============================] - 7s 7ms/step - loss: 0.6249 - recall_6: 0.5902 - precision_6: 0.6762 - val_loss: 0.6113 - val_recall_6: 0.6668 - val_precision_6: 0.6744\n",
            "Epoch 3/50\n",
            "1080/1080 [==============================] - 7s 7ms/step - loss: 0.6179 - recall_6: 0.5994 - precision_6: 0.6848 - val_loss: 0.6071 - val_recall_6: 0.5806 - val_precision_6: 0.7052\n",
            "Epoch 4/50\n",
            "1080/1080 [==============================] - 7s 7ms/step - loss: 0.6125 - recall_6: 0.6100 - precision_6: 0.6906 - val_loss: 0.6038 - val_recall_6: 0.5611 - val_precision_6: 0.7237\n",
            "Epoch 5/50\n",
            "1080/1080 [==============================] - 7s 7ms/step - loss: 0.6103 - recall_6: 0.6091 - precision_6: 0.6912 - val_loss: 0.6078 - val_recall_6: 0.7127 - val_precision_6: 0.6629\n",
            "Epoch 6/50\n",
            "1080/1080 [==============================] - 7s 7ms/step - loss: 0.6083 - recall_6: 0.6144 - precision_6: 0.6931 - val_loss: 0.6036 - val_recall_6: 0.6622 - val_precision_6: 0.6873\n",
            "Epoch 7/50\n",
            "1080/1080 [==============================] - 7s 7ms/step - loss: 0.6060 - recall_6: 0.6142 - precision_6: 0.7001 - val_loss: 0.5987 - val_recall_6: 0.6538 - val_precision_6: 0.6863\n",
            "Epoch 8/50\n",
            "1080/1080 [==============================] - 7s 7ms/step - loss: 0.6047 - recall_6: 0.6172 - precision_6: 0.6946 - val_loss: 0.5972 - val_recall_6: 0.6370 - val_precision_6: 0.7014\n",
            "Epoch 9/50\n",
            "1080/1080 [==============================] - 7s 7ms/step - loss: 0.6026 - recall_6: 0.6137 - precision_6: 0.7046 - val_loss: 0.5979 - val_recall_6: 0.6008 - val_precision_6: 0.7141\n",
            "Epoch 10/50\n",
            "1080/1080 [==============================] - 7s 7ms/step - loss: 0.6016 - recall_6: 0.6195 - precision_6: 0.6975 - val_loss: 0.5959 - val_recall_6: 0.6528 - val_precision_6: 0.6959\n",
            "Epoch 11/50\n",
            "1080/1080 [==============================] - 7s 7ms/step - loss: 0.6014 - recall_6: 0.6254 - precision_6: 0.6972 - val_loss: 0.5982 - val_recall_6: 0.6638 - val_precision_6: 0.6889\n",
            "Epoch 12/50\n",
            "1080/1080 [==============================] - 8s 8ms/step - loss: 0.6007 - recall_6: 0.6194 - precision_6: 0.7045 - val_loss: 0.5947 - val_recall_6: 0.6818 - val_precision_6: 0.6822\n",
            "Epoch 13/50\n",
            "1080/1080 [==============================] - 7s 7ms/step - loss: 0.5988 - recall_6: 0.6284 - precision_6: 0.7043 - val_loss: 0.5972 - val_recall_6: 0.7096 - val_precision_6: 0.6761\n",
            "Epoch 14/50\n",
            "1080/1080 [==============================] - 7s 7ms/step - loss: 0.5984 - recall_6: 0.6294 - precision_6: 0.7040 - val_loss: 0.5925 - val_recall_6: 0.6911 - val_precision_6: 0.6830\n",
            "Epoch 15/50\n",
            "1080/1080 [==============================] - 7s 7ms/step - loss: 0.5972 - recall_6: 0.6376 - precision_6: 0.6993 - val_loss: 0.5951 - val_recall_6: 0.6978 - val_precision_6: 0.6831\n",
            "Epoch 16/50\n",
            "1080/1080 [==============================] - 7s 7ms/step - loss: 0.5959 - recall_6: 0.6358 - precision_6: 0.7030 - val_loss: 0.5925 - val_recall_6: 0.6639 - val_precision_6: 0.6961\n",
            "Epoch 17/50\n",
            "1080/1080 [==============================] - 7s 7ms/step - loss: 0.5965 - recall_6: 0.6226 - precision_6: 0.7075 - val_loss: 0.5933 - val_recall_6: 0.6283 - val_precision_6: 0.7098\n",
            "Epoch 18/50\n",
            "1080/1080 [==============================] - 7s 7ms/step - loss: 0.5961 - recall_6: 0.6263 - precision_6: 0.7065 - val_loss: 0.5924 - val_recall_6: 0.6833 - val_precision_6: 0.6903\n",
            "Epoch 19/50\n",
            "1080/1080 [==============================] - 7s 7ms/step - loss: 0.5953 - recall_6: 0.6283 - precision_6: 0.7064 - val_loss: 0.5942 - val_recall_6: 0.6955 - val_precision_6: 0.6861\n",
            "Epoch 20/50\n",
            "1080/1080 [==============================] - 7s 6ms/step - loss: 0.5953 - recall_6: 0.6314 - precision_6: 0.7063 - val_loss: 0.5922 - val_recall_6: 0.6694 - val_precision_6: 0.6951\n",
            "Epoch 21/50\n",
            "1080/1080 [==============================] - 7s 7ms/step - loss: 0.5936 - recall_6: 0.6281 - precision_6: 0.7095 - val_loss: 0.5939 - val_recall_6: 0.6957 - val_precision_6: 0.6854\n",
            "Epoch 22/50\n",
            "1080/1080 [==============================] - 7s 7ms/step - loss: 0.5933 - recall_6: 0.6315 - precision_6: 0.7094 - val_loss: 0.5917 - val_recall_6: 0.6593 - val_precision_6: 0.6988\n",
            "Epoch 23/50\n",
            "1080/1080 [==============================] - 7s 6ms/step - loss: 0.5935 - recall_6: 0.6389 - precision_6: 0.7035 - val_loss: 0.5929 - val_recall_6: 0.6879 - val_precision_6: 0.6887\n",
            "Epoch 24/50\n",
            "1080/1080 [==============================] - 7s 7ms/step - loss: 0.5935 - recall_6: 0.6314 - precision_6: 0.7081 - val_loss: 0.5917 - val_recall_6: 0.6581 - val_precision_6: 0.7014\n",
            "Epoch 25/50\n",
            "1080/1080 [==============================] - 7s 7ms/step - loss: 0.5930 - recall_6: 0.6304 - precision_6: 0.7115 - val_loss: 0.5954 - val_recall_6: 0.7244 - val_precision_6: 0.6713\n",
            "Epoch 26/50\n",
            "1080/1080 [==============================] - 7s 7ms/step - loss: 0.5929 - recall_6: 0.6351 - precision_6: 0.7097 - val_loss: 0.5908 - val_recall_6: 0.6845 - val_precision_6: 0.6897\n",
            "Epoch 27/50\n",
            "1080/1080 [==============================] - 7s 7ms/step - loss: 0.5926 - recall_6: 0.6361 - precision_6: 0.7080 - val_loss: 0.5894 - val_recall_6: 0.6690 - val_precision_6: 0.6966\n",
            "Epoch 28/50\n",
            "1080/1080 [==============================] - 8s 7ms/step - loss: 0.5917 - recall_6: 0.6473 - precision_6: 0.7034 - val_loss: 0.5946 - val_recall_6: 0.7564 - val_precision_6: 0.6574\n",
            "Epoch 29/50\n",
            "1080/1080 [==============================] - 9s 8ms/step - loss: 0.5911 - recall_6: 0.6463 - precision_6: 0.7048 - val_loss: 0.5884 - val_recall_6: 0.6861 - val_precision_6: 0.6879\n",
            "Epoch 30/50\n",
            "1080/1080 [==============================] - 8s 8ms/step - loss: 0.5902 - recall_6: 0.6436 - precision_6: 0.7096 - val_loss: 0.5883 - val_recall_6: 0.6584 - val_precision_6: 0.7000\n",
            "Epoch 31/50\n",
            "1080/1080 [==============================] - 7s 7ms/step - loss: 0.5908 - recall_6: 0.6450 - precision_6: 0.7062 - val_loss: 0.5885 - val_recall_6: 0.6726 - val_precision_6: 0.6983\n",
            "Epoch 32/50\n",
            "1080/1080 [==============================] - 7s 7ms/step - loss: 0.5906 - recall_6: 0.6461 - precision_6: 0.7095 - val_loss: 0.5870 - val_recall_6: 0.6680 - val_precision_6: 0.6997\n",
            "Epoch 33/50\n",
            "1080/1080 [==============================] - 7s 7ms/step - loss: 0.5901 - recall_6: 0.6461 - precision_6: 0.7047 - val_loss: 0.5869 - val_recall_6: 0.6800 - val_precision_6: 0.6932\n",
            "Epoch 34/50\n",
            "1080/1080 [==============================] - 8s 7ms/step - loss: 0.5887 - recall_6: 0.6508 - precision_6: 0.7057 - val_loss: 0.5895 - val_recall_6: 0.6901 - val_precision_6: 0.6888\n",
            "Epoch 35/50\n",
            "1080/1080 [==============================] - 7s 7ms/step - loss: 0.5885 - recall_6: 0.6478 - precision_6: 0.7084 - val_loss: 0.5912 - val_recall_6: 0.7250 - val_precision_6: 0.6725\n",
            "Epoch 36/50\n",
            "1080/1080 [==============================] - 7s 7ms/step - loss: 0.5898 - recall_6: 0.6457 - precision_6: 0.7074 - val_loss: 0.5898 - val_recall_6: 0.6853 - val_precision_6: 0.6932\n",
            "Epoch 37/50\n",
            "1080/1080 [==============================] - 7s 7ms/step - loss: 0.5885 - recall_6: 0.6398 - precision_6: 0.7127 - val_loss: 0.5897 - val_recall_6: 0.6516 - val_precision_6: 0.7060\n",
            "Epoch 38/50\n",
            "1080/1080 [==============================] - 7s 7ms/step - loss: 0.5879 - recall_6: 0.6472 - precision_6: 0.7123 - val_loss: 0.5877 - val_recall_6: 0.6782 - val_precision_6: 0.6936\n",
            "Epoch 39/50\n",
            "1080/1080 [==============================] - 7s 7ms/step - loss: 0.5881 - recall_6: 0.6561 - precision_6: 0.7066 - val_loss: 0.5862 - val_recall_6: 0.6571 - val_precision_6: 0.7062\n",
            "Epoch 40/50\n",
            "1080/1080 [==============================] - 7s 7ms/step - loss: 0.5883 - recall_6: 0.6398 - precision_6: 0.7085 - val_loss: 0.5866 - val_recall_6: 0.6687 - val_precision_6: 0.7009\n",
            "Epoch 41/50\n",
            "1080/1080 [==============================] - 7s 7ms/step - loss: 0.5870 - recall_6: 0.6399 - precision_6: 0.7117 - val_loss: 0.5885 - val_recall_6: 0.6746 - val_precision_6: 0.6951\n",
            "Epoch 42/50\n",
            "1080/1080 [==============================] - 8s 7ms/step - loss: 0.5868 - recall_6: 0.6420 - precision_6: 0.7134 - val_loss: 0.5867 - val_recall_6: 0.6486 - val_precision_6: 0.7087\n",
            "Epoch 43/50\n",
            "1080/1080 [==============================] - 7s 7ms/step - loss: 0.5863 - recall_6: 0.6365 - precision_6: 0.7157 - val_loss: 0.5879 - val_recall_6: 0.6788 - val_precision_6: 0.6966\n",
            "Epoch 44/50\n",
            "1080/1080 [==============================] - 7s 7ms/step - loss: 0.5874 - recall_6: 0.6350 - precision_6: 0.7127 - val_loss: 0.5889 - val_recall_6: 0.6952 - val_precision_6: 0.6888\n",
            "Epoch 45/50\n",
            "1080/1080 [==============================] - 7s 7ms/step - loss: 0.5862 - recall_6: 0.6456 - precision_6: 0.7118 - val_loss: 0.5890 - val_recall_6: 0.6917 - val_precision_6: 0.6896\n",
            "Epoch 46/50\n",
            "1080/1080 [==============================] - 7s 7ms/step - loss: 0.5866 - recall_6: 0.6414 - precision_6: 0.7128 - val_loss: 0.5866 - val_recall_6: 0.6693 - val_precision_6: 0.6973\n",
            "Epoch 47/50\n",
            "1080/1080 [==============================] - 7s 7ms/step - loss: 0.5873 - recall_6: 0.6453 - precision_6: 0.7115 - val_loss: 0.5865 - val_recall_6: 0.6636 - val_precision_6: 0.7030\n",
            "Epoch 48/50\n",
            "1080/1080 [==============================] - 7s 7ms/step - loss: 0.5865 - recall_6: 0.6483 - precision_6: 0.7123 - val_loss: 0.5860 - val_recall_6: 0.6690 - val_precision_6: 0.7015\n",
            "Epoch 49/50\n",
            "1080/1080 [==============================] - 7s 7ms/step - loss: 0.5860 - recall_6: 0.6488 - precision_6: 0.7115 - val_loss: 0.5866 - val_recall_6: 0.6880 - val_precision_6: 0.6954\n",
            "Epoch 50/50\n",
            "1080/1080 [==============================] - 7s 7ms/step - loss: 0.5847 - recall_6: 0.6466 - precision_6: 0.7140 - val_loss: 0.5883 - val_recall_6: 0.7050 - val_precision_6: 0.6860\n"
          ]
        }
      ]
    },
    {
      "cell_type": "code",
      "source": [
        "hist_os = train_neural_networks(model, X_train_over, y_train_over, X_val_over, y_val_over, learning_rate=0.1, batch_size=50, epochs=50)"
      ],
      "metadata": {
        "colab": {
          "base_uri": "https://localhost:8080/",
          "height": 0
        },
        "id": "OHuKB6RdLjye",
        "outputId": "0d52b1bc-1738-4166-c846-ae9be8b56e45"
      },
      "execution_count": 86,
      "outputs": [
        {
          "output_type": "stream",
          "name": "stdout",
          "text": [
            "Epoch 1/50\n",
            "1080/1080 [==============================] - 9s 7ms/step - loss: 0.5846 - recall_7: 0.6494 - precision_7: 0.7097 - val_loss: 0.5856 - val_recall_7: 0.6908 - val_precision_7: 0.6949\n",
            "Epoch 2/50\n",
            "1080/1080 [==============================] - 7s 6ms/step - loss: 0.5864 - recall_7: 0.6472 - precision_7: 0.7104 - val_loss: 0.5844 - val_recall_7: 0.6874 - val_precision_7: 0.6922\n",
            "Epoch 3/50\n",
            "1080/1080 [==============================] - 7s 7ms/step - loss: 0.5848 - recall_7: 0.6501 - precision_7: 0.7097 - val_loss: 0.5855 - val_recall_7: 0.6969 - val_precision_7: 0.6915\n",
            "Epoch 4/50\n",
            "1080/1080 [==============================] - 7s 6ms/step - loss: 0.5835 - recall_7: 0.6506 - precision_7: 0.7125 - val_loss: 0.5867 - val_recall_7: 0.7041 - val_precision_7: 0.6892\n",
            "Epoch 5/50\n",
            "1080/1080 [==============================] - 7s 6ms/step - loss: 0.5845 - recall_7: 0.6505 - precision_7: 0.7105 - val_loss: 0.5850 - val_recall_7: 0.6956 - val_precision_7: 0.6923\n",
            "Epoch 6/50\n",
            "1080/1080 [==============================] - 7s 7ms/step - loss: 0.5842 - recall_7: 0.6532 - precision_7: 0.7103 - val_loss: 0.5843 - val_recall_7: 0.6412 - val_precision_7: 0.7099\n",
            "Epoch 7/50\n",
            "1080/1080 [==============================] - 7s 6ms/step - loss: 0.5841 - recall_7: 0.6431 - precision_7: 0.7145 - val_loss: 0.5845 - val_recall_7: 0.7035 - val_precision_7: 0.6900\n",
            "Epoch 8/50\n",
            "1080/1080 [==============================] - 7s 6ms/step - loss: 0.5831 - recall_7: 0.6528 - precision_7: 0.7113 - val_loss: 0.5847 - val_recall_7: 0.6845 - val_precision_7: 0.6988\n",
            "Epoch 9/50\n",
            "1080/1080 [==============================] - 7s 6ms/step - loss: 0.5852 - recall_7: 0.6485 - precision_7: 0.7138 - val_loss: 0.5843 - val_recall_7: 0.6853 - val_precision_7: 0.6938\n",
            "Epoch 10/50\n",
            "1080/1080 [==============================] - 7s 6ms/step - loss: 0.5841 - recall_7: 0.6495 - precision_7: 0.7118 - val_loss: 0.5836 - val_recall_7: 0.6873 - val_precision_7: 0.6954\n",
            "Epoch 11/50\n",
            "1080/1080 [==============================] - 7s 6ms/step - loss: 0.5828 - recall_7: 0.6523 - precision_7: 0.7118 - val_loss: 0.5826 - val_recall_7: 0.6754 - val_precision_7: 0.7056\n",
            "Epoch 12/50\n",
            "1080/1080 [==============================] - 7s 7ms/step - loss: 0.5829 - recall_7: 0.6534 - precision_7: 0.7119 - val_loss: 0.5833 - val_recall_7: 0.6660 - val_precision_7: 0.7060\n",
            "Epoch 13/50\n",
            "1080/1080 [==============================] - 7s 7ms/step - loss: 0.5824 - recall_7: 0.6483 - precision_7: 0.7141 - val_loss: 0.5836 - val_recall_7: 0.6819 - val_precision_7: 0.7012\n",
            "Epoch 14/50\n",
            "1080/1080 [==============================] - 8s 7ms/step - loss: 0.5822 - recall_7: 0.6440 - precision_7: 0.7205 - val_loss: 0.5827 - val_recall_7: 0.6525 - val_precision_7: 0.7138\n",
            "Epoch 15/50\n",
            "1080/1080 [==============================] - 8s 8ms/step - loss: 0.5817 - recall_7: 0.6378 - precision_7: 0.7216 - val_loss: 0.5849 - val_recall_7: 0.6900 - val_precision_7: 0.6985\n",
            "Epoch 16/50\n",
            "1080/1080 [==============================] - 7s 7ms/step - loss: 0.5819 - recall_7: 0.6387 - precision_7: 0.7170 - val_loss: 0.5841 - val_recall_7: 0.6512 - val_precision_7: 0.7117\n",
            "Epoch 17/50\n",
            "1080/1080 [==============================] - 7s 7ms/step - loss: 0.5824 - recall_7: 0.6465 - precision_7: 0.7164 - val_loss: 0.5831 - val_recall_7: 0.6571 - val_precision_7: 0.7096\n",
            "Epoch 18/50\n",
            "1080/1080 [==============================] - 7s 7ms/step - loss: 0.5822 - recall_7: 0.6500 - precision_7: 0.7158 - val_loss: 0.5837 - val_recall_7: 0.6738 - val_precision_7: 0.7016\n",
            "Epoch 19/50\n",
            "1080/1080 [==============================] - 7s 7ms/step - loss: 0.5808 - recall_7: 0.6508 - precision_7: 0.7179 - val_loss: 0.5826 - val_recall_7: 0.6827 - val_precision_7: 0.6982\n",
            "Epoch 20/50\n",
            "1080/1080 [==============================] - 7s 7ms/step - loss: 0.5817 - recall_7: 0.6464 - precision_7: 0.7169 - val_loss: 0.5847 - val_recall_7: 0.7082 - val_precision_7: 0.6900\n",
            "Epoch 21/50\n",
            "1080/1080 [==============================] - 7s 7ms/step - loss: 0.5807 - recall_7: 0.6558 - precision_7: 0.7153 - val_loss: 0.5830 - val_recall_7: 0.6625 - val_precision_7: 0.7108\n",
            "Epoch 22/50\n",
            "1080/1080 [==============================] - 7s 7ms/step - loss: 0.5805 - recall_7: 0.6507 - precision_7: 0.7181 - val_loss: 0.5858 - val_recall_7: 0.7048 - val_precision_7: 0.6924\n",
            "Epoch 23/50\n",
            "1080/1080 [==============================] - 7s 6ms/step - loss: 0.5813 - recall_7: 0.6527 - precision_7: 0.7160 - val_loss: 0.5833 - val_recall_7: 0.6580 - val_precision_7: 0.7087\n",
            "Epoch 24/50\n",
            "1080/1080 [==============================] - 7s 6ms/step - loss: 0.5808 - recall_7: 0.6438 - precision_7: 0.7176 - val_loss: 0.5845 - val_recall_7: 0.6688 - val_precision_7: 0.7063\n",
            "Epoch 25/50\n",
            "1080/1080 [==============================] - 7s 7ms/step - loss: 0.5820 - recall_7: 0.6412 - precision_7: 0.7196 - val_loss: 0.5856 - val_recall_7: 0.7053 - val_precision_7: 0.6895\n",
            "Epoch 26/50\n",
            "1080/1080 [==============================] - 7s 7ms/step - loss: 0.5817 - recall_7: 0.6479 - precision_7: 0.7172 - val_loss: 0.5827 - val_recall_7: 0.6889 - val_precision_7: 0.6994\n",
            "Epoch 27/50\n",
            "1080/1080 [==============================] - 7s 6ms/step - loss: 0.5804 - recall_7: 0.6523 - precision_7: 0.7159 - val_loss: 0.5831 - val_recall_7: 0.7131 - val_precision_7: 0.6928\n",
            "Epoch 28/50\n",
            "1080/1080 [==============================] - 7s 6ms/step - loss: 0.5801 - recall_7: 0.6536 - precision_7: 0.7156 - val_loss: 0.5836 - val_recall_7: 0.7044 - val_precision_7: 0.6913\n",
            "Epoch 29/50\n",
            "1080/1080 [==============================] - 7s 7ms/step - loss: 0.5804 - recall_7: 0.6540 - precision_7: 0.7149 - val_loss: 0.5822 - val_recall_7: 0.6880 - val_precision_7: 0.6997\n",
            "Epoch 30/50\n",
            "1080/1080 [==============================] - 7s 7ms/step - loss: 0.5800 - recall_7: 0.6500 - precision_7: 0.7187 - val_loss: 0.5836 - val_recall_7: 0.7073 - val_precision_7: 0.6906\n",
            "Epoch 31/50\n",
            "1080/1080 [==============================] - 7s 7ms/step - loss: 0.5792 - recall_7: 0.6614 - precision_7: 0.7148 - val_loss: 0.5829 - val_recall_7: 0.6642 - val_precision_7: 0.7075\n",
            "Epoch 32/50\n",
            "1080/1080 [==============================] - 7s 7ms/step - loss: 0.5797 - recall_7: 0.6542 - precision_7: 0.7174 - val_loss: 0.5843 - val_recall_7: 0.7073 - val_precision_7: 0.6882\n",
            "Epoch 33/50\n",
            "1080/1080 [==============================] - 7s 7ms/step - loss: 0.5800 - recall_7: 0.6542 - precision_7: 0.7168 - val_loss: 0.5817 - val_recall_7: 0.6451 - val_precision_7: 0.7159\n",
            "Epoch 34/50\n",
            "1080/1080 [==============================] - 7s 7ms/step - loss: 0.5809 - recall_7: 0.6507 - precision_7: 0.7160 - val_loss: 0.5857 - val_recall_7: 0.7201 - val_precision_7: 0.6809\n",
            "Epoch 35/50\n",
            "1080/1080 [==============================] - 7s 7ms/step - loss: 0.5800 - recall_7: 0.6597 - precision_7: 0.7143 - val_loss: 0.5824 - val_recall_7: 0.7030 - val_precision_7: 0.6926\n",
            "Epoch 36/50\n",
            "1080/1080 [==============================] - 7s 7ms/step - loss: 0.5796 - recall_7: 0.6490 - precision_7: 0.7202 - val_loss: 0.5837 - val_recall_7: 0.6699 - val_precision_7: 0.7054\n",
            "Epoch 37/50\n",
            "1080/1080 [==============================] - 7s 7ms/step - loss: 0.5802 - recall_7: 0.6487 - precision_7: 0.7207 - val_loss: 0.5858 - val_recall_7: 0.7176 - val_precision_7: 0.6868\n",
            "Epoch 38/50\n",
            "1080/1080 [==============================] - 7s 7ms/step - loss: 0.5786 - recall_7: 0.6545 - precision_7: 0.7166 - val_loss: 0.5827 - val_recall_7: 0.6709 - val_precision_7: 0.7058\n",
            "Epoch 39/50\n",
            "1080/1080 [==============================] - 7s 7ms/step - loss: 0.5795 - recall_7: 0.6471 - precision_7: 0.7203 - val_loss: 0.5855 - val_recall_7: 0.6972 - val_precision_7: 0.6937\n",
            "Epoch 40/50\n",
            "1080/1080 [==============================] - 7s 7ms/step - loss: 0.5798 - recall_7: 0.6460 - precision_7: 0.7219 - val_loss: 0.5826 - val_recall_7: 0.6626 - val_precision_7: 0.7080\n",
            "Epoch 41/50\n",
            "1080/1080 [==============================] - 7s 7ms/step - loss: 0.5791 - recall_7: 0.6481 - precision_7: 0.7233 - val_loss: 0.5824 - val_recall_7: 0.7032 - val_precision_7: 0.6890\n",
            "Epoch 42/50\n",
            "1080/1080 [==============================] - 7s 7ms/step - loss: 0.5793 - recall_7: 0.6536 - precision_7: 0.7176 - val_loss: 0.5826 - val_recall_7: 0.6940 - val_precision_7: 0.6967\n",
            "Epoch 43/50\n",
            "1080/1080 [==============================] - 7s 7ms/step - loss: 0.5779 - recall_7: 0.6517 - precision_7: 0.7200 - val_loss: 0.5826 - val_recall_7: 0.6898 - val_precision_7: 0.6975\n",
            "Epoch 44/50\n",
            "1080/1080 [==============================] - 7s 7ms/step - loss: 0.5778 - recall_7: 0.6591 - precision_7: 0.7187 - val_loss: 0.5830 - val_recall_7: 0.7122 - val_precision_7: 0.6903\n",
            "Epoch 45/50\n",
            "1080/1080 [==============================] - 7s 7ms/step - loss: 0.5779 - recall_7: 0.6544 - precision_7: 0.7175 - val_loss: 0.5832 - val_recall_7: 0.7120 - val_precision_7: 0.6888\n",
            "Epoch 46/50\n",
            "1080/1080 [==============================] - 8s 7ms/step - loss: 0.5800 - recall_7: 0.6506 - precision_7: 0.7172 - val_loss: 0.5818 - val_recall_7: 0.6730 - val_precision_7: 0.7045\n",
            "Epoch 47/50\n",
            "1080/1080 [==============================] - 7s 7ms/step - loss: 0.5779 - recall_7: 0.6526 - precision_7: 0.7209 - val_loss: 0.5816 - val_recall_7: 0.6974 - val_precision_7: 0.6939\n",
            "Epoch 48/50\n",
            "1080/1080 [==============================] - 7s 7ms/step - loss: 0.5787 - recall_7: 0.6581 - precision_7: 0.7180 - val_loss: 0.5854 - val_recall_7: 0.7142 - val_precision_7: 0.6876\n",
            "Epoch 49/50\n",
            "1080/1080 [==============================] - 7s 7ms/step - loss: 0.5777 - recall_7: 0.6601 - precision_7: 0.7139 - val_loss: 0.5836 - val_recall_7: 0.7279 - val_precision_7: 0.6824\n",
            "Epoch 50/50\n",
            "1080/1080 [==============================] - 7s 7ms/step - loss: 0.5784 - recall_7: 0.6584 - precision_7: 0.7138 - val_loss: 0.5821 - val_recall_7: 0.7209 - val_precision_7: 0.6856\n"
          ]
        }
      ]
    },
    {
      "cell_type": "code",
      "source": [
        "show_and_save_model(model, 'TwoLayerBiasOver', X_val_over, y_val_over)"
      ],
      "metadata": {
        "colab": {
          "base_uri": "https://localhost:8080/",
          "height": 491
        },
        "id": "xJOPqwVtwS3x",
        "outputId": "ced947c5-320b-410c-bfca-7aa6770e4bfd"
      },
      "execution_count": 87,
      "outputs": [
        {
          "output_type": "stream",
          "name": "stdout",
          "text": [
            "422/422 [==============================] - 1s 2ms/step\n",
            "Accuracy: 0.6959003632589518\n",
            "Classification Report: \n",
            "              precision    recall  f1-score   support\n",
            "\n",
            "           0       0.71      0.67      0.69      6761\n",
            "           1       0.69      0.72      0.70      6728\n",
            "\n",
            "    accuracy                           0.70     13489\n",
            "   macro avg       0.70      0.70      0.70     13489\n",
            "weighted avg       0.70      0.70      0.70     13489\n",
            "\n",
            "Confusion Matrix: \n"
          ]
        },
        {
          "output_type": "display_data",
          "data": {
            "text/plain": [
              "<Figure size 432x288 with 2 Axes>"
            ],
            "image/png": "[encoded data removed]"
          },
          "metadata": {
            "needs_background": "light"
          }
        }
      ]
    },
    {
      "cell_type": "markdown",
      "source": [
        "## Prediction on Test Model"
      ],
      "metadata": {
        "id": "XIFkcFUtK81F"
      }
    },
    {
      "cell_type": "code",
      "source": [
        "test_data.drop('ID', axis=1, inplace=True)"
      ],
      "metadata": {
        "id": "H70zbtDOT9al"
      },
      "execution_count": 101,
      "outputs": []
    },
    {
      "cell_type": "code",
      "source": [
        "categorical_cols = [col for col in test_data.columns if test_data[col].dtype==\"O\"]\n",
        "\n",
        "label_encoder = LabelEncoder()\n",
        "\n",
        "for col in categorical_cols:\n",
        "    test_data[col] = label_encoder.fit_transform(test_data[col])"
      ],
      "metadata": {
        "id": "WQfWbup9VGjg"
      },
      "execution_count": 102,
      "outputs": []
    },
    {
      "cell_type": "code",
      "source": [
        "test_data.info()"
      ],
      "metadata": {
        "id": "GXlOAmtgWl51",
        "outputId": "5b3abc86-9bb7-4b06-dd6c-5c274d298f02",
        "colab": {
          "base_uri": "https://localhost:8080/",
          "height": 0
        }
      },
      "execution_count": 103,
      "outputs": [
        {
          "output_type": "stream",
          "name": "stdout",
          "text": [
            "<class 'pandas.core.frame.DataFrame'>\n",
            "RangeIndex: 28000 entries, 0 to 27999\n",
            "Data columns (total 11 columns):\n",
            " #   Column             Non-Null Count  Dtype\n",
            "---  ------             --------------  -----\n",
            " 0   Income             28000 non-null  int64\n",
            " 1   Age                28000 non-null  int64\n",
            " 2   Experience         28000 non-null  int64\n",
            " 3   Married/Single     28000 non-null  int64\n",
            " 4   House_Ownership    28000 non-null  int64\n",
            " 5   Car_Ownership      28000 non-null  int64\n",
            " 6   Profession         28000 non-null  int64\n",
            " 7   CITY               28000 non-null  int64\n",
            " 8   STATE              28000 non-null  int64\n",
            " 9   CURRENT_JOB_YRS    28000 non-null  int64\n",
            " 10  CURRENT_HOUSE_YRS  28000 non-null  int64\n",
            "dtypes: int64(11)\n",
            "memory usage: 2.3 MB\n"
          ]
        }
      ]
    },
    {
      "cell_type": "code",
      "source": [
        "cols = test_data.columns"
      ],
      "metadata": {
        "id": "qGpvzCFtNoPY"
      },
      "execution_count": 104,
      "outputs": []
    },
    {
      "cell_type": "code",
      "source": [
        "test_data = scaler.transform(test_data.to_numpy())\n",
        "test_data = pd.DataFrame(test_data, columns=list(cols))\n",
        "test_data"
      ],
      "metadata": {
        "id": "1bFGfhceZn-N",
        "outputId": "5458b29e-e435-4cf4-b8c7-fd46ae72c883",
        "colab": {
          "base_uri": "https://localhost:8080/",
          "height": 488
        }
      },
      "execution_count": 105,
      "outputs": [
        {
          "output_type": "execute_result",
          "data": {
            "text/plain": [
              "         Income       Age  Experience  Married/Single  House_Ownership  \\\n",
              "0      0.837459  0.531939    1.506277        0.332830         0.283607   \n",
              "1     -1.312342 -1.460938   -0.811160        0.332830         0.283607   \n",
              "2      1.362288  0.004413    0.347558        0.332830         0.283607   \n",
              "3     -1.058526 -0.054201   -0.149036       -3.004535         0.283607   \n",
              "4     -1.730457 -1.460938    1.340745        0.332830         0.283607   \n",
              "...         ...       ...         ...             ...              ...   \n",
              "27995  1.729099  0.414711    0.513089        0.332830         0.283607   \n",
              "27996 -0.719829 -0.171429   -0.149036        0.332830         0.283607   \n",
              "27997  1.077325 -1.519552   -0.811160        0.332830         0.283607   \n",
              "27998  1.561620  0.063027    0.513089        0.332830         0.283607   \n",
              "27999  1.483733 -0.464499   -0.149036        0.332830         0.283607   \n",
              "\n",
              "       Car_Ownership  Profession      CITY     STATE  CURRENT_JOB_YRS  \\\n",
              "0          -0.658560    0.078051  0.254007  1.521777        -0.616080   \n",
              "1          -0.658560   -0.057943 -0.294540  0.017107        -0.343746   \n",
              "2          -0.658560    0.350040  1.449840  0.017107         0.745591   \n",
              "3           1.518465   -1.621878  0.144297  0.017107        -0.888414   \n",
              "4           1.518465   -0.873909 -1.303868  1.521777         1.834927   \n",
              "...              ...         ...       ...       ...              ...   \n",
              "27995      -0.658560    1.302000 -0.744349 -1.487563        -0.343746   \n",
              "27996      -0.658560    1.505992  1.000031 -0.090369         0.745591   \n",
              "27997      -0.658560    0.350040  0.352745  0.017107        -0.616080   \n",
              "27998       1.518465   -1.213895 -1.216100 -1.057657         1.834927   \n",
              "27999      -0.658560   -1.145898  0.594106  0.017107        -0.616080   \n",
              "\n",
              "       CURRENT_HOUSE_YRS  \n",
              "0               0.700643  \n",
              "1              -1.419197  \n",
              "2               1.407256  \n",
              "3              -0.005970  \n",
              "4              -0.712583  \n",
              "...                  ...  \n",
              "27995          -1.419197  \n",
              "27996           1.407256  \n",
              "27997           0.700643  \n",
              "27998           1.407256  \n",
              "27999          -1.419197  \n",
              "\n",
              "[28000 rows x 11 columns]"
            ],
            "text/html": [
              "\n",
              "  <div id=\"df-a064db85-5072-41ab-a763-d36ed127c529\">\n",
              "    <div class=\"colab-df-container\">\n",
              "      <div>\n",
              "<style scoped>\n",
              "    .dataframe tbody tr th:only-of-type {\n",
              "        vertical-align: middle;\n",
              "    }\n",
              "\n",
              "    .dataframe tbody tr th {\n",
              "        vertical-align: top;\n",
              "    }\n",
              "\n",
              "    .dataframe thead th {\n",
              "        text-align: right;\n",
              "    }\n",
              "</style>\n",
              "<table border=\"1\" class=\"dataframe\">\n",
              "  <thead>\n",
              "    <tr style=\"text-align: right;\">\n",
              "      <th></th>\n",
              "      <th>Income</th>\n",
              "      <th>Age</th>\n",
              "      <th>Experience</th>\n",
              "      <th>Married/Single</th>\n",
              "      <th>House_Ownership</th>\n",
              "      <th>Car_Ownership</th>\n",
              "      <th>Profession</th>\n",
              "      <th>CITY</th>\n",
              "      <th>STATE</th>\n",
              "      <th>CURRENT_JOB_YRS</th>\n",
              "      <th>CURRENT_HOUSE_YRS</th>\n",
              "    </tr>\n",
              "  </thead>\n",
              "  <tbody>\n",
              "    <tr>\n",
              "      <th>0</th>\n",
              "      <td>0.837459</td>\n",
              "      <td>0.531939</td>\n",
              "      <td>1.506277</td>\n",
              "      <td>0.332830</td>\n",
              "      <td>0.283607</td>\n",
              "      <td>-0.658560</td>\n",
              "      <td>0.078051</td>\n",
              "      <td>0.254007</td>\n",
              "      <td>1.521777</td>\n",
              "      <td>-0.616080</td>\n",
              "      <td>0.700643</td>\n",
              "    </tr>\n",
              "    <tr>\n",
              "      <th>1</th>\n",
              "      <td>-1.312342</td>\n",
              "      <td>-1.460938</td>\n",
              "      <td>-0.811160</td>\n",
              "      <td>0.332830</td>\n",
              "      <td>0.283607</td>\n",
              "      <td>-0.658560</td>\n",
              "      <td>-0.057943</td>\n",
              "      <td>-0.294540</td>\n",
              "      <td>0.017107</td>\n",
              "      <td>-0.343746</td>\n",
              "      <td>-1.419197</td>\n",
              "    </tr>\n",
              "    <tr>\n",
              "      <th>2</th>\n",
              "      <td>1.362288</td>\n",
              "      <td>0.004413</td>\n",
              "      <td>0.347558</td>\n",
              "      <td>0.332830</td>\n",
              "      <td>0.283607</td>\n",
              "      <td>-0.658560</td>\n",
              "      <td>0.350040</td>\n",
              "      <td>1.449840</td>\n",
              "      <td>0.017107</td>\n",
              "      <td>0.745591</td>\n",
              "      <td>1.407256</td>\n",
              "    </tr>\n",
              "    <tr>\n",
              "      <th>3</th>\n",
              "      <td>-1.058526</td>\n",
              "      <td>-0.054201</td>\n",
              "      <td>-0.149036</td>\n",
              "      <td>-3.004535</td>\n",
              "      <td>0.283607</td>\n",
              "      <td>1.518465</td>\n",
              "      <td>-1.621878</td>\n",
              "      <td>0.144297</td>\n",
              "      <td>0.017107</td>\n",
              "      <td>-0.888414</td>\n",
              "      <td>-0.005970</td>\n",
              "    </tr>\n",
              "    <tr>\n",
              "      <th>4</th>\n",
              "      <td>-1.730457</td>\n",
              "      <td>-1.460938</td>\n",
              "      <td>1.340745</td>\n",
              "      <td>0.332830</td>\n",
              "      <td>0.283607</td>\n",
              "      <td>1.518465</td>\n",
              "      <td>-0.873909</td>\n",
              "      <td>-1.303868</td>\n",
              "      <td>1.521777</td>\n",
              "      <td>1.834927</td>\n",
              "      <td>-0.712583</td>\n",
              "    </tr>\n",
              "    <tr>\n",
              "      <th>...</th>\n",
              "      <td>...</td>\n",
              "      <td>...</td>\n",
              "      <td>...</td>\n",
              "      <td>...</td>\n",
              "      <td>...</td>\n",
              "      <td>...</td>\n",
              "      <td>...</td>\n",
              "      <td>...</td>\n",
              "      <td>...</td>\n",
              "      <td>...</td>\n",
              "      <td>...</td>\n",
              "    </tr>\n",
              "    <tr>\n",
              "      <th>27995</th>\n",
              "      <td>1.729099</td>\n",
              "      <td>0.414711</td>\n",
              "      <td>0.513089</td>\n",
              "      <td>0.332830</td>\n",
              "      <td>0.283607</td>\n",
              "      <td>-0.658560</td>\n",
              "      <td>1.302000</td>\n",
              "      <td>-0.744349</td>\n",
              "      <td>-1.487563</td>\n",
              "      <td>-0.343746</td>\n",
              "      <td>-1.419197</td>\n",
              "    </tr>\n",
              "    <tr>\n",
              "      <th>27996</th>\n",
              "      <td>-0.719829</td>\n",
              "      <td>-0.171429</td>\n",
              "      <td>-0.149036</td>\n",
              "      <td>0.332830</td>\n",
              "      <td>0.283607</td>\n",
              "      <td>-0.658560</td>\n",
              "      <td>1.505992</td>\n",
              "      <td>1.000031</td>\n",
              "      <td>-0.090369</td>\n",
              "      <td>0.745591</td>\n",
              "      <td>1.407256</td>\n",
              "    </tr>\n",
              "    <tr>\n",
              "      <th>27997</th>\n",
              "      <td>1.077325</td>\n",
              "      <td>-1.519552</td>\n",
              "      <td>-0.811160</td>\n",
              "      <td>0.332830</td>\n",
              "      <td>0.283607</td>\n",
              "      <td>-0.658560</td>\n",
              "      <td>0.350040</td>\n",
              "      <td>0.352745</td>\n",
              "      <td>0.017107</td>\n",
              "      <td>-0.616080</td>\n",
              "      <td>0.700643</td>\n",
              "    </tr>\n",
              "    <tr>\n",
              "      <th>27998</th>\n",
              "      <td>1.561620</td>\n",
              "      <td>0.063027</td>\n",
              "      <td>0.513089</td>\n",
              "      <td>0.332830</td>\n",
              "      <td>0.283607</td>\n",
              "      <td>1.518465</td>\n",
              "      <td>-1.213895</td>\n",
              "      <td>-1.216100</td>\n",
              "      <td>-1.057657</td>\n",
              "      <td>1.834927</td>\n",
              "      <td>1.407256</td>\n",
              "    </tr>\n",
              "    <tr>\n",
              "      <th>27999</th>\n",
              "      <td>1.483733</td>\n",
              "      <td>-0.464499</td>\n",
              "      <td>-0.149036</td>\n",
              "      <td>0.332830</td>\n",
              "      <td>0.283607</td>\n",
              "      <td>-0.658560</td>\n",
              "      <td>-1.145898</td>\n",
              "      <td>0.594106</td>\n",
              "      <td>0.017107</td>\n",
              "      <td>-0.616080</td>\n",
              "      <td>-1.419197</td>\n",
              "    </tr>\n",
              "  </tbody>\n",
              "</table>\n",
              "<p>28000 rows × 11 columns</p>\n",
              "</div>\n",
              "      <button class=\"colab-df-convert\" onclick=\"convertToInteractive('df-a064db85-5072-41ab-a763-d36ed127c529')\"\n",
              "              title=\"Convert this dataframe to an interactive table.\"\n",
              "              style=\"display:none;\">\n",
              "        \n",
              "  <svg xmlns=\"http://www.w3.org/2000/svg\" height=\"24px\"viewBox=\"0 0 24 24\"\n",
              "       width=\"24px\">\n",
              "    <path d=\"M0 0h24v24H0V0z\" fill=\"none\"/>\n",
              "    <path d=\"M18.56 5.44l.94 2.06.94-2.06 2.06-.94-2.06-.94-.94-2.06-.94 2.06-2.06.94zm-11 1L8.5 8.5l.94-2.06 2.06-.94-2.06-.94L8.5 2.5l-.94 2.06-2.06.94zm10 10l.94 2.06.94-2.06 2.06-.94-2.06-.94-.94-2.06-.94 2.06-2.06.94z\"/><path d=\"M17.41 7.96l-1.37-1.37c-.4-.4-.92-.59-1.43-.59-.52 0-1.04.2-1.43.59L10.3 9.45l-7.72 7.72c-.78.78-.78 2.05 0 2.83L4 21.41c.39.39.9.59 1.41.59.51 0 1.02-.2 1.41-.59l7.78-7.78 2.81-2.81c.8-.78.8-2.07 0-2.86zM5.41 20L4 18.59l7.72-7.72 1.47 1.35L5.41 20z\"/>\n",
              "  </svg>\n",
              "      </button>\n",
              "      \n",
              "  <style>\n",
              "    .colab-df-container {\n",
              "      display:flex;\n",
              "      flex-wrap:wrap;\n",
              "      gap: 12px;\n",
              "    }\n",
              "\n",
              "    .colab-df-convert {\n",
              "      background-color: #E8F0FE;\n",
              "      border: none;\n",
              "      border-radius: 50%;\n",
              "      cursor: pointer;\n",
              "      display: none;\n",
              "      fill: #1967D2;\n",
              "      height: 32px;\n",
              "      padding: 0 0 0 0;\n",
              "      width: 32px;\n",
              "    }\n",
              "\n",
              "    .colab-df-convert:hover {\n",
              "      background-color: #E2EBFA;\n",
              "      box-shadow: 0px 1px 2px rgba(60, 64, 67, 0.3), 0px 1px 3px 1px rgba(60, 64, 67, 0.15);\n",
              "      fill: #174EA6;\n",
              "    }\n",
              "\n",
              "    [theme=dark] .colab-df-convert {\n",
              "      background-color: #3B4455;\n",
              "      fill: #D2E3FC;\n",
              "    }\n",
              "\n",
              "    [theme=dark] .colab-df-convert:hover {\n",
              "      background-color: #434B5C;\n",
              "      box-shadow: 0px 1px 3px 1px rgba(0, 0, 0, 0.15);\n",
              "      filter: drop-shadow(0px 1px 2px rgba(0, 0, 0, 0.3));\n",
              "      fill: #FFFFFF;\n",
              "    }\n",
              "  </style>\n",
              "\n",
              "      <script>\n",
              "        const buttonEl =\n",
              "          document.querySelector('#df-a064db85-5072-41ab-a763-d36ed127c529 button.colab-df-convert');\n",
              "        buttonEl.style.display =\n",
              "          google.colab.kernel.accessAllowed ? 'block' : 'none';\n",
              "\n",
              "        async function convertToInteractive(key) {\n",
              "          const element = document.querySelector('#df-a064db85-5072-41ab-a763-d36ed127c529');\n",
              "          const dataTable =\n",
              "            await google.colab.kernel.invokeFunction('convertToInteractive',\n",
              "                                                     [key], {});\n",
              "          if (!dataTable) return;\n",
              "\n",
              "          const docLinkHtml = 'Like what you see? Visit the ' +\n",
              "            '<a target=\"_blank\" href=https://colab.research.google.com/notebooks/data_table.ipynb>data table notebook</a>'\n",
              "            + ' to learn more about interactive tables.';\n",
              "          element.innerHTML = '';\n",
              "          dataTable['output_type'] = 'display_data';\n",
              "          await google.colab.output.renderOutput(dataTable, element);\n",
              "          const docLink = document.createElement('div');\n",
              "          docLink.innerHTML = docLinkHtml;\n",
              "          element.appendChild(docLink);\n",
              "        }\n",
              "      </script>\n",
              "    </div>\n",
              "  </div>\n",
              "  "
            ]
          },
          "metadata": {},
          "execution_count": 105
        }
      ]
    },
    {
      "cell_type": "code",
      "source": [
        "def load_and_test(filename):\n",
        "  model = pickle.load(open(filename, 'rb'))\n",
        "  y_pred = model.predict(test_data.iloc[:, : 11])\n",
        "  return y_pred"
      ],
      "metadata": {
        "id": "hOfVrJU_Tati"
      },
      "execution_count": 106,
      "outputs": []
    },
    {
      "cell_type": "markdown",
      "source": [
        "### Logistic Regression"
      ],
      "metadata": {
        "id": "D4JUUH5LTHxi"
      }
    },
    {
      "cell_type": "code",
      "source": [
        "test_data['lr_predict'] = list(load_and_test('model/LogisticRegressionOver.pkl'))\n",
        "test_data"
      ],
      "metadata": {
        "colab": {
          "base_uri": "https://localhost:8080/",
          "height": 488
        },
        "id": "DhxufaMMS5Qi",
        "outputId": "be9c60b7-9eae-4491-f5b9-cc2d323c1391"
      },
      "execution_count": 107,
      "outputs": [
        {
          "output_type": "execute_result",
          "data": {
            "text/plain": [
              "         Income       Age  Experience  Married/Single  House_Ownership  \\\n",
              "0      0.837459  0.531939    1.506277        0.332830         0.283607   \n",
              "1     -1.312342 -1.460938   -0.811160        0.332830         0.283607   \n",
              "2      1.362288  0.004413    0.347558        0.332830         0.283607   \n",
              "3     -1.058526 -0.054201   -0.149036       -3.004535         0.283607   \n",
              "4     -1.730457 -1.460938    1.340745        0.332830         0.283607   \n",
              "...         ...       ...         ...             ...              ...   \n",
              "27995  1.729099  0.414711    0.513089        0.332830         0.283607   \n",
              "27996 -0.719829 -0.171429   -0.149036        0.332830         0.283607   \n",
              "27997  1.077325 -1.519552   -0.811160        0.332830         0.283607   \n",
              "27998  1.561620  0.063027    0.513089        0.332830         0.283607   \n",
              "27999  1.483733 -0.464499   -0.149036        0.332830         0.283607   \n",
              "\n",
              "       Car_Ownership  Profession      CITY     STATE  CURRENT_JOB_YRS  \\\n",
              "0          -0.658560    0.078051  0.254007  1.521777        -0.616080   \n",
              "1          -0.658560   -0.057943 -0.294540  0.017107        -0.343746   \n",
              "2          -0.658560    0.350040  1.449840  0.017107         0.745591   \n",
              "3           1.518465   -1.621878  0.144297  0.017107        -0.888414   \n",
              "4           1.518465   -0.873909 -1.303868  1.521777         1.834927   \n",
              "...              ...         ...       ...       ...              ...   \n",
              "27995      -0.658560    1.302000 -0.744349 -1.487563        -0.343746   \n",
              "27996      -0.658560    1.505992  1.000031 -0.090369         0.745591   \n",
              "27997      -0.658560    0.350040  0.352745  0.017107        -0.616080   \n",
              "27998       1.518465   -1.213895 -1.216100 -1.057657         1.834927   \n",
              "27999      -0.658560   -1.145898  0.594106  0.017107        -0.616080   \n",
              "\n",
              "       CURRENT_HOUSE_YRS  lr_predict  \n",
              "0               0.700643           0  \n",
              "1              -1.419197           1  \n",
              "2               1.407256           0  \n",
              "3              -0.005970           0  \n",
              "4              -0.712583           0  \n",
              "...                  ...         ...  \n",
              "27995          -1.419197           1  \n",
              "27996           1.407256           0  \n",
              "27997           0.700643           1  \n",
              "27998           1.407256           0  \n",
              "27999          -1.419197           1  \n",
              "\n",
              "[28000 rows x 12 columns]"
            ],
            "text/html": [
              "\n",
              "  <div id=\"df-405378a3-fda0-4eb4-938f-b76dfafbcf42\">\n",
              "    <div class=\"colab-df-container\">\n",
              "      <div>\n",
              "<style scoped>\n",
              "    .dataframe tbody tr th:only-of-type {\n",
              "        vertical-align: middle;\n",
              "    }\n",
              "\n",
              "    .dataframe tbody tr th {\n",
              "        vertical-align: top;\n",
              "    }\n",
              "\n",
              "    .dataframe thead th {\n",
              "        text-align: right;\n",
              "    }\n",
              "</style>\n",
              "<table border=\"1\" class=\"dataframe\">\n",
              "  <thead>\n",
              "    <tr style=\"text-align: right;\">\n",
              "      <th></th>\n",
              "      <th>Income</th>\n",
              "      <th>Age</th>\n",
              "      <th>Experience</th>\n",
              "      <th>Married/Single</th>\n",
              "      <th>House_Ownership</th>\n",
              "      <th>Car_Ownership</th>\n",
              "      <th>Profession</th>\n",
              "      <th>CITY</th>\n",
              "      <th>STATE</th>\n",
              "      <th>CURRENT_JOB_YRS</th>\n",
              "      <th>CURRENT_HOUSE_YRS</th>\n",
              "      <th>lr_predict</th>\n",
              "    </tr>\n",
              "  </thead>\n",
              "  <tbody>\n",
              "    <tr>\n",
              "      <th>0</th>\n",
              "      <td>0.837459</td>\n",
              "      <td>0.531939</td>\n",
              "      <td>1.506277</td>\n",
              "      <td>0.332830</td>\n",
              "      <td>0.283607</td>\n",
              "      <td>-0.658560</td>\n",
              "      <td>0.078051</td>\n",
              "      <td>0.254007</td>\n",
              "      <td>1.521777</td>\n",
              "      <td>-0.616080</td>\n",
              "      <td>0.700643</td>\n",
              "      <td>0</td>\n",
              "    </tr>\n",
              "    <tr>\n",
              "      <th>1</th>\n",
              "      <td>-1.312342</td>\n",
              "      <td>-1.460938</td>\n",
              "      <td>-0.811160</td>\n",
              "      <td>0.332830</td>\n",
              "      <td>0.283607</td>\n",
              "      <td>-0.658560</td>\n",
              "      <td>-0.057943</td>\n",
              "      <td>-0.294540</td>\n",
              "      <td>0.017107</td>\n",
              "      <td>-0.343746</td>\n",
              "      <td>-1.419197</td>\n",
              "      <td>1</td>\n",
              "    </tr>\n",
              "    <tr>\n",
              "      <th>2</th>\n",
              "      <td>1.362288</td>\n",
              "      <td>0.004413</td>\n",
              "      <td>0.347558</td>\n",
              "      <td>0.332830</td>\n",
              "      <td>0.283607</td>\n",
              "      <td>-0.658560</td>\n",
              "      <td>0.350040</td>\n",
              "      <td>1.449840</td>\n",
              "      <td>0.017107</td>\n",
              "      <td>0.745591</td>\n",
              "      <td>1.407256</td>\n",
              "      <td>0</td>\n",
              "    </tr>\n",
              "    <tr>\n",
              "      <th>3</th>\n",
              "      <td>-1.058526</td>\n",
              "      <td>-0.054201</td>\n",
              "      <td>-0.149036</td>\n",
              "      <td>-3.004535</td>\n",
              "      <td>0.283607</td>\n",
              "      <td>1.518465</td>\n",
              "      <td>-1.621878</td>\n",
              "      <td>0.144297</td>\n",
              "      <td>0.017107</td>\n",
              "      <td>-0.888414</td>\n",
              "      <td>-0.005970</td>\n",
              "      <td>0</td>\n",
              "    </tr>\n",
              "    <tr>\n",
              "      <th>4</th>\n",
              "      <td>-1.730457</td>\n",
              "      <td>-1.460938</td>\n",
              "      <td>1.340745</td>\n",
              "      <td>0.332830</td>\n",
              "      <td>0.283607</td>\n",
              "      <td>1.518465</td>\n",
              "      <td>-0.873909</td>\n",
              "      <td>-1.303868</td>\n",
              "      <td>1.521777</td>\n",
              "      <td>1.834927</td>\n",
              "      <td>-0.712583</td>\n",
              "      <td>0</td>\n",
              "    </tr>\n",
              "    <tr>\n",
              "      <th>...</th>\n",
              "      <td>...</td>\n",
              "      <td>...</td>\n",
              "      <td>...</td>\n",
              "      <td>...</td>\n",
              "      <td>...</td>\n",
              "      <td>...</td>\n",
              "      <td>...</td>\n",
              "      <td>...</td>\n",
              "      <td>...</td>\n",
              "      <td>...</td>\n",
              "      <td>...</td>\n",
              "      <td>...</td>\n",
              "    </tr>\n",
              "    <tr>\n",
              "      <th>27995</th>\n",
              "      <td>1.729099</td>\n",
              "      <td>0.414711</td>\n",
              "      <td>0.513089</td>\n",
              "      <td>0.332830</td>\n",
              "      <td>0.283607</td>\n",
              "      <td>-0.658560</td>\n",
              "      <td>1.302000</td>\n",
              "      <td>-0.744349</td>\n",
              "      <td>-1.487563</td>\n",
              "      <td>-0.343746</td>\n",
              "      <td>-1.419197</td>\n",
              "      <td>1</td>\n",
              "    </tr>\n",
              "    <tr>\n",
              "      <th>27996</th>\n",
              "      <td>-0.719829</td>\n",
              "      <td>-0.171429</td>\n",
              "      <td>-0.149036</td>\n",
              "      <td>0.332830</td>\n",
              "      <td>0.283607</td>\n",
              "      <td>-0.658560</td>\n",
              "      <td>1.505992</td>\n",
              "      <td>1.000031</td>\n",
              "      <td>-0.090369</td>\n",
              "      <td>0.745591</td>\n",
              "      <td>1.407256</td>\n",
              "      <td>0</td>\n",
              "    </tr>\n",
              "    <tr>\n",
              "      <th>27997</th>\n",
              "      <td>1.077325</td>\n",
              "      <td>-1.519552</td>\n",
              "      <td>-0.811160</td>\n",
              "      <td>0.332830</td>\n",
              "      <td>0.283607</td>\n",
              "      <td>-0.658560</td>\n",
              "      <td>0.350040</td>\n",
              "      <td>0.352745</td>\n",
              "      <td>0.017107</td>\n",
              "      <td>-0.616080</td>\n",
              "      <td>0.700643</td>\n",
              "      <td>1</td>\n",
              "    </tr>\n",
              "    <tr>\n",
              "      <th>27998</th>\n",
              "      <td>1.561620</td>\n",
              "      <td>0.063027</td>\n",
              "      <td>0.513089</td>\n",
              "      <td>0.332830</td>\n",
              "      <td>0.283607</td>\n",
              "      <td>1.518465</td>\n",
              "      <td>-1.213895</td>\n",
              "      <td>-1.216100</td>\n",
              "      <td>-1.057657</td>\n",
              "      <td>1.834927</td>\n",
              "      <td>1.407256</td>\n",
              "      <td>0</td>\n",
              "    </tr>\n",
              "    <tr>\n",
              "      <th>27999</th>\n",
              "      <td>1.483733</td>\n",
              "      <td>-0.464499</td>\n",
              "      <td>-0.149036</td>\n",
              "      <td>0.332830</td>\n",
              "      <td>0.283607</td>\n",
              "      <td>-0.658560</td>\n",
              "      <td>-1.145898</td>\n",
              "      <td>0.594106</td>\n",
              "      <td>0.017107</td>\n",
              "      <td>-0.616080</td>\n",
              "      <td>-1.419197</td>\n",
              "      <td>1</td>\n",
              "    </tr>\n",
              "  </tbody>\n",
              "</table>\n",
              "<p>28000 rows × 12 columns</p>\n",
              "</div>\n",
              "      <button class=\"colab-df-convert\" onclick=\"convertToInteractive('df-405378a3-fda0-4eb4-938f-b76dfafbcf42')\"\n",
              "              title=\"Convert this dataframe to an interactive table.\"\n",
              "              style=\"display:none;\">\n",
              "        \n",
              "  <svg xmlns=\"http://www.w3.org/2000/svg\" height=\"24px\"viewBox=\"0 0 24 24\"\n",
              "       width=\"24px\">\n",
              "    <path d=\"M0 0h24v24H0V0z\" fill=\"none\"/>\n",
              "    <path d=\"M18.56 5.44l.94 2.06.94-2.06 2.06-.94-2.06-.94-.94-2.06-.94 2.06-2.06.94zm-11 1L8.5 8.5l.94-2.06 2.06-.94-2.06-.94L8.5 2.5l-.94 2.06-2.06.94zm10 10l.94 2.06.94-2.06 2.06-.94-2.06-.94-.94-2.06-.94 2.06-2.06.94z\"/><path d=\"M17.41 7.96l-1.37-1.37c-.4-.4-.92-.59-1.43-.59-.52 0-1.04.2-1.43.59L10.3 9.45l-7.72 7.72c-.78.78-.78 2.05 0 2.83L4 21.41c.39.39.9.59 1.41.59.51 0 1.02-.2 1.41-.59l7.78-7.78 2.81-2.81c.8-.78.8-2.07 0-2.86zM5.41 20L4 18.59l7.72-7.72 1.47 1.35L5.41 20z\"/>\n",
              "  </svg>\n",
              "      </button>\n",
              "      \n",
              "  <style>\n",
              "    .colab-df-container {\n",
              "      display:flex;\n",
              "      flex-wrap:wrap;\n",
              "      gap: 12px;\n",
              "    }\n",
              "\n",
              "    .colab-df-convert {\n",
              "      background-color: #E8F0FE;\n",
              "      border: none;\n",
              "      border-radius: 50%;\n",
              "      cursor: pointer;\n",
              "      display: none;\n",
              "      fill: #1967D2;\n",
              "      height: 32px;\n",
              "      padding: 0 0 0 0;\n",
              "      width: 32px;\n",
              "    }\n",
              "\n",
              "    .colab-df-convert:hover {\n",
              "      background-color: #E2EBFA;\n",
              "      box-shadow: 0px 1px 2px rgba(60, 64, 67, 0.3), 0px 1px 3px 1px rgba(60, 64, 67, 0.15);\n",
              "      fill: #174EA6;\n",
              "    }\n",
              "\n",
              "    [theme=dark] .colab-df-convert {\n",
              "      background-color: #3B4455;\n",
              "      fill: #D2E3FC;\n",
              "    }\n",
              "\n",
              "    [theme=dark] .colab-df-convert:hover {\n",
              "      background-color: #434B5C;\n",
              "      box-shadow: 0px 1px 3px 1px rgba(0, 0, 0, 0.15);\n",
              "      filter: drop-shadow(0px 1px 2px rgba(0, 0, 0, 0.3));\n",
              "      fill: #FFFFFF;\n",
              "    }\n",
              "  </style>\n",
              "\n",
              "      <script>\n",
              "        const buttonEl =\n",
              "          document.querySelector('#df-405378a3-fda0-4eb4-938f-b76dfafbcf42 button.colab-df-convert');\n",
              "        buttonEl.style.display =\n",
              "          google.colab.kernel.accessAllowed ? 'block' : 'none';\n",
              "\n",
              "        async function convertToInteractive(key) {\n",
              "          const element = document.querySelector('#df-405378a3-fda0-4eb4-938f-b76dfafbcf42');\n",
              "          const dataTable =\n",
              "            await google.colab.kernel.invokeFunction('convertToInteractive',\n",
              "                                                     [key], {});\n",
              "          if (!dataTable) return;\n",
              "\n",
              "          const docLinkHtml = 'Like what you see? Visit the ' +\n",
              "            '<a target=\"_blank\" href=https://colab.research.google.com/notebooks/data_table.ipynb>data table notebook</a>'\n",
              "            + ' to learn more about interactive tables.';\n",
              "          element.innerHTML = '';\n",
              "          dataTable['output_type'] = 'display_data';\n",
              "          await google.colab.output.renderOutput(dataTable, element);\n",
              "          const docLink = document.createElement('div');\n",
              "          docLink.innerHTML = docLinkHtml;\n",
              "          element.appendChild(docLink);\n",
              "        }\n",
              "      </script>\n",
              "    </div>\n",
              "  </div>\n",
              "  "
            ]
          },
          "metadata": {},
          "execution_count": 107
        }
      ]
    },
    {
      "cell_type": "code",
      "source": [
        "test_data['lr_predict'].value_counts()"
      ],
      "metadata": {
        "colab": {
          "base_uri": "https://localhost:8080/",
          "height": 0
        },
        "id": "tlQ8pGIGW8B0",
        "outputId": "4837451d-b277-40a5-afa2-b19c70452264"
      },
      "execution_count": 108,
      "outputs": [
        {
          "output_type": "execute_result",
          "data": {
            "text/plain": [
              "1    14850\n",
              "0    13150\n",
              "Name: lr_predict, dtype: int64"
            ]
          },
          "metadata": {},
          "execution_count": 108
        }
      ]
    },
    {
      "cell_type": "markdown",
      "source": [
        "### Decision Tree"
      ],
      "metadata": {
        "id": "wFdMzozPXIau"
      }
    },
    {
      "cell_type": "code",
      "source": [
        "test_data['dt_predict'] = list(load_and_test('model/DecisionTreeOver.pkl'))\n",
        "test_data"
      ],
      "metadata": {
        "outputId": "8b31d7a9-530a-4ada-920a-8dc2fab2aa11",
        "colab": {
          "base_uri": "https://localhost:8080/",
          "height": 488
        },
        "id": "axoK9_H8XIav"
      },
      "execution_count": 110,
      "outputs": [
        {
          "output_type": "execute_result",
          "data": {
            "text/plain": [
              "         Income       Age  Experience  Married/Single  House_Ownership  \\\n",
              "0      0.837459  0.531939    1.506277        0.332830         0.283607   \n",
              "1     -1.312342 -1.460938   -0.811160        0.332830         0.283607   \n",
              "2      1.362288  0.004413    0.347558        0.332830         0.283607   \n",
              "3     -1.058526 -0.054201   -0.149036       -3.004535         0.283607   \n",
              "4     -1.730457 -1.460938    1.340745        0.332830         0.283607   \n",
              "...         ...       ...         ...             ...              ...   \n",
              "27995  1.729099  0.414711    0.513089        0.332830         0.283607   \n",
              "27996 -0.719829 -0.171429   -0.149036        0.332830         0.283607   \n",
              "27997  1.077325 -1.519552   -0.811160        0.332830         0.283607   \n",
              "27998  1.561620  0.063027    0.513089        0.332830         0.283607   \n",
              "27999  1.483733 -0.464499   -0.149036        0.332830         0.283607   \n",
              "\n",
              "       Car_Ownership  Profession      CITY     STATE  CURRENT_JOB_YRS  \\\n",
              "0          -0.658560    0.078051  0.254007  1.521777        -0.616080   \n",
              "1          -0.658560   -0.057943 -0.294540  0.017107        -0.343746   \n",
              "2          -0.658560    0.350040  1.449840  0.017107         0.745591   \n",
              "3           1.518465   -1.621878  0.144297  0.017107        -0.888414   \n",
              "4           1.518465   -0.873909 -1.303868  1.521777         1.834927   \n",
              "...              ...         ...       ...       ...              ...   \n",
              "27995      -0.658560    1.302000 -0.744349 -1.487563        -0.343746   \n",
              "27996      -0.658560    1.505992  1.000031 -0.090369         0.745591   \n",
              "27997      -0.658560    0.350040  0.352745  0.017107        -0.616080   \n",
              "27998       1.518465   -1.213895 -1.216100 -1.057657         1.834927   \n",
              "27999      -0.658560   -1.145898  0.594106  0.017107        -0.616080   \n",
              "\n",
              "       CURRENT_HOUSE_YRS  lr_predict  dt_predict  \n",
              "0               0.700643           0           1  \n",
              "1              -1.419197           1           1  \n",
              "2               1.407256           0           1  \n",
              "3              -0.005970           0           0  \n",
              "4              -0.712583           0           1  \n",
              "...                  ...         ...         ...  \n",
              "27995          -1.419197           1           1  \n",
              "27996           1.407256           0           1  \n",
              "27997           0.700643           1           0  \n",
              "27998           1.407256           0           1  \n",
              "27999          -1.419197           1           1  \n",
              "\n",
              "[28000 rows x 13 columns]"
            ],
            "text/html": [
              "\n",
              "  <div id=\"df-559bf722-a399-4ec9-916b-7719e80f73d3\">\n",
              "    <div class=\"colab-df-container\">\n",
              "      <div>\n",
              "<style scoped>\n",
              "    .dataframe tbody tr th:only-of-type {\n",
              "        vertical-align: middle;\n",
              "    }\n",
              "\n",
              "    .dataframe tbody tr th {\n",
              "        vertical-align: top;\n",
              "    }\n",
              "\n",
              "    .dataframe thead th {\n",
              "        text-align: right;\n",
              "    }\n",
              "</style>\n",
              "<table border=\"1\" class=\"dataframe\">\n",
              "  <thead>\n",
              "    <tr style=\"text-align: right;\">\n",
              "      <th></th>\n",
              "      <th>Income</th>\n",
              "      <th>Age</th>\n",
              "      <th>Experience</th>\n",
              "      <th>Married/Single</th>\n",
              "      <th>House_Ownership</th>\n",
              "      <th>Car_Ownership</th>\n",
              "      <th>Profession</th>\n",
              "      <th>CITY</th>\n",
              "      <th>STATE</th>\n",
              "      <th>CURRENT_JOB_YRS</th>\n",
              "      <th>CURRENT_HOUSE_YRS</th>\n",
              "      <th>lr_predict</th>\n",
              "      <th>dt_predict</th>\n",
              "    </tr>\n",
              "  </thead>\n",
              "  <tbody>\n",
              "    <tr>\n",
              "      <th>0</th>\n",
              "      <td>0.837459</td>\n",
              "      <td>0.531939</td>\n",
              "      <td>1.506277</td>\n",
              "      <td>0.332830</td>\n",
              "      <td>0.283607</td>\n",
              "      <td>-0.658560</td>\n",
              "      <td>0.078051</td>\n",
              "      <td>0.254007</td>\n",
              "      <td>1.521777</td>\n",
              "      <td>-0.616080</td>\n",
              "      <td>0.700643</td>\n",
              "      <td>0</td>\n",
              "      <td>1</td>\n",
              "    </tr>\n",
              "    <tr>\n",
              "      <th>1</th>\n",
              "      <td>-1.312342</td>\n",
              "      <td>-1.460938</td>\n",
              "      <td>-0.811160</td>\n",
              "      <td>0.332830</td>\n",
              "      <td>0.283607</td>\n",
              "      <td>-0.658560</td>\n",
              "      <td>-0.057943</td>\n",
              "      <td>-0.294540</td>\n",
              "      <td>0.017107</td>\n",
              "      <td>-0.343746</td>\n",
              "      <td>-1.419197</td>\n",
              "      <td>1</td>\n",
              "      <td>1</td>\n",
              "    </tr>\n",
              "    <tr>\n",
              "      <th>2</th>\n",
              "      <td>1.362288</td>\n",
              "      <td>0.004413</td>\n",
              "      <td>0.347558</td>\n",
              "      <td>0.332830</td>\n",
              "      <td>0.283607</td>\n",
              "      <td>-0.658560</td>\n",
              "      <td>0.350040</td>\n",
              "      <td>1.449840</td>\n",
              "      <td>0.017107</td>\n",
              "      <td>0.745591</td>\n",
              "      <td>1.407256</td>\n",
              "      <td>0</td>\n",
              "      <td>1</td>\n",
              "    </tr>\n",
              "    <tr>\n",
              "      <th>3</th>\n",
              "      <td>-1.058526</td>\n",
              "      <td>-0.054201</td>\n",
              "      <td>-0.149036</td>\n",
              "      <td>-3.004535</td>\n",
              "      <td>0.283607</td>\n",
              "      <td>1.518465</td>\n",
              "      <td>-1.621878</td>\n",
              "      <td>0.144297</td>\n",
              "      <td>0.017107</td>\n",
              "      <td>-0.888414</td>\n",
              "      <td>-0.005970</td>\n",
              "      <td>0</td>\n",
              "      <td>0</td>\n",
              "    </tr>\n",
              "    <tr>\n",
              "      <th>4</th>\n",
              "      <td>-1.730457</td>\n",
              "      <td>-1.460938</td>\n",
              "      <td>1.340745</td>\n",
              "      <td>0.332830</td>\n",
              "      <td>0.283607</td>\n",
              "      <td>1.518465</td>\n",
              "      <td>-0.873909</td>\n",
              "      <td>-1.303868</td>\n",
              "      <td>1.521777</td>\n",
              "      <td>1.834927</td>\n",
              "      <td>-0.712583</td>\n",
              "      <td>0</td>\n",
              "      <td>1</td>\n",
              "    </tr>\n",
              "    <tr>\n",
              "      <th>...</th>\n",
              "      <td>...</td>\n",
              "      <td>...</td>\n",
              "      <td>...</td>\n",
              "      <td>...</td>\n",
              "      <td>...</td>\n",
              "      <td>...</td>\n",
              "      <td>...</td>\n",
              "      <td>...</td>\n",
              "      <td>...</td>\n",
              "      <td>...</td>\n",
              "      <td>...</td>\n",
              "      <td>...</td>\n",
              "      <td>...</td>\n",
              "    </tr>\n",
              "    <tr>\n",
              "      <th>27995</th>\n",
              "      <td>1.729099</td>\n",
              "      <td>0.414711</td>\n",
              "      <td>0.513089</td>\n",
              "      <td>0.332830</td>\n",
              "      <td>0.283607</td>\n",
              "      <td>-0.658560</td>\n",
              "      <td>1.302000</td>\n",
              "      <td>-0.744349</td>\n",
              "      <td>-1.487563</td>\n",
              "      <td>-0.343746</td>\n",
              "      <td>-1.419197</td>\n",
              "      <td>1</td>\n",
              "      <td>1</td>\n",
              "    </tr>\n",
              "    <tr>\n",
              "      <th>27996</th>\n",
              "      <td>-0.719829</td>\n",
              "      <td>-0.171429</td>\n",
              "      <td>-0.149036</td>\n",
              "      <td>0.332830</td>\n",
              "      <td>0.283607</td>\n",
              "      <td>-0.658560</td>\n",
              "      <td>1.505992</td>\n",
              "      <td>1.000031</td>\n",
              "      <td>-0.090369</td>\n",
              "      <td>0.745591</td>\n",
              "      <td>1.407256</td>\n",
              "      <td>0</td>\n",
              "      <td>1</td>\n",
              "    </tr>\n",
              "    <tr>\n",
              "      <th>27997</th>\n",
              "      <td>1.077325</td>\n",
              "      <td>-1.519552</td>\n",
              "      <td>-0.811160</td>\n",
              "      <td>0.332830</td>\n",
              "      <td>0.283607</td>\n",
              "      <td>-0.658560</td>\n",
              "      <td>0.350040</td>\n",
              "      <td>0.352745</td>\n",
              "      <td>0.017107</td>\n",
              "      <td>-0.616080</td>\n",
              "      <td>0.700643</td>\n",
              "      <td>1</td>\n",
              "      <td>0</td>\n",
              "    </tr>\n",
              "    <tr>\n",
              "      <th>27998</th>\n",
              "      <td>1.561620</td>\n",
              "      <td>0.063027</td>\n",
              "      <td>0.513089</td>\n",
              "      <td>0.332830</td>\n",
              "      <td>0.283607</td>\n",
              "      <td>1.518465</td>\n",
              "      <td>-1.213895</td>\n",
              "      <td>-1.216100</td>\n",
              "      <td>-1.057657</td>\n",
              "      <td>1.834927</td>\n",
              "      <td>1.407256</td>\n",
              "      <td>0</td>\n",
              "      <td>1</td>\n",
              "    </tr>\n",
              "    <tr>\n",
              "      <th>27999</th>\n",
              "      <td>1.483733</td>\n",
              "      <td>-0.464499</td>\n",
              "      <td>-0.149036</td>\n",
              "      <td>0.332830</td>\n",
              "      <td>0.283607</td>\n",
              "      <td>-0.658560</td>\n",
              "      <td>-1.145898</td>\n",
              "      <td>0.594106</td>\n",
              "      <td>0.017107</td>\n",
              "      <td>-0.616080</td>\n",
              "      <td>-1.419197</td>\n",
              "      <td>1</td>\n",
              "      <td>1</td>\n",
              "    </tr>\n",
              "  </tbody>\n",
              "</table>\n",
              "<p>28000 rows × 13 columns</p>\n",
              "</div>\n",
              "      <button class=\"colab-df-convert\" onclick=\"convertToInteractive('df-559bf722-a399-4ec9-916b-7719e80f73d3')\"\n",
              "              title=\"Convert this dataframe to an interactive table.\"\n",
              "              style=\"display:none;\">\n",
              "        \n",
              "  <svg xmlns=\"http://www.w3.org/2000/svg\" height=\"24px\"viewBox=\"0 0 24 24\"\n",
              "       width=\"24px\">\n",
              "    <path d=\"M0 0h24v24H0V0z\" fill=\"none\"/>\n",
              "    <path d=\"M18.56 5.44l.94 2.06.94-2.06 2.06-.94-2.06-.94-.94-2.06-.94 2.06-2.06.94zm-11 1L8.5 8.5l.94-2.06 2.06-.94-2.06-.94L8.5 2.5l-.94 2.06-2.06.94zm10 10l.94 2.06.94-2.06 2.06-.94-2.06-.94-.94-2.06-.94 2.06-2.06.94z\"/><path d=\"M17.41 7.96l-1.37-1.37c-.4-.4-.92-.59-1.43-.59-.52 0-1.04.2-1.43.59L10.3 9.45l-7.72 7.72c-.78.78-.78 2.05 0 2.83L4 21.41c.39.39.9.59 1.41.59.51 0 1.02-.2 1.41-.59l7.78-7.78 2.81-2.81c.8-.78.8-2.07 0-2.86zM5.41 20L4 18.59l7.72-7.72 1.47 1.35L5.41 20z\"/>\n",
              "  </svg>\n",
              "      </button>\n",
              "      \n",
              "  <style>\n",
              "    .colab-df-container {\n",
              "      display:flex;\n",
              "      flex-wrap:wrap;\n",
              "      gap: 12px;\n",
              "    }\n",
              "\n",
              "    .colab-df-convert {\n",
              "      background-color: #E8F0FE;\n",
              "      border: none;\n",
              "      border-radius: 50%;\n",
              "      cursor: pointer;\n",
              "      display: none;\n",
              "      fill: #1967D2;\n",
              "      height: 32px;\n",
              "      padding: 0 0 0 0;\n",
              "      width: 32px;\n",
              "    }\n",
              "\n",
              "    .colab-df-convert:hover {\n",
              "      background-color: #E2EBFA;\n",
              "      box-shadow: 0px 1px 2px rgba(60, 64, 67, 0.3), 0px 1px 3px 1px rgba(60, 64, 67, 0.15);\n",
              "      fill: #174EA6;\n",
              "    }\n",
              "\n",
              "    [theme=dark] .colab-df-convert {\n",
              "      background-color: #3B4455;\n",
              "      fill: #D2E3FC;\n",
              "    }\n",
              "\n",
              "    [theme=dark] .colab-df-convert:hover {\n",
              "      background-color: #434B5C;\n",
              "      box-shadow: 0px 1px 3px 1px rgba(0, 0, 0, 0.15);\n",
              "      filter: drop-shadow(0px 1px 2px rgba(0, 0, 0, 0.3));\n",
              "      fill: #FFFFFF;\n",
              "    }\n",
              "  </style>\n",
              "\n",
              "      <script>\n",
              "        const buttonEl =\n",
              "          document.querySelector('#df-559bf722-a399-4ec9-916b-7719e80f73d3 button.colab-df-convert');\n",
              "        buttonEl.style.display =\n",
              "          google.colab.kernel.accessAllowed ? 'block' : 'none';\n",
              "\n",
              "        async function convertToInteractive(key) {\n",
              "          const element = document.querySelector('#df-559bf722-a399-4ec9-916b-7719e80f73d3');\n",
              "          const dataTable =\n",
              "            await google.colab.kernel.invokeFunction('convertToInteractive',\n",
              "                                                     [key], {});\n",
              "          if (!dataTable) return;\n",
              "\n",
              "          const docLinkHtml = 'Like what you see? Visit the ' +\n",
              "            '<a target=\"_blank\" href=https://colab.research.google.com/notebooks/data_table.ipynb>data table notebook</a>'\n",
              "            + ' to learn more about interactive tables.';\n",
              "          element.innerHTML = '';\n",
              "          dataTable['output_type'] = 'display_data';\n",
              "          await google.colab.output.renderOutput(dataTable, element);\n",
              "          const docLink = document.createElement('div');\n",
              "          docLink.innerHTML = docLinkHtml;\n",
              "          element.appendChild(docLink);\n",
              "        }\n",
              "      </script>\n",
              "    </div>\n",
              "  </div>\n",
              "  "
            ]
          },
          "metadata": {},
          "execution_count": 110
        }
      ]
    },
    {
      "cell_type": "code",
      "source": [
        "test_data['dt_predict'].value_counts()"
      ],
      "metadata": {
        "outputId": "2786cf95-9f12-4962-8b25-3ca74c718529",
        "colab": {
          "base_uri": "https://localhost:8080/",
          "height": 0
        },
        "id": "l2pu4EETXIaw"
      },
      "execution_count": 111,
      "outputs": [
        {
          "output_type": "execute_result",
          "data": {
            "text/plain": [
              "1    16859\n",
              "0    11141\n",
              "Name: dt_predict, dtype: int64"
            ]
          },
          "metadata": {},
          "execution_count": 111
        }
      ]
    },
    {
      "cell_type": "markdown",
      "source": [
        "### Random Forest"
      ],
      "metadata": {
        "id": "f80GLXCuXtSf"
      }
    },
    {
      "cell_type": "code",
      "source": [
        "test_data['rf_predict'] = list(load_and_test('model/RandomForestOver.pkl'))\n",
        "test_data"
      ],
      "metadata": {
        "outputId": "88a6e23b-eb2c-49e6-f988-5a4fa8666234",
        "colab": {
          "base_uri": "https://localhost:8080/",
          "height": 488
        },
        "id": "iwdxlA7FXtSf"
      },
      "execution_count": 113,
      "outputs": [
        {
          "output_type": "execute_result",
          "data": {
            "text/plain": [
              "         Income       Age  Experience  Married/Single  House_Ownership  \\\n",
              "0      0.837459  0.531939    1.506277        0.332830         0.283607   \n",
              "1     -1.312342 -1.460938   -0.811160        0.332830         0.283607   \n",
              "2      1.362288  0.004413    0.347558        0.332830         0.283607   \n",
              "3     -1.058526 -0.054201   -0.149036       -3.004535         0.283607   \n",
              "4     -1.730457 -1.460938    1.340745        0.332830         0.283607   \n",
              "...         ...       ...         ...             ...              ...   \n",
              "27995  1.729099  0.414711    0.513089        0.332830         0.283607   \n",
              "27996 -0.719829 -0.171429   -0.149036        0.332830         0.283607   \n",
              "27997  1.077325 -1.519552   -0.811160        0.332830         0.283607   \n",
              "27998  1.561620  0.063027    0.513089        0.332830         0.283607   \n",
              "27999  1.483733 -0.464499   -0.149036        0.332830         0.283607   \n",
              "\n",
              "       Car_Ownership  Profession      CITY     STATE  CURRENT_JOB_YRS  \\\n",
              "0          -0.658560    0.078051  0.254007  1.521777        -0.616080   \n",
              "1          -0.658560   -0.057943 -0.294540  0.017107        -0.343746   \n",
              "2          -0.658560    0.350040  1.449840  0.017107         0.745591   \n",
              "3           1.518465   -1.621878  0.144297  0.017107        -0.888414   \n",
              "4           1.518465   -0.873909 -1.303868  1.521777         1.834927   \n",
              "...              ...         ...       ...       ...              ...   \n",
              "27995      -0.658560    1.302000 -0.744349 -1.487563        -0.343746   \n",
              "27996      -0.658560    1.505992  1.000031 -0.090369         0.745591   \n",
              "27997      -0.658560    0.350040  0.352745  0.017107        -0.616080   \n",
              "27998       1.518465   -1.213895 -1.216100 -1.057657         1.834927   \n",
              "27999      -0.658560   -1.145898  0.594106  0.017107        -0.616080   \n",
              "\n",
              "       CURRENT_HOUSE_YRS  lr_predict  dt_predict  rf_predict  \n",
              "0               0.700643           0           1           1  \n",
              "1              -1.419197           1           1           1  \n",
              "2               1.407256           0           1           0  \n",
              "3              -0.005970           0           0           0  \n",
              "4              -0.712583           0           1           0  \n",
              "...                  ...         ...         ...         ...  \n",
              "27995          -1.419197           1           1           1  \n",
              "27996           1.407256           0           1           0  \n",
              "27997           0.700643           1           0           0  \n",
              "27998           1.407256           0           1           0  \n",
              "27999          -1.419197           1           1           1  \n",
              "\n",
              "[28000 rows x 14 columns]"
            ],
            "text/html": [
              "\n",
              "  <div id=\"df-6ddbce12-e7b0-4a3d-b17e-f3d046e2ffc4\">\n",
              "    <div class=\"colab-df-container\">\n",
              "      <div>\n",
              "<style scoped>\n",
              "    .dataframe tbody tr th:only-of-type {\n",
              "        vertical-align: middle;\n",
              "    }\n",
              "\n",
              "    .dataframe tbody tr th {\n",
              "        vertical-align: top;\n",
              "    }\n",
              "\n",
              "    .dataframe thead th {\n",
              "        text-align: right;\n",
              "    }\n",
              "</style>\n",
              "<table border=\"1\" class=\"dataframe\">\n",
              "  <thead>\n",
              "    <tr style=\"text-align: right;\">\n",
              "      <th></th>\n",
              "      <th>Income</th>\n",
              "      <th>Age</th>\n",
              "      <th>Experience</th>\n",
              "      <th>Married/Single</th>\n",
              "      <th>House_Ownership</th>\n",
              "      <th>Car_Ownership</th>\n",
              "      <th>Profession</th>\n",
              "      <th>CITY</th>\n",
              "      <th>STATE</th>\n",
              "      <th>CURRENT_JOB_YRS</th>\n",
              "      <th>CURRENT_HOUSE_YRS</th>\n",
              "      <th>lr_predict</th>\n",
              "      <th>dt_predict</th>\n",
              "      <th>rf_predict</th>\n",
              "    </tr>\n",
              "  </thead>\n",
              "  <tbody>\n",
              "    <tr>\n",
              "      <th>0</th>\n",
              "      <td>0.837459</td>\n",
              "      <td>0.531939</td>\n",
              "      <td>1.506277</td>\n",
              "      <td>0.332830</td>\n",
              "      <td>0.283607</td>\n",
              "      <td>-0.658560</td>\n",
              "      <td>0.078051</td>\n",
              "      <td>0.254007</td>\n",
              "      <td>1.521777</td>\n",
              "      <td>-0.616080</td>\n",
              "      <td>0.700643</td>\n",
              "      <td>0</td>\n",
              "      <td>1</td>\n",
              "      <td>1</td>\n",
              "    </tr>\n",
              "    <tr>\n",
              "      <th>1</th>\n",
              "      <td>-1.312342</td>\n",
              "      <td>-1.460938</td>\n",
              "      <td>-0.811160</td>\n",
              "      <td>0.332830</td>\n",
              "      <td>0.283607</td>\n",
              "      <td>-0.658560</td>\n",
              "      <td>-0.057943</td>\n",
              "      <td>-0.294540</td>\n",
              "      <td>0.017107</td>\n",
              "      <td>-0.343746</td>\n",
              "      <td>-1.419197</td>\n",
              "      <td>1</td>\n",
              "      <td>1</td>\n",
              "      <td>1</td>\n",
              "    </tr>\n",
              "    <tr>\n",
              "      <th>2</th>\n",
              "      <td>1.362288</td>\n",
              "      <td>0.004413</td>\n",
              "      <td>0.347558</td>\n",
              "      <td>0.332830</td>\n",
              "      <td>0.283607</td>\n",
              "      <td>-0.658560</td>\n",
              "      <td>0.350040</td>\n",
              "      <td>1.449840</td>\n",
              "      <td>0.017107</td>\n",
              "      <td>0.745591</td>\n",
              "      <td>1.407256</td>\n",
              "      <td>0</td>\n",
              "      <td>1</td>\n",
              "      <td>0</td>\n",
              "    </tr>\n",
              "    <tr>\n",
              "      <th>3</th>\n",
              "      <td>-1.058526</td>\n",
              "      <td>-0.054201</td>\n",
              "      <td>-0.149036</td>\n",
              "      <td>-3.004535</td>\n",
              "      <td>0.283607</td>\n",
              "      <td>1.518465</td>\n",
              "      <td>-1.621878</td>\n",
              "      <td>0.144297</td>\n",
              "      <td>0.017107</td>\n",
              "      <td>-0.888414</td>\n",
              "      <td>-0.005970</td>\n",
              "      <td>0</td>\n",
              "      <td>0</td>\n",
              "      <td>0</td>\n",
              "    </tr>\n",
              "    <tr>\n",
              "      <th>4</th>\n",
              "      <td>-1.730457</td>\n",
              "      <td>-1.460938</td>\n",
              "      <td>1.340745</td>\n",
              "      <td>0.332830</td>\n",
              "      <td>0.283607</td>\n",
              "      <td>1.518465</td>\n",
              "      <td>-0.873909</td>\n",
              "      <td>-1.303868</td>\n",
              "      <td>1.521777</td>\n",
              "      <td>1.834927</td>\n",
              "      <td>-0.712583</td>\n",
              "      <td>0</td>\n",
              "      <td>1</td>\n",
              "      <td>0</td>\n",
              "    </tr>\n",
              "    <tr>\n",
              "      <th>...</th>\n",
              "      <td>...</td>\n",
              "      <td>...</td>\n",
              "      <td>...</td>\n",
              "      <td>...</td>\n",
              "      <td>...</td>\n",
              "      <td>...</td>\n",
              "      <td>...</td>\n",
              "      <td>...</td>\n",
              "      <td>...</td>\n",
              "      <td>...</td>\n",
              "      <td>...</td>\n",
              "      <td>...</td>\n",
              "      <td>...</td>\n",
              "      <td>...</td>\n",
              "    </tr>\n",
              "    <tr>\n",
              "      <th>27995</th>\n",
              "      <td>1.729099</td>\n",
              "      <td>0.414711</td>\n",
              "      <td>0.513089</td>\n",
              "      <td>0.332830</td>\n",
              "      <td>0.283607</td>\n",
              "      <td>-0.658560</td>\n",
              "      <td>1.302000</td>\n",
              "      <td>-0.744349</td>\n",
              "      <td>-1.487563</td>\n",
              "      <td>-0.343746</td>\n",
              "      <td>-1.419197</td>\n",
              "      <td>1</td>\n",
              "      <td>1</td>\n",
              "      <td>1</td>\n",
              "    </tr>\n",
              "    <tr>\n",
              "      <th>27996</th>\n",
              "      <td>-0.719829</td>\n",
              "      <td>-0.171429</td>\n",
              "      <td>-0.149036</td>\n",
              "      <td>0.332830</td>\n",
              "      <td>0.283607</td>\n",
              "      <td>-0.658560</td>\n",
              "      <td>1.505992</td>\n",
              "      <td>1.000031</td>\n",
              "      <td>-0.090369</td>\n",
              "      <td>0.745591</td>\n",
              "      <td>1.407256</td>\n",
              "      <td>0</td>\n",
              "      <td>1</td>\n",
              "      <td>0</td>\n",
              "    </tr>\n",
              "    <tr>\n",
              "      <th>27997</th>\n",
              "      <td>1.077325</td>\n",
              "      <td>-1.519552</td>\n",
              "      <td>-0.811160</td>\n",
              "      <td>0.332830</td>\n",
              "      <td>0.283607</td>\n",
              "      <td>-0.658560</td>\n",
              "      <td>0.350040</td>\n",
              "      <td>0.352745</td>\n",
              "      <td>0.017107</td>\n",
              "      <td>-0.616080</td>\n",
              "      <td>0.700643</td>\n",
              "      <td>1</td>\n",
              "      <td>0</td>\n",
              "      <td>0</td>\n",
              "    </tr>\n",
              "    <tr>\n",
              "      <th>27998</th>\n",
              "      <td>1.561620</td>\n",
              "      <td>0.063027</td>\n",
              "      <td>0.513089</td>\n",
              "      <td>0.332830</td>\n",
              "      <td>0.283607</td>\n",
              "      <td>1.518465</td>\n",
              "      <td>-1.213895</td>\n",
              "      <td>-1.216100</td>\n",
              "      <td>-1.057657</td>\n",
              "      <td>1.834927</td>\n",
              "      <td>1.407256</td>\n",
              "      <td>0</td>\n",
              "      <td>1</td>\n",
              "      <td>0</td>\n",
              "    </tr>\n",
              "    <tr>\n",
              "      <th>27999</th>\n",
              "      <td>1.483733</td>\n",
              "      <td>-0.464499</td>\n",
              "      <td>-0.149036</td>\n",
              "      <td>0.332830</td>\n",
              "      <td>0.283607</td>\n",
              "      <td>-0.658560</td>\n",
              "      <td>-1.145898</td>\n",
              "      <td>0.594106</td>\n",
              "      <td>0.017107</td>\n",
              "      <td>-0.616080</td>\n",
              "      <td>-1.419197</td>\n",
              "      <td>1</td>\n",
              "      <td>1</td>\n",
              "      <td>1</td>\n",
              "    </tr>\n",
              "  </tbody>\n",
              "</table>\n",
              "<p>28000 rows × 14 columns</p>\n",
              "</div>\n",
              "      <button class=\"colab-df-convert\" onclick=\"convertToInteractive('df-6ddbce12-e7b0-4a3d-b17e-f3d046e2ffc4')\"\n",
              "              title=\"Convert this dataframe to an interactive table.\"\n",
              "              style=\"display:none;\">\n",
              "        \n",
              "  <svg xmlns=\"http://www.w3.org/2000/svg\" height=\"24px\"viewBox=\"0 0 24 24\"\n",
              "       width=\"24px\">\n",
              "    <path d=\"M0 0h24v24H0V0z\" fill=\"none\"/>\n",
              "    <path d=\"M18.56 5.44l.94 2.06.94-2.06 2.06-.94-2.06-.94-.94-2.06-.94 2.06-2.06.94zm-11 1L8.5 8.5l.94-2.06 2.06-.94-2.06-.94L8.5 2.5l-.94 2.06-2.06.94zm10 10l.94 2.06.94-2.06 2.06-.94-2.06-.94-.94-2.06-.94 2.06-2.06.94z\"/><path d=\"M17.41 7.96l-1.37-1.37c-.4-.4-.92-.59-1.43-.59-.52 0-1.04.2-1.43.59L10.3 9.45l-7.72 7.72c-.78.78-.78 2.05 0 2.83L4 21.41c.39.39.9.59 1.41.59.51 0 1.02-.2 1.41-.59l7.78-7.78 2.81-2.81c.8-.78.8-2.07 0-2.86zM5.41 20L4 18.59l7.72-7.72 1.47 1.35L5.41 20z\"/>\n",
              "  </svg>\n",
              "      </button>\n",
              "      \n",
              "  <style>\n",
              "    .colab-df-container {\n",
              "      display:flex;\n",
              "      flex-wrap:wrap;\n",
              "      gap: 12px;\n",
              "    }\n",
              "\n",
              "    .colab-df-convert {\n",
              "      background-color: #E8F0FE;\n",
              "      border: none;\n",
              "      border-radius: 50%;\n",
              "      cursor: pointer;\n",
              "      display: none;\n",
              "      fill: #1967D2;\n",
              "      height: 32px;\n",
              "      padding: 0 0 0 0;\n",
              "      width: 32px;\n",
              "    }\n",
              "\n",
              "    .colab-df-convert:hover {\n",
              "      background-color: #E2EBFA;\n",
              "      box-shadow: 0px 1px 2px rgba(60, 64, 67, 0.3), 0px 1px 3px 1px rgba(60, 64, 67, 0.15);\n",
              "      fill: #174EA6;\n",
              "    }\n",
              "\n",
              "    [theme=dark] .colab-df-convert {\n",
              "      background-color: #3B4455;\n",
              "      fill: #D2E3FC;\n",
              "    }\n",
              "\n",
              "    [theme=dark] .colab-df-convert:hover {\n",
              "      background-color: #434B5C;\n",
              "      box-shadow: 0px 1px 3px 1px rgba(0, 0, 0, 0.15);\n",
              "      filter: drop-shadow(0px 1px 2px rgba(0, 0, 0, 0.3));\n",
              "      fill: #FFFFFF;\n",
              "    }\n",
              "  </style>\n",
              "\n",
              "      <script>\n",
              "        const buttonEl =\n",
              "          document.querySelector('#df-6ddbce12-e7b0-4a3d-b17e-f3d046e2ffc4 button.colab-df-convert');\n",
              "        buttonEl.style.display =\n",
              "          google.colab.kernel.accessAllowed ? 'block' : 'none';\n",
              "\n",
              "        async function convertToInteractive(key) {\n",
              "          const element = document.querySelector('#df-6ddbce12-e7b0-4a3d-b17e-f3d046e2ffc4');\n",
              "          const dataTable =\n",
              "            await google.colab.kernel.invokeFunction('convertToInteractive',\n",
              "                                                     [key], {});\n",
              "          if (!dataTable) return;\n",
              "\n",
              "          const docLinkHtml = 'Like what you see? Visit the ' +\n",
              "            '<a target=\"_blank\" href=https://colab.research.google.com/notebooks/data_table.ipynb>data table notebook</a>'\n",
              "            + ' to learn more about interactive tables.';\n",
              "          element.innerHTML = '';\n",
              "          dataTable['output_type'] = 'display_data';\n",
              "          await google.colab.output.renderOutput(dataTable, element);\n",
              "          const docLink = document.createElement('div');\n",
              "          docLink.innerHTML = docLinkHtml;\n",
              "          element.appendChild(docLink);\n",
              "        }\n",
              "      </script>\n",
              "    </div>\n",
              "  </div>\n",
              "  "
            ]
          },
          "metadata": {},
          "execution_count": 113
        }
      ]
    },
    {
      "cell_type": "code",
      "source": [
        "test_data['rf_predict'].value_counts()"
      ],
      "metadata": {
        "outputId": "1273d021-1fcb-4c01-b345-f38c9dd16f3e",
        "colab": {
          "base_uri": "https://localhost:8080/",
          "height": 0
        },
        "id": "0CsLJxMAXtSg"
      },
      "execution_count": 114,
      "outputs": [
        {
          "output_type": "execute_result",
          "data": {
            "text/plain": [
              "0    15453\n",
              "1    12547\n",
              "Name: rf_predict, dtype: int64"
            ]
          },
          "metadata": {},
          "execution_count": 114
        }
      ]
    },
    {
      "cell_type": "markdown",
      "source": [
        "### K Nearest Neighbours"
      ],
      "metadata": {
        "id": "h2KvJS6aX8dE"
      }
    },
    {
      "cell_type": "code",
      "source": [
        "test_data['knn_predict'] = list(load_and_test('model/KNeighborsOver.pkl'))\n",
        "test_data"
      ],
      "metadata": {
        "outputId": "05a6d3db-f0b1-462b-f17c-1ee0103d0022",
        "colab": {
          "base_uri": "https://localhost:8080/",
          "height": 488
        },
        "id": "TkVlUbJdX8dE"
      },
      "execution_count": 115,
      "outputs": [
        {
          "output_type": "execute_result",
          "data": {
            "text/plain": [
              "         Income       Age  Experience  Married/Single  House_Ownership  \\\n",
              "0      0.837459  0.531939    1.506277        0.332830         0.283607   \n",
              "1     -1.312342 -1.460938   -0.811160        0.332830         0.283607   \n",
              "2      1.362288  0.004413    0.347558        0.332830         0.283607   \n",
              "3     -1.058526 -0.054201   -0.149036       -3.004535         0.283607   \n",
              "4     -1.730457 -1.460938    1.340745        0.332830         0.283607   \n",
              "...         ...       ...         ...             ...              ...   \n",
              "27995  1.729099  0.414711    0.513089        0.332830         0.283607   \n",
              "27996 -0.719829 -0.171429   -0.149036        0.332830         0.283607   \n",
              "27997  1.077325 -1.519552   -0.811160        0.332830         0.283607   \n",
              "27998  1.561620  0.063027    0.513089        0.332830         0.283607   \n",
              "27999  1.483733 -0.464499   -0.149036        0.332830         0.283607   \n",
              "\n",
              "       Car_Ownership  Profession      CITY     STATE  CURRENT_JOB_YRS  \\\n",
              "0          -0.658560    0.078051  0.254007  1.521777        -0.616080   \n",
              "1          -0.658560   -0.057943 -0.294540  0.017107        -0.343746   \n",
              "2          -0.658560    0.350040  1.449840  0.017107         0.745591   \n",
              "3           1.518465   -1.621878  0.144297  0.017107        -0.888414   \n",
              "4           1.518465   -0.873909 -1.303868  1.521777         1.834927   \n",
              "...              ...         ...       ...       ...              ...   \n",
              "27995      -0.658560    1.302000 -0.744349 -1.487563        -0.343746   \n",
              "27996      -0.658560    1.505992  1.000031 -0.090369         0.745591   \n",
              "27997      -0.658560    0.350040  0.352745  0.017107        -0.616080   \n",
              "27998       1.518465   -1.213895 -1.216100 -1.057657         1.834927   \n",
              "27999      -0.658560   -1.145898  0.594106  0.017107        -0.616080   \n",
              "\n",
              "       CURRENT_HOUSE_YRS  lr_predict  dt_predict  rf_predict  knn_predict  \n",
              "0               0.700643           0           1           1            0  \n",
              "1              -1.419197           1           1           1            1  \n",
              "2               1.407256           0           1           0            0  \n",
              "3              -0.005970           0           0           0            1  \n",
              "4              -0.712583           0           1           0            0  \n",
              "...                  ...         ...         ...         ...          ...  \n",
              "27995          -1.419197           1           1           1            1  \n",
              "27996           1.407256           0           1           0            0  \n",
              "27997           0.700643           1           0           0            1  \n",
              "27998           1.407256           0           1           0            0  \n",
              "27999          -1.419197           1           1           1            1  \n",
              "\n",
              "[28000 rows x 15 columns]"
            ],
            "text/html": [
              "\n",
              "  <div id=\"df-9d65e4d1-fd60-40e7-a4bb-99c1340849df\">\n",
              "    <div class=\"colab-df-container\">\n",
              "      <div>\n",
              "<style scoped>\n",
              "    .dataframe tbody tr th:only-of-type {\n",
              "        vertical-align: middle;\n",
              "    }\n",
              "\n",
              "    .dataframe tbody tr th {\n",
              "        vertical-align: top;\n",
              "    }\n",
              "\n",
              "    .dataframe thead th {\n",
              "        text-align: right;\n",
              "    }\n",
              "</style>\n",
              "<table border=\"1\" class=\"dataframe\">\n",
              "  <thead>\n",
              "    <tr style=\"text-align: right;\">\n",
              "      <th></th>\n",
              "      <th>Income</th>\n",
              "      <th>Age</th>\n",
              "      <th>Experience</th>\n",
              "      <th>Married/Single</th>\n",
              "      <th>House_Ownership</th>\n",
              "      <th>Car_Ownership</th>\n",
              "      <th>Profession</th>\n",
              "      <th>CITY</th>\n",
              "      <th>STATE</th>\n",
              "      <th>CURRENT_JOB_YRS</th>\n",
              "      <th>CURRENT_HOUSE_YRS</th>\n",
              "      <th>lr_predict</th>\n",
              "      <th>dt_predict</th>\n",
              "      <th>rf_predict</th>\n",
              "      <th>knn_predict</th>\n",
              "    </tr>\n",
              "  </thead>\n",
              "  <tbody>\n",
              "    <tr>\n",
              "      <th>0</th>\n",
              "      <td>0.837459</td>\n",
              "      <td>0.531939</td>\n",
              "      <td>1.506277</td>\n",
              "      <td>0.332830</td>\n",
              "      <td>0.283607</td>\n",
              "      <td>-0.658560</td>\n",
              "      <td>0.078051</td>\n",
              "      <td>0.254007</td>\n",
              "      <td>1.521777</td>\n",
              "      <td>-0.616080</td>\n",
              "      <td>0.700643</td>\n",
              "      <td>0</td>\n",
              "      <td>1</td>\n",
              "      <td>1</td>\n",
              "      <td>0</td>\n",
              "    </tr>\n",
              "    <tr>\n",
              "      <th>1</th>\n",
              "      <td>-1.312342</td>\n",
              "      <td>-1.460938</td>\n",
              "      <td>-0.811160</td>\n",
              "      <td>0.332830</td>\n",
              "      <td>0.283607</td>\n",
              "      <td>-0.658560</td>\n",
              "      <td>-0.057943</td>\n",
              "      <td>-0.294540</td>\n",
              "      <td>0.017107</td>\n",
              "      <td>-0.343746</td>\n",
              "      <td>-1.419197</td>\n",
              "      <td>1</td>\n",
              "      <td>1</td>\n",
              "      <td>1</td>\n",
              "      <td>1</td>\n",
              "    </tr>\n",
              "    <tr>\n",
              "      <th>2</th>\n",
              "      <td>1.362288</td>\n",
              "      <td>0.004413</td>\n",
              "      <td>0.347558</td>\n",
              "      <td>0.332830</td>\n",
              "      <td>0.283607</td>\n",
              "      <td>-0.658560</td>\n",
              "      <td>0.350040</td>\n",
              "      <td>1.449840</td>\n",
              "      <td>0.017107</td>\n",
              "      <td>0.745591</td>\n",
              "      <td>1.407256</td>\n",
              "      <td>0</td>\n",
              "      <td>1</td>\n",
              "      <td>0</td>\n",
              "      <td>0</td>\n",
              "    </tr>\n",
              "    <tr>\n",
              "      <th>3</th>\n",
              "      <td>-1.058526</td>\n",
              "      <td>-0.054201</td>\n",
              "      <td>-0.149036</td>\n",
              "      <td>-3.004535</td>\n",
              "      <td>0.283607</td>\n",
              "      <td>1.518465</td>\n",
              "      <td>-1.621878</td>\n",
              "      <td>0.144297</td>\n",
              "      <td>0.017107</td>\n",
              "      <td>-0.888414</td>\n",
              "      <td>-0.005970</td>\n",
              "      <td>0</td>\n",
              "      <td>0</td>\n",
              "      <td>0</td>\n",
              "      <td>1</td>\n",
              "    </tr>\n",
              "    <tr>\n",
              "      <th>4</th>\n",
              "      <td>-1.730457</td>\n",
              "      <td>-1.460938</td>\n",
              "      <td>1.340745</td>\n",
              "      <td>0.332830</td>\n",
              "      <td>0.283607</td>\n",
              "      <td>1.518465</td>\n",
              "      <td>-0.873909</td>\n",
              "      <td>-1.303868</td>\n",
              "      <td>1.521777</td>\n",
              "      <td>1.834927</td>\n",
              "      <td>-0.712583</td>\n",
              "      <td>0</td>\n",
              "      <td>1</td>\n",
              "      <td>0</td>\n",
              "      <td>0</td>\n",
              "    </tr>\n",
              "    <tr>\n",
              "      <th>...</th>\n",
              "      <td>...</td>\n",
              "      <td>...</td>\n",
              "      <td>...</td>\n",
              "      <td>...</td>\n",
              "      <td>...</td>\n",
              "      <td>...</td>\n",
              "      <td>...</td>\n",
              "      <td>...</td>\n",
              "      <td>...</td>\n",
              "      <td>...</td>\n",
              "      <td>...</td>\n",
              "      <td>...</td>\n",
              "      <td>...</td>\n",
              "      <td>...</td>\n",
              "      <td>...</td>\n",
              "    </tr>\n",
              "    <tr>\n",
              "      <th>27995</th>\n",
              "      <td>1.729099</td>\n",
              "      <td>0.414711</td>\n",
              "      <td>0.513089</td>\n",
              "      <td>0.332830</td>\n",
              "      <td>0.283607</td>\n",
              "      <td>-0.658560</td>\n",
              "      <td>1.302000</td>\n",
              "      <td>-0.744349</td>\n",
              "      <td>-1.487563</td>\n",
              "      <td>-0.343746</td>\n",
              "      <td>-1.419197</td>\n",
              "      <td>1</td>\n",
              "      <td>1</td>\n",
              "      <td>1</td>\n",
              "      <td>1</td>\n",
              "    </tr>\n",
              "    <tr>\n",
              "      <th>27996</th>\n",
              "      <td>-0.719829</td>\n",
              "      <td>-0.171429</td>\n",
              "      <td>-0.149036</td>\n",
              "      <td>0.332830</td>\n",
              "      <td>0.283607</td>\n",
              "      <td>-0.658560</td>\n",
              "      <td>1.505992</td>\n",
              "      <td>1.000031</td>\n",
              "      <td>-0.090369</td>\n",
              "      <td>0.745591</td>\n",
              "      <td>1.407256</td>\n",
              "      <td>0</td>\n",
              "      <td>1</td>\n",
              "      <td>0</td>\n",
              "      <td>0</td>\n",
              "    </tr>\n",
              "    <tr>\n",
              "      <th>27997</th>\n",
              "      <td>1.077325</td>\n",
              "      <td>-1.519552</td>\n",
              "      <td>-0.811160</td>\n",
              "      <td>0.332830</td>\n",
              "      <td>0.283607</td>\n",
              "      <td>-0.658560</td>\n",
              "      <td>0.350040</td>\n",
              "      <td>0.352745</td>\n",
              "      <td>0.017107</td>\n",
              "      <td>-0.616080</td>\n",
              "      <td>0.700643</td>\n",
              "      <td>1</td>\n",
              "      <td>0</td>\n",
              "      <td>0</td>\n",
              "      <td>1</td>\n",
              "    </tr>\n",
              "    <tr>\n",
              "      <th>27998</th>\n",
              "      <td>1.561620</td>\n",
              "      <td>0.063027</td>\n",
              "      <td>0.513089</td>\n",
              "      <td>0.332830</td>\n",
              "      <td>0.283607</td>\n",
              "      <td>1.518465</td>\n",
              "      <td>-1.213895</td>\n",
              "      <td>-1.216100</td>\n",
              "      <td>-1.057657</td>\n",
              "      <td>1.834927</td>\n",
              "      <td>1.407256</td>\n",
              "      <td>0</td>\n",
              "      <td>1</td>\n",
              "      <td>0</td>\n",
              "      <td>0</td>\n",
              "    </tr>\n",
              "    <tr>\n",
              "      <th>27999</th>\n",
              "      <td>1.483733</td>\n",
              "      <td>-0.464499</td>\n",
              "      <td>-0.149036</td>\n",
              "      <td>0.332830</td>\n",
              "      <td>0.283607</td>\n",
              "      <td>-0.658560</td>\n",
              "      <td>-1.145898</td>\n",
              "      <td>0.594106</td>\n",
              "      <td>0.017107</td>\n",
              "      <td>-0.616080</td>\n",
              "      <td>-1.419197</td>\n",
              "      <td>1</td>\n",
              "      <td>1</td>\n",
              "      <td>1</td>\n",
              "      <td>1</td>\n",
              "    </tr>\n",
              "  </tbody>\n",
              "</table>\n",
              "<p>28000 rows × 15 columns</p>\n",
              "</div>\n",
              "      <button class=\"colab-df-convert\" onclick=\"convertToInteractive('df-9d65e4d1-fd60-40e7-a4bb-99c1340849df')\"\n",
              "              title=\"Convert this dataframe to an interactive table.\"\n",
              "              style=\"display:none;\">\n",
              "        \n",
              "  <svg xmlns=\"http://www.w3.org/2000/svg\" height=\"24px\"viewBox=\"0 0 24 24\"\n",
              "       width=\"24px\">\n",
              "    <path d=\"M0 0h24v24H0V0z\" fill=\"none\"/>\n",
              "    <path d=\"M18.56 5.44l.94 2.06.94-2.06 2.06-.94-2.06-.94-.94-2.06-.94 2.06-2.06.94zm-11 1L8.5 8.5l.94-2.06 2.06-.94-2.06-.94L8.5 2.5l-.94 2.06-2.06.94zm10 10l.94 2.06.94-2.06 2.06-.94-2.06-.94-.94-2.06-.94 2.06-2.06.94z\"/><path d=\"M17.41 7.96l-1.37-1.37c-.4-.4-.92-.59-1.43-.59-.52 0-1.04.2-1.43.59L10.3 9.45l-7.72 7.72c-.78.78-.78 2.05 0 2.83L4 21.41c.39.39.9.59 1.41.59.51 0 1.02-.2 1.41-.59l7.78-7.78 2.81-2.81c.8-.78.8-2.07 0-2.86zM5.41 20L4 18.59l7.72-7.72 1.47 1.35L5.41 20z\"/>\n",
              "  </svg>\n",
              "      </button>\n",
              "      \n",
              "  <style>\n",
              "    .colab-df-container {\n",
              "      display:flex;\n",
              "      flex-wrap:wrap;\n",
              "      gap: 12px;\n",
              "    }\n",
              "\n",
              "    .colab-df-convert {\n",
              "      background-color: #E8F0FE;\n",
              "      border: none;\n",
              "      border-radius: 50%;\n",
              "      cursor: pointer;\n",
              "      display: none;\n",
              "      fill: #1967D2;\n",
              "      height: 32px;\n",
              "      padding: 0 0 0 0;\n",
              "      width: 32px;\n",
              "    }\n",
              "\n",
              "    .colab-df-convert:hover {\n",
              "      background-color: #E2EBFA;\n",
              "      box-shadow: 0px 1px 2px rgba(60, 64, 67, 0.3), 0px 1px 3px 1px rgba(60, 64, 67, 0.15);\n",
              "      fill: #174EA6;\n",
              "    }\n",
              "\n",
              "    [theme=dark] .colab-df-convert {\n",
              "      background-color: #3B4455;\n",
              "      fill: #D2E3FC;\n",
              "    }\n",
              "\n",
              "    [theme=dark] .colab-df-convert:hover {\n",
              "      background-color: #434B5C;\n",
              "      box-shadow: 0px 1px 3px 1px rgba(0, 0, 0, 0.15);\n",
              "      filter: drop-shadow(0px 1px 2px rgba(0, 0, 0, 0.3));\n",
              "      fill: #FFFFFF;\n",
              "    }\n",
              "  </style>\n",
              "\n",
              "      <script>\n",
              "        const buttonEl =\n",
              "          document.querySelector('#df-9d65e4d1-fd60-40e7-a4bb-99c1340849df button.colab-df-convert');\n",
              "        buttonEl.style.display =\n",
              "          google.colab.kernel.accessAllowed ? 'block' : 'none';\n",
              "\n",
              "        async function convertToInteractive(key) {\n",
              "          const element = document.querySelector('#df-9d65e4d1-fd60-40e7-a4bb-99c1340849df');\n",
              "          const dataTable =\n",
              "            await google.colab.kernel.invokeFunction('convertToInteractive',\n",
              "                                                     [key], {});\n",
              "          if (!dataTable) return;\n",
              "\n",
              "          const docLinkHtml = 'Like what you see? Visit the ' +\n",
              "            '<a target=\"_blank\" href=https://colab.research.google.com/notebooks/data_table.ipynb>data table notebook</a>'\n",
              "            + ' to learn more about interactive tables.';\n",
              "          element.innerHTML = '';\n",
              "          dataTable['output_type'] = 'display_data';\n",
              "          await google.colab.output.renderOutput(dataTable, element);\n",
              "          const docLink = document.createElement('div');\n",
              "          docLink.innerHTML = docLinkHtml;\n",
              "          element.appendChild(docLink);\n",
              "        }\n",
              "      </script>\n",
              "    </div>\n",
              "  </div>\n",
              "  "
            ]
          },
          "metadata": {},
          "execution_count": 115
        }
      ]
    },
    {
      "cell_type": "code",
      "source": [
        "test_data['knn_predict'].value_counts()"
      ],
      "metadata": {
        "outputId": "1fb1e0d2-ea45-4760-fe14-1632ee4200a0",
        "colab": {
          "base_uri": "https://localhost:8080/",
          "height": 0
        },
        "id": "vTAYMCbeX8dF"
      },
      "execution_count": 116,
      "outputs": [
        {
          "output_type": "execute_result",
          "data": {
            "text/plain": [
              "0    15955\n",
              "1    12045\n",
              "Name: knn_predict, dtype: int64"
            ]
          },
          "metadata": {},
          "execution_count": 116
        }
      ]
    },
    {
      "cell_type": "markdown",
      "source": [
        "### Two Layer with Bias Network"
      ],
      "metadata": {
        "id": "eUXRvCA0ZQrj"
      }
    },
    {
      "cell_type": "code",
      "source": [
        "test_data['b_predict'] = [1 if item else 0 for sublist in list(load_and_test('model/TwoLayerBiasOver.pkl') > 0.5) for item in sublist]\n",
        "test_data"
      ],
      "metadata": {
        "outputId": "db12ce21-24dd-4849-9eab-c68458d19e63",
        "colab": {
          "base_uri": "https://localhost:8080/",
          "height": 505
        },
        "id": "keGvF-58ZQrk"
      },
      "execution_count": 117,
      "outputs": [
        {
          "output_type": "stream",
          "name": "stdout",
          "text": [
            "875/875 [==============================] - 2s 2ms/step\n"
          ]
        },
        {
          "output_type": "execute_result",
          "data": {
            "text/plain": [
              "         Income       Age  Experience  Married/Single  House_Ownership  \\\n",
              "0      0.837459  0.531939    1.506277        0.332830         0.283607   \n",
              "1     -1.312342 -1.460938   -0.811160        0.332830         0.283607   \n",
              "2      1.362288  0.004413    0.347558        0.332830         0.283607   \n",
              "3     -1.058526 -0.054201   -0.149036       -3.004535         0.283607   \n",
              "4     -1.730457 -1.460938    1.340745        0.332830         0.283607   \n",
              "...         ...       ...         ...             ...              ...   \n",
              "27995  1.729099  0.414711    0.513089        0.332830         0.283607   \n",
              "27996 -0.719829 -0.171429   -0.149036        0.332830         0.283607   \n",
              "27997  1.077325 -1.519552   -0.811160        0.332830         0.283607   \n",
              "27998  1.561620  0.063027    0.513089        0.332830         0.283607   \n",
              "27999  1.483733 -0.464499   -0.149036        0.332830         0.283607   \n",
              "\n",
              "       Car_Ownership  Profession      CITY     STATE  CURRENT_JOB_YRS  \\\n",
              "0          -0.658560    0.078051  0.254007  1.521777        -0.616080   \n",
              "1          -0.658560   -0.057943 -0.294540  0.017107        -0.343746   \n",
              "2          -0.658560    0.350040  1.449840  0.017107         0.745591   \n",
              "3           1.518465   -1.621878  0.144297  0.017107        -0.888414   \n",
              "4           1.518465   -0.873909 -1.303868  1.521777         1.834927   \n",
              "...              ...         ...       ...       ...              ...   \n",
              "27995      -0.658560    1.302000 -0.744349 -1.487563        -0.343746   \n",
              "27996      -0.658560    1.505992  1.000031 -0.090369         0.745591   \n",
              "27997      -0.658560    0.350040  0.352745  0.017107        -0.616080   \n",
              "27998       1.518465   -1.213895 -1.216100 -1.057657         1.834927   \n",
              "27999      -0.658560   -1.145898  0.594106  0.017107        -0.616080   \n",
              "\n",
              "       CURRENT_HOUSE_YRS  lr_predict  dt_predict  rf_predict  knn_predict  \\\n",
              "0               0.700643           0           1           1            0   \n",
              "1              -1.419197           1           1           1            1   \n",
              "2               1.407256           0           1           0            0   \n",
              "3              -0.005970           0           0           0            1   \n",
              "4              -0.712583           0           1           0            0   \n",
              "...                  ...         ...         ...         ...          ...   \n",
              "27995          -1.419197           1           1           1            1   \n",
              "27996           1.407256           0           1           0            0   \n",
              "27997           0.700643           1           0           0            1   \n",
              "27998           1.407256           0           1           0            0   \n",
              "27999          -1.419197           1           1           1            1   \n",
              "\n",
              "       b_predict  \n",
              "0              1  \n",
              "1              1  \n",
              "2              1  \n",
              "3              1  \n",
              "4              0  \n",
              "...          ...  \n",
              "27995          1  \n",
              "27996          0  \n",
              "27997          1  \n",
              "27998          0  \n",
              "27999          1  \n",
              "\n",
              "[28000 rows x 16 columns]"
            ],
            "text/html": [
              "\n",
              "  <div id=\"df-6b5fe2f8-a46b-4c27-b06e-68cd7c3684f9\">\n",
              "    <div class=\"colab-df-container\">\n",
              "      <div>\n",
              "<style scoped>\n",
              "    .dataframe tbody tr th:only-of-type {\n",
              "        vertical-align: middle;\n",
              "    }\n",
              "\n",
              "    .dataframe tbody tr th {\n",
              "        vertical-align: top;\n",
              "    }\n",
              "\n",
              "    .dataframe thead th {\n",
              "        text-align: right;\n",
              "    }\n",
              "</style>\n",
              "<table border=\"1\" class=\"dataframe\">\n",
              "  <thead>\n",
              "    <tr style=\"text-align: right;\">\n",
              "      <th></th>\n",
              "      <th>Income</th>\n",
              "      <th>Age</th>\n",
              "      <th>Experience</th>\n",
              "      <th>Married/Single</th>\n",
              "      <th>House_Ownership</th>\n",
              "      <th>Car_Ownership</th>\n",
              "      <th>Profession</th>\n",
              "      <th>CITY</th>\n",
              "      <th>STATE</th>\n",
              "      <th>CURRENT_JOB_YRS</th>\n",
              "      <th>CURRENT_HOUSE_YRS</th>\n",
              "      <th>lr_predict</th>\n",
              "      <th>dt_predict</th>\n",
              "      <th>rf_predict</th>\n",
              "      <th>knn_predict</th>\n",
              "      <th>b_predict</th>\n",
              "    </tr>\n",
              "  </thead>\n",
              "  <tbody>\n",
              "    <tr>\n",
              "      <th>0</th>\n",
              "      <td>0.837459</td>\n",
              "      <td>0.531939</td>\n",
              "      <td>1.506277</td>\n",
              "      <td>0.332830</td>\n",
              "      <td>0.283607</td>\n",
              "      <td>-0.658560</td>\n",
              "      <td>0.078051</td>\n",
              "      <td>0.254007</td>\n",
              "      <td>1.521777</td>\n",
              "      <td>-0.616080</td>\n",
              "      <td>0.700643</td>\n",
              "      <td>0</td>\n",
              "      <td>1</td>\n",
              "      <td>1</td>\n",
              "      <td>0</td>\n",
              "      <td>1</td>\n",
              "    </tr>\n",
              "    <tr>\n",
              "      <th>1</th>\n",
              "      <td>-1.312342</td>\n",
              "      <td>-1.460938</td>\n",
              "      <td>-0.811160</td>\n",
              "      <td>0.332830</td>\n",
              "      <td>0.283607</td>\n",
              "      <td>-0.658560</td>\n",
              "      <td>-0.057943</td>\n",
              "      <td>-0.294540</td>\n",
              "      <td>0.017107</td>\n",
              "      <td>-0.343746</td>\n",
              "      <td>-1.419197</td>\n",
              "      <td>1</td>\n",
              "      <td>1</td>\n",
              "      <td>1</td>\n",
              "      <td>1</td>\n",
              "      <td>1</td>\n",
              "    </tr>\n",
              "    <tr>\n",
              "      <th>2</th>\n",
              "      <td>1.362288</td>\n",
              "      <td>0.004413</td>\n",
              "      <td>0.347558</td>\n",
              "      <td>0.332830</td>\n",
              "      <td>0.283607</td>\n",
              "      <td>-0.658560</td>\n",
              "      <td>0.350040</td>\n",
              "      <td>1.449840</td>\n",
              "      <td>0.017107</td>\n",
              "      <td>0.745591</td>\n",
              "      <td>1.407256</td>\n",
              "      <td>0</td>\n",
              "      <td>1</td>\n",
              "      <td>0</td>\n",
              "      <td>0</td>\n",
              "      <td>1</td>\n",
              "    </tr>\n",
              "    <tr>\n",
              "      <th>3</th>\n",
              "      <td>-1.058526</td>\n",
              "      <td>-0.054201</td>\n",
              "      <td>-0.149036</td>\n",
              "      <td>-3.004535</td>\n",
              "      <td>0.283607</td>\n",
              "      <td>1.518465</td>\n",
              "      <td>-1.621878</td>\n",
              "      <td>0.144297</td>\n",
              "      <td>0.017107</td>\n",
              "      <td>-0.888414</td>\n",
              "      <td>-0.005970</td>\n",
              "      <td>0</td>\n",
              "      <td>0</td>\n",
              "      <td>0</td>\n",
              "      <td>1</td>\n",
              "      <td>1</td>\n",
              "    </tr>\n",
              "    <tr>\n",
              "      <th>4</th>\n",
              "      <td>-1.730457</td>\n",
              "      <td>-1.460938</td>\n",
              "      <td>1.340745</td>\n",
              "      <td>0.332830</td>\n",
              "      <td>0.283607</td>\n",
              "      <td>1.518465</td>\n",
              "      <td>-0.873909</td>\n",
              "      <td>-1.303868</td>\n",
              "      <td>1.521777</td>\n",
              "      <td>1.834927</td>\n",
              "      <td>-0.712583</td>\n",
              "      <td>0</td>\n",
              "      <td>1</td>\n",
              "      <td>0</td>\n",
              "      <td>0</td>\n",
              "      <td>0</td>\n",
              "    </tr>\n",
              "    <tr>\n",
              "      <th>...</th>\n",
              "      <td>...</td>\n",
              "      <td>...</td>\n",
              "      <td>...</td>\n",
              "      <td>...</td>\n",
              "      <td>...</td>\n",
              "      <td>...</td>\n",
              "      <td>...</td>\n",
              "      <td>...</td>\n",
              "      <td>...</td>\n",
              "      <td>...</td>\n",
              "      <td>...</td>\n",
              "      <td>...</td>\n",
              "      <td>...</td>\n",
              "      <td>...</td>\n",
              "      <td>...</td>\n",
              "      <td>...</td>\n",
              "    </tr>\n",
              "    <tr>\n",
              "      <th>27995</th>\n",
              "      <td>1.729099</td>\n",
              "      <td>0.414711</td>\n",
              "      <td>0.513089</td>\n",
              "      <td>0.332830</td>\n",
              "      <td>0.283607</td>\n",
              "      <td>-0.658560</td>\n",
              "      <td>1.302000</td>\n",
              "      <td>-0.744349</td>\n",
              "      <td>-1.487563</td>\n",
              "      <td>-0.343746</td>\n",
              "      <td>-1.419197</td>\n",
              "      <td>1</td>\n",
              "      <td>1</td>\n",
              "      <td>1</td>\n",
              "      <td>1</td>\n",
              "      <td>1</td>\n",
              "    </tr>\n",
              "    <tr>\n",
              "      <th>27996</th>\n",
              "      <td>-0.719829</td>\n",
              "      <td>-0.171429</td>\n",
              "      <td>-0.149036</td>\n",
              "      <td>0.332830</td>\n",
              "      <td>0.283607</td>\n",
              "      <td>-0.658560</td>\n",
              "      <td>1.505992</td>\n",
              "      <td>1.000031</td>\n",
              "      <td>-0.090369</td>\n",
              "      <td>0.745591</td>\n",
              "      <td>1.407256</td>\n",
              "      <td>0</td>\n",
              "      <td>1</td>\n",
              "      <td>0</td>\n",
              "      <td>0</td>\n",
              "      <td>0</td>\n",
              "    </tr>\n",
              "    <tr>\n",
              "      <th>27997</th>\n",
              "      <td>1.077325</td>\n",
              "      <td>-1.519552</td>\n",
              "      <td>-0.811160</td>\n",
              "      <td>0.332830</td>\n",
              "      <td>0.283607</td>\n",
              "      <td>-0.658560</td>\n",
              "      <td>0.350040</td>\n",
              "      <td>0.352745</td>\n",
              "      <td>0.017107</td>\n",
              "      <td>-0.616080</td>\n",
              "      <td>0.700643</td>\n",
              "      <td>1</td>\n",
              "      <td>0</td>\n",
              "      <td>0</td>\n",
              "      <td>1</td>\n",
              "      <td>1</td>\n",
              "    </tr>\n",
              "    <tr>\n",
              "      <th>27998</th>\n",
              "      <td>1.561620</td>\n",
              "      <td>0.063027</td>\n",
              "      <td>0.513089</td>\n",
              "      <td>0.332830</td>\n",
              "      <td>0.283607</td>\n",
              "      <td>1.518465</td>\n",
              "      <td>-1.213895</td>\n",
              "      <td>-1.216100</td>\n",
              "      <td>-1.057657</td>\n",
              "      <td>1.834927</td>\n",
              "      <td>1.407256</td>\n",
              "      <td>0</td>\n",
              "      <td>1</td>\n",
              "      <td>0</td>\n",
              "      <td>0</td>\n",
              "      <td>0</td>\n",
              "    </tr>\n",
              "    <tr>\n",
              "      <th>27999</th>\n",
              "      <td>1.483733</td>\n",
              "      <td>-0.464499</td>\n",
              "      <td>-0.149036</td>\n",
              "      <td>0.332830</td>\n",
              "      <td>0.283607</td>\n",
              "      <td>-0.658560</td>\n",
              "      <td>-1.145898</td>\n",
              "      <td>0.594106</td>\n",
              "      <td>0.017107</td>\n",
              "      <td>-0.616080</td>\n",
              "      <td>-1.419197</td>\n",
              "      <td>1</td>\n",
              "      <td>1</td>\n",
              "      <td>1</td>\n",
              "      <td>1</td>\n",
              "      <td>1</td>\n",
              "    </tr>\n",
              "  </tbody>\n",
              "</table>\n",
              "<p>28000 rows × 16 columns</p>\n",
              "</div>\n",
              "      <button class=\"colab-df-convert\" onclick=\"convertToInteractive('df-6b5fe2f8-a46b-4c27-b06e-68cd7c3684f9')\"\n",
              "              title=\"Convert this dataframe to an interactive table.\"\n",
              "              style=\"display:none;\">\n",
              "        \n",
              "  <svg xmlns=\"http://www.w3.org/2000/svg\" height=\"24px\"viewBox=\"0 0 24 24\"\n",
              "       width=\"24px\">\n",
              "    <path d=\"M0 0h24v24H0V0z\" fill=\"none\"/>\n",
              "    <path d=\"M18.56 5.44l.94 2.06.94-2.06 2.06-.94-2.06-.94-.94-2.06-.94 2.06-2.06.94zm-11 1L8.5 8.5l.94-2.06 2.06-.94-2.06-.94L8.5 2.5l-.94 2.06-2.06.94zm10 10l.94 2.06.94-2.06 2.06-.94-2.06-.94-.94-2.06-.94 2.06-2.06.94z\"/><path d=\"M17.41 7.96l-1.37-1.37c-.4-.4-.92-.59-1.43-.59-.52 0-1.04.2-1.43.59L10.3 9.45l-7.72 7.72c-.78.78-.78 2.05 0 2.83L4 21.41c.39.39.9.59 1.41.59.51 0 1.02-.2 1.41-.59l7.78-7.78 2.81-2.81c.8-.78.8-2.07 0-2.86zM5.41 20L4 18.59l7.72-7.72 1.47 1.35L5.41 20z\"/>\n",
              "  </svg>\n",
              "      </button>\n",
              "      \n",
              "  <style>\n",
              "    .colab-df-container {\n",
              "      display:flex;\n",
              "      flex-wrap:wrap;\n",
              "      gap: 12px;\n",
              "    }\n",
              "\n",
              "    .colab-df-convert {\n",
              "      background-color: #E8F0FE;\n",
              "      border: none;\n",
              "      border-radius: 50%;\n",
              "      cursor: pointer;\n",
              "      display: none;\n",
              "      fill: #1967D2;\n",
              "      height: 32px;\n",
              "      padding: 0 0 0 0;\n",
              "      width: 32px;\n",
              "    }\n",
              "\n",
              "    .colab-df-convert:hover {\n",
              "      background-color: #E2EBFA;\n",
              "      box-shadow: 0px 1px 2px rgba(60, 64, 67, 0.3), 0px 1px 3px 1px rgba(60, 64, 67, 0.15);\n",
              "      fill: #174EA6;\n",
              "    }\n",
              "\n",
              "    [theme=dark] .colab-df-convert {\n",
              "      background-color: #3B4455;\n",
              "      fill: #D2E3FC;\n",
              "    }\n",
              "\n",
              "    [theme=dark] .colab-df-convert:hover {\n",
              "      background-color: #434B5C;\n",
              "      box-shadow: 0px 1px 3px 1px rgba(0, 0, 0, 0.15);\n",
              "      filter: drop-shadow(0px 1px 2px rgba(0, 0, 0, 0.3));\n",
              "      fill: #FFFFFF;\n",
              "    }\n",
              "  </style>\n",
              "\n",
              "      <script>\n",
              "        const buttonEl =\n",
              "          document.querySelector('#df-6b5fe2f8-a46b-4c27-b06e-68cd7c3684f9 button.colab-df-convert');\n",
              "        buttonEl.style.display =\n",
              "          google.colab.kernel.accessAllowed ? 'block' : 'none';\n",
              "\n",
              "        async function convertToInteractive(key) {\n",
              "          const element = document.querySelector('#df-6b5fe2f8-a46b-4c27-b06e-68cd7c3684f9');\n",
              "          const dataTable =\n",
              "            await google.colab.kernel.invokeFunction('convertToInteractive',\n",
              "                                                     [key], {});\n",
              "          if (!dataTable) return;\n",
              "\n",
              "          const docLinkHtml = 'Like what you see? Visit the ' +\n",
              "            '<a target=\"_blank\" href=https://colab.research.google.com/notebooks/data_table.ipynb>data table notebook</a>'\n",
              "            + ' to learn more about interactive tables.';\n",
              "          element.innerHTML = '';\n",
              "          dataTable['output_type'] = 'display_data';\n",
              "          await google.colab.output.renderOutput(dataTable, element);\n",
              "          const docLink = document.createElement('div');\n",
              "          docLink.innerHTML = docLinkHtml;\n",
              "          element.appendChild(docLink);\n",
              "        }\n",
              "      </script>\n",
              "    </div>\n",
              "  </div>\n",
              "  "
            ]
          },
          "metadata": {},
          "execution_count": 117
        }
      ]
    },
    {
      "cell_type": "code",
      "source": [
        "test_data['b_predict'].value_counts()"
      ],
      "metadata": {
        "outputId": "f6c05766-a86f-426a-f391-a5a9766e1834",
        "colab": {
          "base_uri": "https://localhost:8080/",
          "height": 0
        },
        "id": "GVO___bPZQrl"
      },
      "execution_count": 118,
      "outputs": [
        {
          "output_type": "execute_result",
          "data": {
            "text/plain": [
              "1    14700\n",
              "0    13300\n",
              "Name: b_predict, dtype: int64"
            ]
          },
          "metadata": {},
          "execution_count": 118
        }
      ]
    },
    {
      "cell_type": "markdown",
      "source": [
        "## Saving Output Dataset"
      ],
      "metadata": {
        "id": "pe39I7NSOcvt"
      }
    },
    {
      "cell_type": "code",
      "source": [
        "predicted_data = pd.DataFrame({\n",
        "    'Id': list(test_data.index + 1)\n",
        "})"
      ],
      "metadata": {
        "id": "boos0u21a4OU"
      },
      "execution_count": 119,
      "outputs": []
    },
    {
      "cell_type": "code",
      "source": [
        "predicted_data = pd.concat([predicted_data, test_data.iloc[:, 11:]], axis=1)\n",
        "predicted_data"
      ],
      "metadata": {
        "id": "MTxDHohgbLjy",
        "outputId": "f774aae1-87a9-4969-b6a4-1c796281688d",
        "colab": {
          "base_uri": "https://localhost:8080/",
          "height": 424
        }
      },
      "execution_count": 120,
      "outputs": [
        {
          "output_type": "execute_result",
          "data": {
            "text/plain": [
              "          Id  lr_predict  dt_predict  rf_predict  knn_predict  b_predict\n",
              "0          1           0           1           1            0          1\n",
              "1          2           1           1           1            1          1\n",
              "2          3           0           1           0            0          1\n",
              "3          4           0           0           0            1          1\n",
              "4          5           0           1           0            0          0\n",
              "...      ...         ...         ...         ...          ...        ...\n",
              "27995  27996           1           1           1            1          1\n",
              "27996  27997           0           1           0            0          0\n",
              "27997  27998           1           0           0            1          1\n",
              "27998  27999           0           1           0            0          0\n",
              "27999  28000           1           1           1            1          1\n",
              "\n",
              "[28000 rows x 6 columns]"
            ],
            "text/html": [
              "\n",
              "  <div id=\"df-f95e6b39-e64b-45de-9947-30265c570d89\">\n",
              "    <div class=\"colab-df-container\">\n",
              "      <div>\n",
              "<style scoped>\n",
              "    .dataframe tbody tr th:only-of-type {\n",
              "        vertical-align: middle;\n",
              "    }\n",
              "\n",
              "    .dataframe tbody tr th {\n",
              "        vertical-align: top;\n",
              "    }\n",
              "\n",
              "    .dataframe thead th {\n",
              "        text-align: right;\n",
              "    }\n",
              "</style>\n",
              "<table border=\"1\" class=\"dataframe\">\n",
              "  <thead>\n",
              "    <tr style=\"text-align: right;\">\n",
              "      <th></th>\n",
              "      <th>Id</th>\n",
              "      <th>lr_predict</th>\n",
              "      <th>dt_predict</th>\n",
              "      <th>rf_predict</th>\n",
              "      <th>knn_predict</th>\n",
              "      <th>b_predict</th>\n",
              "    </tr>\n",
              "  </thead>\n",
              "  <tbody>\n",
              "    <tr>\n",
              "      <th>0</th>\n",
              "      <td>1</td>\n",
              "      <td>0</td>\n",
              "      <td>1</td>\n",
              "      <td>1</td>\n",
              "      <td>0</td>\n",
              "      <td>1</td>\n",
              "    </tr>\n",
              "    <tr>\n",
              "      <th>1</th>\n",
              "      <td>2</td>\n",
              "      <td>1</td>\n",
              "      <td>1</td>\n",
              "      <td>1</td>\n",
              "      <td>1</td>\n",
              "      <td>1</td>\n",
              "    </tr>\n",
              "    <tr>\n",
              "      <th>2</th>\n",
              "      <td>3</td>\n",
              "      <td>0</td>\n",
              "      <td>1</td>\n",
              "      <td>0</td>\n",
              "      <td>0</td>\n",
              "      <td>1</td>\n",
              "    </tr>\n",
              "    <tr>\n",
              "      <th>3</th>\n",
              "      <td>4</td>\n",
              "      <td>0</td>\n",
              "      <td>0</td>\n",
              "      <td>0</td>\n",
              "      <td>1</td>\n",
              "      <td>1</td>\n",
              "    </tr>\n",
              "    <tr>\n",
              "      <th>4</th>\n",
              "      <td>5</td>\n",
              "      <td>0</td>\n",
              "      <td>1</td>\n",
              "      <td>0</td>\n",
              "      <td>0</td>\n",
              "      <td>0</td>\n",
              "    </tr>\n",
              "    <tr>\n",
              "      <th>...</th>\n",
              "      <td>...</td>\n",
              "      <td>...</td>\n",
              "      <td>...</td>\n",
              "      <td>...</td>\n",
              "      <td>...</td>\n",
              "      <td>...</td>\n",
              "    </tr>\n",
              "    <tr>\n",
              "      <th>27995</th>\n",
              "      <td>27996</td>\n",
              "      <td>1</td>\n",
              "      <td>1</td>\n",
              "      <td>1</td>\n",
              "      <td>1</td>\n",
              "      <td>1</td>\n",
              "    </tr>\n",
              "    <tr>\n",
              "      <th>27996</th>\n",
              "      <td>27997</td>\n",
              "      <td>0</td>\n",
              "      <td>1</td>\n",
              "      <td>0</td>\n",
              "      <td>0</td>\n",
              "      <td>0</td>\n",
              "    </tr>\n",
              "    <tr>\n",
              "      <th>27997</th>\n",
              "      <td>27998</td>\n",
              "      <td>1</td>\n",
              "      <td>0</td>\n",
              "      <td>0</td>\n",
              "      <td>1</td>\n",
              "      <td>1</td>\n",
              "    </tr>\n",
              "    <tr>\n",
              "      <th>27998</th>\n",
              "      <td>27999</td>\n",
              "      <td>0</td>\n",
              "      <td>1</td>\n",
              "      <td>0</td>\n",
              "      <td>0</td>\n",
              "      <td>0</td>\n",
              "    </tr>\n",
              "    <tr>\n",
              "      <th>27999</th>\n",
              "      <td>28000</td>\n",
              "      <td>1</td>\n",
              "      <td>1</td>\n",
              "      <td>1</td>\n",
              "      <td>1</td>\n",
              "      <td>1</td>\n",
              "    </tr>\n",
              "  </tbody>\n",
              "</table>\n",
              "<p>28000 rows × 6 columns</p>\n",
              "</div>\n",
              "      <button class=\"colab-df-convert\" onclick=\"convertToInteractive('df-f95e6b39-e64b-45de-9947-30265c570d89')\"\n",
              "              title=\"Convert this dataframe to an interactive table.\"\n",
              "              style=\"display:none;\">\n",
              "        \n",
              "  <svg xmlns=\"http://www.w3.org/2000/svg\" height=\"24px\"viewBox=\"0 0 24 24\"\n",
              "       width=\"24px\">\n",
              "    <path d=\"M0 0h24v24H0V0z\" fill=\"none\"/>\n",
              "    <path d=\"M18.56 5.44l.94 2.06.94-2.06 2.06-.94-2.06-.94-.94-2.06-.94 2.06-2.06.94zm-11 1L8.5 8.5l.94-2.06 2.06-.94-2.06-.94L8.5 2.5l-.94 2.06-2.06.94zm10 10l.94 2.06.94-2.06 2.06-.94-2.06-.94-.94-2.06-.94 2.06-2.06.94z\"/><path d=\"M17.41 7.96l-1.37-1.37c-.4-.4-.92-.59-1.43-.59-.52 0-1.04.2-1.43.59L10.3 9.45l-7.72 7.72c-.78.78-.78 2.05 0 2.83L4 21.41c.39.39.9.59 1.41.59.51 0 1.02-.2 1.41-.59l7.78-7.78 2.81-2.81c.8-.78.8-2.07 0-2.86zM5.41 20L4 18.59l7.72-7.72 1.47 1.35L5.41 20z\"/>\n",
              "  </svg>\n",
              "      </button>\n",
              "      \n",
              "  <style>\n",
              "    .colab-df-container {\n",
              "      display:flex;\n",
              "      flex-wrap:wrap;\n",
              "      gap: 12px;\n",
              "    }\n",
              "\n",
              "    .colab-df-convert {\n",
              "      background-color: #E8F0FE;\n",
              "      border: none;\n",
              "      border-radius: 50%;\n",
              "      cursor: pointer;\n",
              "      display: none;\n",
              "      fill: #1967D2;\n",
              "      height: 32px;\n",
              "      padding: 0 0 0 0;\n",
              "      width: 32px;\n",
              "    }\n",
              "\n",
              "    .colab-df-convert:hover {\n",
              "      background-color: #E2EBFA;\n",
              "      box-shadow: 0px 1px 2px rgba(60, 64, 67, 0.3), 0px 1px 3px 1px rgba(60, 64, 67, 0.15);\n",
              "      fill: #174EA6;\n",
              "    }\n",
              "\n",
              "    [theme=dark] .colab-df-convert {\n",
              "      background-color: #3B4455;\n",
              "      fill: #D2E3FC;\n",
              "    }\n",
              "\n",
              "    [theme=dark] .colab-df-convert:hover {\n",
              "      background-color: #434B5C;\n",
              "      box-shadow: 0px 1px 3px 1px rgba(0, 0, 0, 0.15);\n",
              "      filter: drop-shadow(0px 1px 2px rgba(0, 0, 0, 0.3));\n",
              "      fill: #FFFFFF;\n",
              "    }\n",
              "  </style>\n",
              "\n",
              "      <script>\n",
              "        const buttonEl =\n",
              "          document.querySelector('#df-f95e6b39-e64b-45de-9947-30265c570d89 button.colab-df-convert');\n",
              "        buttonEl.style.display =\n",
              "          google.colab.kernel.accessAllowed ? 'block' : 'none';\n",
              "\n",
              "        async function convertToInteractive(key) {\n",
              "          const element = document.querySelector('#df-f95e6b39-e64b-45de-9947-30265c570d89');\n",
              "          const dataTable =\n",
              "            await google.colab.kernel.invokeFunction('convertToInteractive',\n",
              "                                                     [key], {});\n",
              "          if (!dataTable) return;\n",
              "\n",
              "          const docLinkHtml = 'Like what you see? Visit the ' +\n",
              "            '<a target=\"_blank\" href=https://colab.research.google.com/notebooks/data_table.ipynb>data table notebook</a>'\n",
              "            + ' to learn more about interactive tables.';\n",
              "          element.innerHTML = '';\n",
              "          dataTable['output_type'] = 'display_data';\n",
              "          await google.colab.output.renderOutput(dataTable, element);\n",
              "          const docLink = document.createElement('div');\n",
              "          docLink.innerHTML = docLinkHtml;\n",
              "          element.appendChild(docLink);\n",
              "        }\n",
              "      </script>\n",
              "    </div>\n",
              "  </div>\n",
              "  "
            ]
          },
          "metadata": {},
          "execution_count": 120
        }
      ]
    },
    {
      "cell_type": "code",
      "source": [
        "predicted_data.to_csv('data/Prediction on Test.csv')"
      ],
      "metadata": {
        "id": "xmsWLQOCb12E"
      },
      "execution_count": 121,
      "outputs": []
    }
  ],
  "metadata": {
    "kernelspec": {
      "display_name": "Python 3.8.10 ('env': venv)",
      "language": "python",
      "name": "python3"
    },
    "language_info": {
      "codemirror_mode": {
        "name": "ipython",
        "version": 3
      },
      "file_extension": ".py",
      "mimetype": "text/x-python",
      "name": "python",
      "nbconvert_exporter": "python",
      "pygments_lexer": "ipython3",
      "version": "3.8.10"
    },
    "orig_nbformat": 4,
    "vscode": {
      "interpreter": {
        "hash": "d848ddf3a22732fa7700e62a522dfc43363a915170877f7d00fb6114c3474eb1"
      }
    },
    "colab": {
      "provenance": []
    }
  },
  "nbformat": 4,
  "nbformat_minor": 0
}